{
  "nbformat": 4,
  "nbformat_minor": 0,
  "metadata": {
    "colab": {
      "provenance": [],
      "authorship_tag": "ABX9TyMvfh/VJ04HVQZdA3EK/1TH",
      "include_colab_link": true
    },
    "kernelspec": {
      "name": "python3",
      "display_name": "Python 3"
    },
    "language_info": {
      "name": "python"
    }
  },
  "cells": [
    {
      "cell_type": "markdown",
      "metadata": {
        "id": "view-in-github",
        "colab_type": "text"
      },
      "source": [
        "<a href=\"https://colab.research.google.com/github/SachinScaler/PythonModuleApril24/blob/main/Lists_Part_1.ipynb\" target=\"_parent\"><img src=\"https://colab.research.google.com/assets/colab-badge.svg\" alt=\"Open In Colab\"/></a>"
      ]
    },
    {
      "cell_type": "code",
      "execution_count": 2,
      "metadata": {
        "colab": {
          "base_uri": "https://localhost:8080/"
        },
        "id": "hnIlAmOLeT_Z",
        "outputId": "c6bf8a4e-207c-4a96-a4ab-e0d061fb4494"
      },
      "outputs": [
        {
          "output_type": "stream",
          "name": "stdout",
          "text": [
            "[]\n"
          ]
        }
      ],
      "source": [
        "virat_runs=[]\n",
        "print(virat_runs)"
      ]
    },
    {
      "cell_type": "code",
      "source": [
        "virat_runs=list()\n",
        "print(virat_runs)"
      ],
      "metadata": {
        "colab": {
          "base_uri": "https://localhost:8080/"
        },
        "id": "bCwmdbAMjP03",
        "outputId": "d5055aac-7b66-47fb-8d1d-92a41816f8ce"
      },
      "execution_count": 3,
      "outputs": [
        {
          "output_type": "stream",
          "name": "stdout",
          "text": [
            "[]\n"
          ]
        }
      ]
    },
    {
      "cell_type": "code",
      "source": [
        "virat_runs = [100,20,5,67,70]\n",
        "print(virat_runs)"
      ],
      "metadata": {
        "colab": {
          "base_uri": "https://localhost:8080/"
        },
        "id": "fGq6h01WjVBI",
        "outputId": "8b635b68-d0b9-4361-fa80-759c5fb8bb30"
      },
      "execution_count": 6,
      "outputs": [
        {
          "output_type": "stream",
          "name": "stdout",
          "text": [
            "[100, 20, 5, 67, 70]\n"
          ]
        }
      ]
    },
    {
      "cell_type": "markdown",
      "source": [
        "### Heterogeneous: You can store any type of data"
      ],
      "metadata": {
        "id": "SkpHjTjhjtX6"
      }
    },
    {
      "cell_type": "code",
      "source": [
        "virat_runs = [\"NA\",20,5,67,True]\n",
        "print(virat_runs)"
      ],
      "metadata": {
        "colab": {
          "base_uri": "https://localhost:8080/"
        },
        "id": "cBoT1baVjb-w",
        "outputId": "93401a52-ec4f-4cb5-ac79-35d9aa7117f3"
      },
      "execution_count": 8,
      "outputs": [
        {
          "output_type": "stream",
          "name": "stdout",
          "text": [
            "['NA', 20, 5, 67, True]\n"
          ]
        }
      ]
    },
    {
      "cell_type": "code",
      "source": [
        "list1 = [1,\"hi\", [10,20]]"
      ],
      "metadata": {
        "id": "n9k-lx0ej0gi"
      },
      "execution_count": 10,
      "outputs": []
    },
    {
      "cell_type": "code",
      "source": [
        "virat_runs = [100,20,5,67,70]\n",
        "print(virat_runs)"
      ],
      "metadata": {
        "colab": {
          "base_uri": "https://localhost:8080/"
        },
        "id": "4cQwAyDyj8GP",
        "outputId": "4c49ad81-ddc9-4ff2-c813-d573ebccbb2b"
      },
      "execution_count": 11,
      "outputs": [
        {
          "output_type": "stream",
          "name": "stdout",
          "text": [
            "[100, 20, 5, 67, 70]\n"
          ]
        }
      ]
    },
    {
      "cell_type": "markdown",
      "source": [
        "len()"
      ],
      "metadata": {
        "id": "U0FjPCBIke8R"
      }
    },
    {
      "cell_type": "code",
      "source": [
        "len(virat_runs)"
      ],
      "metadata": {
        "colab": {
          "base_uri": "https://localhost:8080/"
        },
        "id": "W77DjqPJkdTZ",
        "outputId": "42fa6dc9-781e-42b9-dcca-a0d7a92c7f86"
      },
      "execution_count": 12,
      "outputs": [
        {
          "output_type": "execute_result",
          "data": {
            "text/plain": [
              "5"
            ]
          },
          "metadata": {},
          "execution_count": 12
        }
      ]
    },
    {
      "cell_type": "markdown",
      "source": [
        "### Ordered"
      ],
      "metadata": {
        "id": "eo3zouVRkp-x"
      }
    },
    {
      "cell_type": "markdown",
      "source": [
        "Indexing"
      ],
      "metadata": {
        "id": "NXBIuv5ikzug"
      }
    },
    {
      "cell_type": "code",
      "source": [
        "virat_runs[0]"
      ],
      "metadata": {
        "colab": {
          "base_uri": "https://localhost:8080/"
        },
        "id": "vbr7TK6Hki50",
        "outputId": "25761c27-d4f9-4729-b562-46130bd5c902"
      },
      "execution_count": 13,
      "outputs": [
        {
          "output_type": "execute_result",
          "data": {
            "text/plain": [
              "100"
            ]
          },
          "metadata": {},
          "execution_count": 13
        }
      ]
    },
    {
      "cell_type": "code",
      "source": [
        "virat_runs[1]"
      ],
      "metadata": {
        "colab": {
          "base_uri": "https://localhost:8080/"
        },
        "id": "Q2LOS2L1k2RP",
        "outputId": "1f3c0acf-8b48-4ea0-86dc-f61e2b846e7e"
      },
      "execution_count": 14,
      "outputs": [
        {
          "output_type": "execute_result",
          "data": {
            "text/plain": [
              "20"
            ]
          },
          "metadata": {},
          "execution_count": 14
        }
      ]
    },
    {
      "cell_type": "code",
      "source": [
        "virat_runs[2]"
      ],
      "metadata": {
        "colab": {
          "base_uri": "https://localhost:8080/"
        },
        "id": "wF7DJSJDk64h",
        "outputId": "e9dbb806-4102-4ee3-ebe6-b228eb5df89f"
      },
      "execution_count": 15,
      "outputs": [
        {
          "output_type": "execute_result",
          "data": {
            "text/plain": [
              "5"
            ]
          },
          "metadata": {},
          "execution_count": 15
        }
      ]
    },
    {
      "cell_type": "code",
      "source": [
        "virat_runs[0]"
      ],
      "metadata": {
        "colab": {
          "base_uri": "https://localhost:8080/"
        },
        "id": "Ke4zGhDZlAz9",
        "outputId": "2daf3aea-451d-4137-8d85-ad435690b1cc"
      },
      "execution_count": 16,
      "outputs": [
        {
          "output_type": "execute_result",
          "data": {
            "text/plain": [
              "100"
            ]
          },
          "metadata": {},
          "execution_count": 16
        }
      ]
    },
    {
      "cell_type": "code",
      "source": [
        "virat_runs[0]"
      ],
      "metadata": {
        "colab": {
          "base_uri": "https://localhost:8080/"
        },
        "id": "ezr8Nk6PlDho",
        "outputId": "b7a49376-e270-4a26-94d4-1b4364d0a7c6"
      },
      "execution_count": 17,
      "outputs": [
        {
          "output_type": "execute_result",
          "data": {
            "text/plain": [
              "100"
            ]
          },
          "metadata": {},
          "execution_count": 17
        }
      ]
    },
    {
      "cell_type": "code",
      "source": [
        "len(virat_runs)"
      ],
      "metadata": {
        "colab": {
          "base_uri": "https://localhost:8080/"
        },
        "id": "6bdycpdpmFIL",
        "outputId": "28fd8270-033b-4cbf-90de-2b8128eab2b3"
      },
      "execution_count": 18,
      "outputs": [
        {
          "output_type": "execute_result",
          "data": {
            "text/plain": [
              "5"
            ]
          },
          "metadata": {},
          "execution_count": 18
        }
      ]
    },
    {
      "cell_type": "code",
      "source": [
        "virat_runs[4]"
      ],
      "metadata": {
        "colab": {
          "base_uri": "https://localhost:8080/"
        },
        "id": "YRdGOKxslJrj",
        "outputId": "2ff90dfd-683c-4b98-8eb8-6f8bbcaf242e"
      },
      "execution_count": 19,
      "outputs": [
        {
          "output_type": "execute_result",
          "data": {
            "text/plain": [
              "70"
            ]
          },
          "metadata": {},
          "execution_count": 19
        }
      ]
    },
    {
      "cell_type": "markdown",
      "source": [
        "#### IndexError"
      ],
      "metadata": {
        "id": "xoWWWB3pmXjK"
      }
    },
    {
      "cell_type": "code",
      "source": [
        "virat_runs[5]"
      ],
      "metadata": {
        "colab": {
          "base_uri": "https://localhost:8080/",
          "height": 142
        },
        "id": "ov0LQv6FmJdy",
        "outputId": "0a4549a4-f522-4e31-ef91-80e1400fe720"
      },
      "execution_count": 20,
      "outputs": [
        {
          "output_type": "error",
          "ename": "IndexError",
          "evalue": "list index out of range",
          "traceback": [
            "\u001b[0;31m---------------------------------------------------------------------------\u001b[0m",
            "\u001b[0;31mIndexError\u001b[0m                                Traceback (most recent call last)",
            "\u001b[0;32m<ipython-input-20-7b45e0ed03cd>\u001b[0m in \u001b[0;36m<cell line: 1>\u001b[0;34m()\u001b[0m\n\u001b[0;32m----> 1\u001b[0;31m \u001b[0mvirat_runs\u001b[0m\u001b[0;34m[\u001b[0m\u001b[0;36m5\u001b[0m\u001b[0;34m]\u001b[0m\u001b[0;34m\u001b[0m\u001b[0;34m\u001b[0m\u001b[0m\n\u001b[0m",
            "\u001b[0;31mIndexError\u001b[0m: list index out of range"
          ]
        }
      ]
    },
    {
      "cell_type": "code",
      "source": [
        "virat_runs[100]"
      ],
      "metadata": {
        "colab": {
          "base_uri": "https://localhost:8080/",
          "height": 142
        },
        "id": "7pEx4k5qmPNj",
        "outputId": "a0d198bf-0d20-4fa5-f46c-1297e0616c93"
      },
      "execution_count": 21,
      "outputs": [
        {
          "output_type": "error",
          "ename": "IndexError",
          "evalue": "list index out of range",
          "traceback": [
            "\u001b[0;31m---------------------------------------------------------------------------\u001b[0m",
            "\u001b[0;31mIndexError\u001b[0m                                Traceback (most recent call last)",
            "\u001b[0;32m<ipython-input-21-2501f1a617db>\u001b[0m in \u001b[0;36m<cell line: 1>\u001b[0;34m()\u001b[0m\n\u001b[0;32m----> 1\u001b[0;31m \u001b[0mvirat_runs\u001b[0m\u001b[0;34m[\u001b[0m\u001b[0;36m100\u001b[0m\u001b[0;34m]\u001b[0m\u001b[0;34m\u001b[0m\u001b[0;34m\u001b[0m\u001b[0m\n\u001b[0m",
            "\u001b[0;31mIndexError\u001b[0m: list index out of range"
          ]
        }
      ]
    },
    {
      "cell_type": "code",
      "source": [
        "print(virat_runs)"
      ],
      "metadata": {
        "colab": {
          "base_uri": "https://localhost:8080/"
        },
        "id": "5NEEVVdVmZpv",
        "outputId": "3c7763c9-e50e-4149-dcd8-e0ba900c945d"
      },
      "execution_count": 22,
      "outputs": [
        {
          "output_type": "stream",
          "name": "stdout",
          "text": [
            "[100, 20, 5, 67, 70]\n"
          ]
        }
      ]
    },
    {
      "cell_type": "markdown",
      "source": [
        "#### Latest/Recent Match Runs"
      ],
      "metadata": {
        "id": "i5Fy0juunIJ7"
      }
    },
    {
      "cell_type": "code",
      "source": [
        "print(virat_runs[-1])"
      ],
      "metadata": {
        "colab": {
          "base_uri": "https://localhost:8080/"
        },
        "id": "vfRiVi-CnDr9",
        "outputId": "3a7c1b3e-1482-4695-c483-9165a5e87a8e"
      },
      "execution_count": 23,
      "outputs": [
        {
          "output_type": "stream",
          "name": "stdout",
          "text": [
            "70\n"
          ]
        }
      ]
    },
    {
      "cell_type": "code",
      "source": [
        "print(virat_runs[4])"
      ],
      "metadata": {
        "colab": {
          "base_uri": "https://localhost:8080/"
        },
        "id": "JqKd5wIWnMEo",
        "outputId": "cf723b31-035f-4267-976d-3de2716befc1"
      },
      "execution_count": 25,
      "outputs": [
        {
          "output_type": "stream",
          "name": "stdout",
          "text": [
            "70\n"
          ]
        }
      ]
    },
    {
      "cell_type": "code",
      "source": [
        "virat_runs = [100,20,5,67,70,16]\n",
        "print(virat_runs)"
      ],
      "metadata": {
        "colab": {
          "base_uri": "https://localhost:8080/"
        },
        "id": "G8bB88XvnRdk",
        "outputId": "0be0c6cd-76f3-49c3-b26f-2af99330a911"
      },
      "execution_count": 26,
      "outputs": [
        {
          "output_type": "stream",
          "name": "stdout",
          "text": [
            "[100, 20, 5, 67, 70, 16]\n"
          ]
        }
      ]
    },
    {
      "cell_type": "code",
      "source": [
        "print(virat_runs[4])"
      ],
      "metadata": {
        "colab": {
          "base_uri": "https://localhost:8080/"
        },
        "id": "-p-QhEJqnXxJ",
        "outputId": "1e738705-ee8f-4c79-a544-e3b3c50d4d18"
      },
      "execution_count": 29,
      "outputs": [
        {
          "output_type": "stream",
          "name": "stdout",
          "text": [
            "70\n"
          ]
        }
      ]
    },
    {
      "cell_type": "code",
      "source": [
        "print(virat_runs[-1])"
      ],
      "metadata": {
        "colab": {
          "base_uri": "https://localhost:8080/"
        },
        "id": "CHnBNFzRnaHu",
        "outputId": "1b656c25-6f64-4826-9030-a221edcd8c29"
      },
      "execution_count": 28,
      "outputs": [
        {
          "output_type": "stream",
          "name": "stdout",
          "text": [
            "16\n"
          ]
        }
      ]
    },
    {
      "cell_type": "code",
      "source": [
        "print(virat_runs[len(virat_runs)-1])"
      ],
      "metadata": {
        "colab": {
          "base_uri": "https://localhost:8080/"
        },
        "id": "r7_lHV_anbsW",
        "outputId": "a7090e50-0f08-40de-a68a-74d3e4bd0ec0"
      },
      "execution_count": 30,
      "outputs": [
        {
          "output_type": "stream",
          "name": "stdout",
          "text": [
            "16\n"
          ]
        }
      ]
    },
    {
      "cell_type": "code",
      "source": [
        "print(virat_runs[-3],virat_runs[3])"
      ],
      "metadata": {
        "colab": {
          "base_uri": "https://localhost:8080/"
        },
        "id": "CA6ZIqK1nwi4",
        "outputId": "d49c0945-2e46-4ad7-b4db-1ef70ef0b5b1"
      },
      "execution_count": 31,
      "outputs": [
        {
          "output_type": "stream",
          "name": "stdout",
          "text": [
            "67 67\n"
          ]
        }
      ]
    },
    {
      "cell_type": "markdown",
      "source": [
        "Total Runs VK Has Scored"
      ],
      "metadata": {
        "id": "2aSAzNm-oSLn"
      }
    },
    {
      "cell_type": "code",
      "source": [
        "print(virat_runs[0]+virat_runs[1]+virat_runs[2]+virat_runs[3])"
      ],
      "metadata": {
        "colab": {
          "base_uri": "https://localhost:8080/"
        },
        "id": "PUNU4eLeoHZH",
        "outputId": "64907cc0-6617-4eb5-8723-7f7ff1986cb7"
      },
      "execution_count": 32,
      "outputs": [
        {
          "output_type": "stream",
          "name": "stdout",
          "text": [
            "192\n"
          ]
        }
      ]
    },
    {
      "cell_type": "markdown",
      "source": [
        "Can we iterate over list: Yes We can"
      ],
      "metadata": {
        "id": "RSf0ZXNNonnN"
      }
    },
    {
      "cell_type": "markdown",
      "source": [
        "How to add elements"
      ],
      "metadata": {
        "id": "mbpbe5m-o2ss"
      }
    },
    {
      "cell_type": "code",
      "source": [
        "virat_runs = [100,20,5,67,70,16, 75]\n",
        "print(virat_runs)"
      ],
      "metadata": {
        "id": "PSZxm8v7ocX0"
      },
      "execution_count": null,
      "outputs": []
    },
    {
      "cell_type": "markdown",
      "source": [
        "append Method: adds elements at the end of the list without creating it again"
      ],
      "metadata": {
        "id": "pQbLVIubo5ur"
      }
    },
    {
      "cell_type": "code",
      "source": [
        "virat_runs.append(200)\n",
        "print(virat_runs)"
      ],
      "metadata": {
        "colab": {
          "base_uri": "https://localhost:8080/"
        },
        "id": "ZTsCtkjKpAjB",
        "outputId": "25290836-a282-4be6-e784-c176573bbfa5"
      },
      "execution_count": 33,
      "outputs": [
        {
          "output_type": "stream",
          "name": "stdout",
          "text": [
            "[100, 20, 5, 67, 70, 16, 200]\n"
          ]
        }
      ]
    },
    {
      "cell_type": "code",
      "source": [
        "print(len(virat_runs))\n",
        "virat_runs.append(30)"
      ],
      "metadata": {
        "colab": {
          "base_uri": "https://localhost:8080/"
        },
        "id": "1kU48aG1pIAI",
        "outputId": "28bb3cb1-75b1-4971-ae0b-a4f87d153652"
      },
      "execution_count": 34,
      "outputs": [
        {
          "output_type": "stream",
          "name": "stdout",
          "text": [
            "7\n"
          ]
        }
      ]
    },
    {
      "cell_type": "code",
      "source": [
        "print(len(virat_runs))"
      ],
      "metadata": {
        "colab": {
          "base_uri": "https://localhost:8080/"
        },
        "id": "Q2L1q-KupRn8",
        "outputId": "8a90ea6e-0fdd-4dec-ccd1-00843fc444f8"
      },
      "execution_count": 35,
      "outputs": [
        {
          "output_type": "stream",
          "name": "stdout",
          "text": [
            "8\n"
          ]
        }
      ]
    },
    {
      "cell_type": "code",
      "source": [
        "print(virat_runs)"
      ],
      "metadata": {
        "colab": {
          "base_uri": "https://localhost:8080/"
        },
        "id": "UodcJHwRpVFO",
        "outputId": "e8d73ef9-f01b-4451-c649-812d8d385a4a"
      },
      "execution_count": 36,
      "outputs": [
        {
          "output_type": "stream",
          "name": "stdout",
          "text": [
            "[100, 20, 5, 67, 70, 16, 200, 30]\n"
          ]
        }
      ]
    },
    {
      "cell_type": "markdown",
      "source": [
        "insert"
      ],
      "metadata": {
        "id": "LTQ-L1CHpyKV"
      }
    },
    {
      "cell_type": "code",
      "source": [
        "virat_runs.insert(2, 20)"
      ],
      "metadata": {
        "id": "mi65BS1IpXjb"
      },
      "execution_count": 37,
      "outputs": []
    },
    {
      "cell_type": "code",
      "source": [
        "print(virat_runs)"
      ],
      "metadata": {
        "colab": {
          "base_uri": "https://localhost:8080/"
        },
        "id": "JUFJT0thp6oJ",
        "outputId": "e0eedf32-11d1-4eb6-8d78-8f9f3c9e9450"
      },
      "execution_count": 38,
      "outputs": [
        {
          "output_type": "stream",
          "name": "stdout",
          "text": [
            "[100, 20, 20, 5, 67, 70, 16, 200, 30]\n"
          ]
        }
      ]
    },
    {
      "cell_type": "markdown",
      "source": [
        "Update or replace value at some position\n"
      ],
      "metadata": {
        "id": "d5nUe2Bfqkso"
      }
    },
    {
      "cell_type": "code",
      "source": [
        "print(virat_runs[1])"
      ],
      "metadata": {
        "colab": {
          "base_uri": "https://localhost:8080/"
        },
        "id": "bEL1m_Gjq1Dm",
        "outputId": "7a4b0523-4d93-4388-bcb3-261e6f734694"
      },
      "execution_count": 42,
      "outputs": [
        {
          "output_type": "stream",
          "name": "stdout",
          "text": [
            "0\n"
          ]
        }
      ]
    },
    {
      "cell_type": "code",
      "source": [
        "virat_runs[1]=0"
      ],
      "metadata": {
        "id": "hp3H7bGup9L6"
      },
      "execution_count": 40,
      "outputs": []
    },
    {
      "cell_type": "code",
      "source": [
        "print(virat_runs)"
      ],
      "metadata": {
        "colab": {
          "base_uri": "https://localhost:8080/"
        },
        "id": "1B-nwOJ3qrdN",
        "outputId": "da28bf7e-fd8e-46f2-ad8a-eb2f6d1d19cf"
      },
      "execution_count": 41,
      "outputs": [
        {
          "output_type": "stream",
          "name": "stdout",
          "text": [
            "[100, 0, 20, 5, 67, 70, 16, 200, 30]\n"
          ]
        }
      ]
    },
    {
      "cell_type": "code",
      "source": [
        "virat_runs[-1]"
      ],
      "metadata": {
        "colab": {
          "base_uri": "https://localhost:8080/"
        },
        "id": "y_2DMx-YqxOP",
        "outputId": "8445143f-ec37-42f1-8d0e-583b718984a7"
      },
      "execution_count": 43,
      "outputs": [
        {
          "output_type": "execute_result",
          "data": {
            "text/plain": [
              "30"
            ]
          },
          "metadata": {},
          "execution_count": 43
        }
      ]
    },
    {
      "cell_type": "code",
      "source": [
        "virat_runs[-1]=100"
      ],
      "metadata": {
        "id": "vou9FR33rGHc"
      },
      "execution_count": 44,
      "outputs": []
    },
    {
      "cell_type": "code",
      "source": [
        "virat_runs[-1]"
      ],
      "metadata": {
        "colab": {
          "base_uri": "https://localhost:8080/"
        },
        "id": "z-z1wSkQrIcQ",
        "outputId": "f4fd83f9-6e15-46a3-e84f-79af1e853f45"
      },
      "execution_count": 45,
      "outputs": [
        {
          "output_type": "execute_result",
          "data": {
            "text/plain": [
              "100"
            ]
          },
          "metadata": {},
          "execution_count": 45
        }
      ]
    },
    {
      "cell_type": "code",
      "source": [
        "virat_runs"
      ],
      "metadata": {
        "colab": {
          "base_uri": "https://localhost:8080/"
        },
        "id": "R6ThYJaRrJS0",
        "outputId": "0a9b0635-6aa4-4583-93b3-afff5a3d2174"
      },
      "execution_count": 46,
      "outputs": [
        {
          "output_type": "execute_result",
          "data": {
            "text/plain": [
              "[100, 0, 20, 5, 67, 70, 16, 200, 100]"
            ]
          },
          "metadata": {},
          "execution_count": 46
        }
      ]
    },
    {
      "cell_type": "code",
      "source": [
        "print(len(virat_runs))"
      ],
      "metadata": {
        "colab": {
          "base_uri": "https://localhost:8080/"
        },
        "id": "Lv9BDLWCrKwT",
        "outputId": "26a81a13-8582-45fa-ae53-65ff2e12a883"
      },
      "execution_count": 47,
      "outputs": [
        {
          "output_type": "stream",
          "name": "stdout",
          "text": [
            "9\n"
          ]
        }
      ]
    },
    {
      "cell_type": "markdown",
      "source": [
        "### Delete runs"
      ],
      "metadata": {
        "id": "ePT4RLRfrVaX"
      }
    },
    {
      "cell_type": "code",
      "source": [
        "virat_runs.pop()"
      ],
      "metadata": {
        "colab": {
          "base_uri": "https://localhost:8080/"
        },
        "id": "LqOaeZuirUns",
        "outputId": "3dbc0990-e1ba-47a4-c01e-24c363728d74"
      },
      "execution_count": 48,
      "outputs": [
        {
          "output_type": "execute_result",
          "data": {
            "text/plain": [
              "100"
            ]
          },
          "metadata": {},
          "execution_count": 48
        }
      ]
    },
    {
      "cell_type": "code",
      "source": [
        "print(len(virat_runs))"
      ],
      "metadata": {
        "colab": {
          "base_uri": "https://localhost:8080/"
        },
        "id": "hKIT7-SVrZ04",
        "outputId": "e937f74d-3c51-4697-9bdd-fc509675a45c"
      },
      "execution_count": 49,
      "outputs": [
        {
          "output_type": "stream",
          "name": "stdout",
          "text": [
            "8\n"
          ]
        }
      ]
    },
    {
      "cell_type": "code",
      "source": [
        "print(virat_runs)"
      ],
      "metadata": {
        "colab": {
          "base_uri": "https://localhost:8080/"
        },
        "id": "I4WnTDWGrgYR",
        "outputId": "1372b315-4b8e-4bac-9254-a48a8440af19"
      },
      "execution_count": 50,
      "outputs": [
        {
          "output_type": "stream",
          "name": "stdout",
          "text": [
            "[100, 0, 20, 5, 67, 70, 16, 200]\n"
          ]
        }
      ]
    },
    {
      "cell_type": "code",
      "source": [
        "virat_runs.pop()"
      ],
      "metadata": {
        "colab": {
          "base_uri": "https://localhost:8080/"
        },
        "id": "sPEp6I_rrkOh",
        "outputId": "75dd9e4c-6187-4f21-f5bc-2d2398b1d45e"
      },
      "execution_count": 51,
      "outputs": [
        {
          "output_type": "execute_result",
          "data": {
            "text/plain": [
              "200"
            ]
          },
          "metadata": {},
          "execution_count": 51
        }
      ]
    },
    {
      "cell_type": "code",
      "source": [
        "print(virat_runs)"
      ],
      "metadata": {
        "colab": {
          "base_uri": "https://localhost:8080/"
        },
        "id": "U5r21s6mro6k",
        "outputId": "e38bf5ce-7eb9-4c3c-e292-18fd198236cf"
      },
      "execution_count": 52,
      "outputs": [
        {
          "output_type": "stream",
          "name": "stdout",
          "text": [
            "[100, 0, 20, 5, 67, 70, 16]\n"
          ]
        }
      ]
    },
    {
      "cell_type": "code",
      "source": [
        "virat_runs.pop()"
      ],
      "metadata": {
        "colab": {
          "base_uri": "https://localhost:8080/"
        },
        "id": "VoKuOA-grptU",
        "outputId": "33ccc1ea-827b-416d-8a7a-0dfa12618c84"
      },
      "execution_count": 53,
      "outputs": [
        {
          "output_type": "execute_result",
          "data": {
            "text/plain": [
              "16"
            ]
          },
          "metadata": {},
          "execution_count": 53
        }
      ]
    },
    {
      "cell_type": "code",
      "source": [
        "virat_runs.pop(2)"
      ],
      "metadata": {
        "colab": {
          "base_uri": "https://localhost:8080/"
        },
        "id": "9UTZXPUIr-73",
        "outputId": "5cff04df-6752-43d0-9498-8976f35c6341"
      },
      "execution_count": 54,
      "outputs": [
        {
          "output_type": "execute_result",
          "data": {
            "text/plain": [
              "20"
            ]
          },
          "metadata": {},
          "execution_count": 54
        }
      ]
    },
    {
      "cell_type": "code",
      "source": [
        "print(virat_runs)"
      ],
      "metadata": {
        "colab": {
          "base_uri": "https://localhost:8080/"
        },
        "id": "vgcle38XsOMF",
        "outputId": "25e43189-aebd-438c-c717-3b0b1c29b8a6"
      },
      "execution_count": 55,
      "outputs": [
        {
          "output_type": "stream",
          "name": "stdout",
          "text": [
            "[100, 0, 5, 67, 70]\n"
          ]
        }
      ]
    },
    {
      "cell_type": "markdown",
      "source": [
        "- remove\n",
        "- extend"
      ],
      "metadata": {
        "id": "AuC1dLxJsXlh"
      }
    },
    {
      "cell_type": "code",
      "source": [
        "virat_runs = [100,20,5,67,70,16, 75]\n",
        "print(virat_runs)"
      ],
      "metadata": {
        "colab": {
          "base_uri": "https://localhost:8080/"
        },
        "id": "BswAMSVosQzq",
        "outputId": "64a7d7c9-2be6-454c-903a-855c7b9ca0cf"
      },
      "execution_count": 56,
      "outputs": [
        {
          "output_type": "stream",
          "name": "stdout",
          "text": [
            "[100, 20, 5, 67, 70, 16, 75]\n"
          ]
        }
      ]
    },
    {
      "cell_type": "markdown",
      "source": [
        "- After Creating the list we can add/remove elements"
      ],
      "metadata": {
        "id": "uum_gznIvBjq"
      }
    },
    {
      "cell_type": "markdown",
      "source": [
        "### remove: takes the value itself and removes first occurence of the value"
      ],
      "metadata": {
        "id": "CdRhcVPxvQAZ"
      }
    },
    {
      "cell_type": "code",
      "source": [
        "print(virat_runs)"
      ],
      "metadata": {
        "colab": {
          "base_uri": "https://localhost:8080/"
        },
        "id": "5OrzcP0qu7qm",
        "outputId": "07942f0b-8f4d-4590-c670-3b4eef12fe33"
      },
      "execution_count": 57,
      "outputs": [
        {
          "output_type": "stream",
          "name": "stdout",
          "text": [
            "[100, 20, 5, 67, 70, 16, 75]\n"
          ]
        }
      ]
    },
    {
      "cell_type": "code",
      "source": [
        "virat_runs.remove(67)"
      ],
      "metadata": {
        "colab": {
          "base_uri": "https://localhost:8080/",
          "height": 142
        },
        "id": "FTdoMXuqvV1e",
        "outputId": "817cecca-642f-4dd4-aded-d183c080cf5c"
      },
      "execution_count": 65,
      "outputs": [
        {
          "output_type": "error",
          "ename": "ValueError",
          "evalue": "list.remove(x): x not in list",
          "traceback": [
            "\u001b[0;31m---------------------------------------------------------------------------\u001b[0m",
            "\u001b[0;31mValueError\u001b[0m                                Traceback (most recent call last)",
            "\u001b[0;32m<ipython-input-65-4b34c560d48d>\u001b[0m in \u001b[0;36m<cell line: 1>\u001b[0;34m()\u001b[0m\n\u001b[0;32m----> 1\u001b[0;31m \u001b[0mvirat_runs\u001b[0m\u001b[0;34m.\u001b[0m\u001b[0mremove\u001b[0m\u001b[0;34m(\u001b[0m\u001b[0;36m67\u001b[0m\u001b[0;34m)\u001b[0m\u001b[0;34m\u001b[0m\u001b[0;34m\u001b[0m\u001b[0m\n\u001b[0m",
            "\u001b[0;31mValueError\u001b[0m: list.remove(x): x not in list"
          ]
        }
      ]
    },
    {
      "cell_type": "code",
      "source": [
        "print(virat_runs)"
      ],
      "metadata": {
        "colab": {
          "base_uri": "https://localhost:8080/"
        },
        "id": "GJVcqm7BvenU",
        "outputId": "08cd7661-b0e3-4101-b269-a0936da2ce5c"
      },
      "execution_count": 66,
      "outputs": [
        {
          "output_type": "stream",
          "name": "stdout",
          "text": [
            "[100, 20, 5, 70, 75, 16]\n"
          ]
        }
      ]
    },
    {
      "cell_type": "code",
      "source": [
        "(virat_runs.remove(135))"
      ],
      "metadata": {
        "colab": {
          "base_uri": "https://localhost:8080/",
          "height": 142
        },
        "id": "i-N52aujvfwo",
        "outputId": "e1b40d09-f113-40c7-e629-9682bba5746e"
      },
      "execution_count": 67,
      "outputs": [
        {
          "output_type": "error",
          "ename": "ValueError",
          "evalue": "list.remove(x): x not in list",
          "traceback": [
            "\u001b[0;31m---------------------------------------------------------------------------\u001b[0m",
            "\u001b[0;31mValueError\u001b[0m                                Traceback (most recent call last)",
            "\u001b[0;32m<ipython-input-67-c49b27688824>\u001b[0m in \u001b[0;36m<cell line: 1>\u001b[0;34m()\u001b[0m\n\u001b[0;32m----> 1\u001b[0;31m \u001b[0;34m(\u001b[0m\u001b[0mvirat_runs\u001b[0m\u001b[0;34m.\u001b[0m\u001b[0mremove\u001b[0m\u001b[0;34m(\u001b[0m\u001b[0;36m135\u001b[0m\u001b[0;34m)\u001b[0m\u001b[0;34m)\u001b[0m\u001b[0;34m\u001b[0m\u001b[0;34m\u001b[0m\u001b[0m\n\u001b[0m",
            "\u001b[0;31mValueError\u001b[0m: list.remove(x): x not in list"
          ]
        }
      ]
    },
    {
      "cell_type": "code",
      "source": [
        "virat_runs = [100,20,5,67,70,16, 75,16]\n",
        "print(virat_runs)"
      ],
      "metadata": {
        "colab": {
          "base_uri": "https://localhost:8080/"
        },
        "id": "kkUk0ZizvmE3",
        "outputId": "6abf4b0a-d8ad-4f9c-f7ba-fa333a4673d8"
      },
      "execution_count": 68,
      "outputs": [
        {
          "output_type": "stream",
          "name": "stdout",
          "text": [
            "[100, 20, 5, 67, 70, 16, 75, 16]\n"
          ]
        }
      ]
    },
    {
      "cell_type": "code",
      "source": [
        "virat_runs.remove(16)"
      ],
      "metadata": {
        "id": "tr6tjgLmv0fZ"
      },
      "execution_count": 69,
      "outputs": []
    },
    {
      "cell_type": "code",
      "source": [
        "print(virat_runs)"
      ],
      "metadata": {
        "colab": {
          "base_uri": "https://localhost:8080/"
        },
        "id": "1sLvFS8Av5z-",
        "outputId": "d140b8d7-2c40-4f3a-d0e2-1712f6e597a7"
      },
      "execution_count": 70,
      "outputs": [
        {
          "output_type": "stream",
          "name": "stdout",
          "text": [
            "[100, 20, 5, 67, 70, 75, 16]\n"
          ]
        }
      ]
    },
    {
      "cell_type": "markdown",
      "source": [
        "how to we find elements index?\n",
        "\n",
        "### Index: tells us position of given value first occurence only"
      ],
      "metadata": {
        "id": "xIH2WsdewfCA"
      }
    },
    {
      "cell_type": "code",
      "source": [
        "virat_runs.index(16)"
      ],
      "metadata": {
        "colab": {
          "base_uri": "https://localhost:8080/"
        },
        "id": "VgxJ5fnXv7nD",
        "outputId": "ae8d31e4-9ce5-4c1e-b776-8e153aea14e1"
      },
      "execution_count": 71,
      "outputs": [
        {
          "output_type": "execute_result",
          "data": {
            "text/plain": [
              "6"
            ]
          },
          "metadata": {},
          "execution_count": 71
        }
      ]
    },
    {
      "cell_type": "code",
      "source": [
        "virat_runs.index(161)"
      ],
      "metadata": {
        "colab": {
          "base_uri": "https://localhost:8080/",
          "height": 142
        },
        "id": "jbwkaDuRwkKG",
        "outputId": "a0035512-deb2-463c-8293-94e87b98542f"
      },
      "execution_count": 72,
      "outputs": [
        {
          "output_type": "error",
          "ename": "ValueError",
          "evalue": "161 is not in list",
          "traceback": [
            "\u001b[0;31m---------------------------------------------------------------------------\u001b[0m",
            "\u001b[0;31mValueError\u001b[0m                                Traceback (most recent call last)",
            "\u001b[0;32m<ipython-input-72-56fd6cb33db5>\u001b[0m in \u001b[0;36m<cell line: 1>\u001b[0;34m()\u001b[0m\n\u001b[0;32m----> 1\u001b[0;31m \u001b[0mvirat_runs\u001b[0m\u001b[0;34m.\u001b[0m\u001b[0mindex\u001b[0m\u001b[0;34m(\u001b[0m\u001b[0;36m161\u001b[0m\u001b[0;34m)\u001b[0m\u001b[0;34m\u001b[0m\u001b[0;34m\u001b[0m\u001b[0m\n\u001b[0m",
            "\u001b[0;31mValueError\u001b[0m: 161 is not in list"
          ]
        }
      ]
    },
    {
      "cell_type": "markdown",
      "source": [
        "extend: takes another lists as input and extends"
      ],
      "metadata": {
        "id": "mUdEG7mMxAoV"
      }
    },
    {
      "cell_type": "code",
      "source": [
        "virat_runs_s1 = [100,20,5,67,70,16, 75,16]\n",
        "print(virat_runs_s1)"
      ],
      "metadata": {
        "colab": {
          "base_uri": "https://localhost:8080/"
        },
        "id": "7tPeUE-lw6WD",
        "outputId": "1a7e1fef-f30b-46e2-9baf-45af5c6cf357"
      },
      "execution_count": 76,
      "outputs": [
        {
          "output_type": "stream",
          "name": "stdout",
          "text": [
            "[100, 20, 5, 67, 70, 16, 75, 16]\n"
          ]
        }
      ]
    },
    {
      "cell_type": "code",
      "source": [
        "virat_runs_s2 = [90,22,43]\n",
        "print(virat_runs_s2)"
      ],
      "metadata": {
        "colab": {
          "base_uri": "https://localhost:8080/"
        },
        "id": "rZs-VqbTxMt2",
        "outputId": "827dd279-fe2f-4da4-e8c7-bc54a2bffa63"
      },
      "execution_count": 77,
      "outputs": [
        {
          "output_type": "stream",
          "name": "stdout",
          "text": [
            "[90, 22, 43]\n"
          ]
        }
      ]
    },
    {
      "cell_type": "markdown",
      "source": [
        "add all runs of s2 to s1"
      ],
      "metadata": {
        "id": "y0-4S68cxXBa"
      }
    },
    {
      "cell_type": "code",
      "source": [
        "virat_runs_s1.extend(virat_runs_s2)"
      ],
      "metadata": {
        "id": "qCSgMWR8xRab"
      },
      "execution_count": 78,
      "outputs": []
    },
    {
      "cell_type": "code",
      "source": [
        "virat_runs_s1"
      ],
      "metadata": {
        "colab": {
          "base_uri": "https://localhost:8080/"
        },
        "id": "dAjK7HyGxepI",
        "outputId": "afcee184-cb61-40f5-baa3-d228b335b240"
      },
      "execution_count": 79,
      "outputs": [
        {
          "output_type": "execute_result",
          "data": {
            "text/plain": [
              "[100, 20, 5, 67, 70, 16, 75, 16, 90, 22, 43]"
            ]
          },
          "metadata": {},
          "execution_count": 79
        }
      ]
    },
    {
      "cell_type": "code",
      "source": [
        "print(virat_runs_s2)"
      ],
      "metadata": {
        "colab": {
          "base_uri": "https://localhost:8080/"
        },
        "id": "fDCN37OxxfVt",
        "outputId": "a75bb2a1-de13-4019-ae51-6a10728472ee"
      },
      "execution_count": 80,
      "outputs": [
        {
          "output_type": "stream",
          "name": "stdout",
          "text": [
            "[90, 22, 43]\n"
          ]
        }
      ]
    },
    {
      "cell_type": "code",
      "source": [
        "list1 = [16,32]\n",
        "list1.extend([16,32])"
      ],
      "metadata": {
        "id": "iWNo7gNixj5w"
      },
      "execution_count": 81,
      "outputs": []
    },
    {
      "cell_type": "code",
      "source": [
        "print(list1)"
      ],
      "metadata": {
        "colab": {
          "base_uri": "https://localhost:8080/"
        },
        "id": "W0nwJneextwq",
        "outputId": "2f5ad1d0-4489-483e-8e42-10607e171f3b"
      },
      "execution_count": 82,
      "outputs": [
        {
          "output_type": "stream",
          "name": "stdout",
          "text": [
            "[16, 32, 16, 32]\n"
          ]
        }
      ]
    },
    {
      "cell_type": "code",
      "source": [
        "### adds the list itself as last element\n",
        "list1.append([16,32])"
      ],
      "metadata": {
        "id": "S0_f5G7qxueK"
      },
      "execution_count": 83,
      "outputs": []
    },
    {
      "cell_type": "code",
      "source": [
        "list1"
      ],
      "metadata": {
        "colab": {
          "base_uri": "https://localhost:8080/"
        },
        "id": "GcEy2vPSx0tM",
        "outputId": "ea8600a0-5523-43d9-ae7f-e2013fae73d0"
      },
      "execution_count": 84,
      "outputs": [
        {
          "output_type": "execute_result",
          "data": {
            "text/plain": [
              "[16, 32, 16, 32, [16, 32]]"
            ]
          },
          "metadata": {},
          "execution_count": 84
        }
      ]
    },
    {
      "cell_type": "markdown",
      "source": [
        "- count"
      ],
      "metadata": {
        "id": "ue049aqRyO5f"
      }
    },
    {
      "cell_type": "code",
      "source": [
        "virat_runs_s1 = [100,20,5,67,70,16, 75,16]\n",
        "print(virat_runs_s1)"
      ],
      "metadata": {
        "id": "uE0t3InNyObi"
      },
      "execution_count": null,
      "outputs": []
    },
    {
      "cell_type": "code",
      "source": [
        "virat_runs_s1.count(99)"
      ],
      "metadata": {
        "colab": {
          "base_uri": "https://localhost:8080/"
        },
        "id": "HGkmfs7Yx1cj",
        "outputId": "a1d01389-d58f-4222-f00c-4d1ebd49d05a"
      },
      "execution_count": 85,
      "outputs": [
        {
          "output_type": "execute_result",
          "data": {
            "text/plain": [
              "0"
            ]
          },
          "metadata": {},
          "execution_count": 85
        }
      ]
    },
    {
      "cell_type": "code",
      "source": [
        "virat_runs_s1.count(75)"
      ],
      "metadata": {
        "colab": {
          "base_uri": "https://localhost:8080/"
        },
        "id": "6sELWkcVyeQz",
        "outputId": "91c29fc2-1ed8-40e3-f8ae-6bd7871807dd"
      },
      "execution_count": 86,
      "outputs": [
        {
          "output_type": "execute_result",
          "data": {
            "text/plain": [
              "1"
            ]
          },
          "metadata": {},
          "execution_count": 86
        }
      ]
    },
    {
      "cell_type": "code",
      "source": [
        "virat_runs_s1.count(16)"
      ],
      "metadata": {
        "colab": {
          "base_uri": "https://localhost:8080/"
        },
        "id": "kXV20xpryjB-",
        "outputId": "68aeff23-bd99-4ee7-bf4b-5a050a7dcd25"
      },
      "execution_count": 87,
      "outputs": [
        {
          "output_type": "execute_result",
          "data": {
            "text/plain": [
              "2"
            ]
          },
          "metadata": {},
          "execution_count": 87
        }
      ]
    },
    {
      "cell_type": "markdown",
      "source": [
        "membership operator: **in**\n",
        "returns True or False"
      ],
      "metadata": {
        "id": "9YHeTKa7ypH5"
      }
    },
    {
      "cell_type": "code",
      "source": [
        "99 in virat_runs_s1"
      ],
      "metadata": {
        "colab": {
          "base_uri": "https://localhost:8080/"
        },
        "id": "rWRNOJoQym8X",
        "outputId": "541b0bbb-4ec7-4b07-dd19-a901233b3544"
      },
      "execution_count": 88,
      "outputs": [
        {
          "output_type": "execute_result",
          "data": {
            "text/plain": [
              "False"
            ]
          },
          "metadata": {},
          "execution_count": 88
        }
      ]
    },
    {
      "cell_type": "code",
      "source": [
        "\"Hi\" in virat_runs_s1"
      ],
      "metadata": {
        "colab": {
          "base_uri": "https://localhost:8080/"
        },
        "id": "1774BlBCy-fw",
        "outputId": "3c146ea3-6ea2-4578-e798-bbb95687a186"
      },
      "execution_count": 89,
      "outputs": [
        {
          "output_type": "execute_result",
          "data": {
            "text/plain": [
              "False"
            ]
          },
          "metadata": {},
          "execution_count": 89
        }
      ]
    },
    {
      "cell_type": "code",
      "source": [
        "16 in virat_runs_s1"
      ],
      "metadata": {
        "colab": {
          "base_uri": "https://localhost:8080/"
        },
        "id": "mmSftJEnzHyb",
        "outputId": "3eab8ee9-c380-4e0e-ed99-8821259a52a2"
      },
      "execution_count": 90,
      "outputs": [
        {
          "output_type": "execute_result",
          "data": {
            "text/plain": [
              "True"
            ]
          },
          "metadata": {},
          "execution_count": 90
        }
      ]
    },
    {
      "cell_type": "code",
      "source": [
        "\"v\" in \"virat\""
      ],
      "metadata": {
        "colab": {
          "base_uri": "https://localhost:8080/"
        },
        "id": "tfaXcAwJzLKC",
        "outputId": "4cca1aa6-07a7-4b7d-f258-29cb53cbf1a1"
      },
      "execution_count": 91,
      "outputs": [
        {
          "output_type": "execute_result",
          "data": {
            "text/plain": [
              "True"
            ]
          },
          "metadata": {},
          "execution_count": 91
        }
      ]
    },
    {
      "cell_type": "code",
      "source": [
        "\"z\" in \"virat\""
      ],
      "metadata": {
        "colab": {
          "base_uri": "https://localhost:8080/"
        },
        "id": "vQFKvqNfzUUb",
        "outputId": "a898e941-5eed-4366-a9f5-56179dbeb39d"
      },
      "execution_count": 92,
      "outputs": [
        {
          "output_type": "execute_result",
          "data": {
            "text/plain": [
              "False"
            ]
          },
          "metadata": {},
          "execution_count": 92
        }
      ]
    },
    {
      "cell_type": "code",
      "source": [
        "str(1) in str(101)"
      ],
      "metadata": {
        "colab": {
          "base_uri": "https://localhost:8080/"
        },
        "id": "NO8r0bJWzXAE",
        "outputId": "6dce019d-801e-4007-c739-6b656c2d8749"
      },
      "execution_count": 95,
      "outputs": [
        {
          "output_type": "execute_result",
          "data": {
            "text/plain": [
              "True"
            ]
          },
          "metadata": {},
          "execution_count": 95
        }
      ]
    },
    {
      "cell_type": "markdown",
      "source": [
        "Q: Can we use output of count as membership check?"
      ],
      "metadata": {
        "id": "L4vHeDYdzpCG"
      }
    },
    {
      "cell_type": "markdown",
      "source": [
        "#### Iterating over list"
      ],
      "metadata": {
        "id": "gKmZt3ghz1Li"
      }
    },
    {
      "cell_type": "markdown",
      "source": [
        "sum of all numbers in list"
      ],
      "metadata": {
        "id": "D8l05GeTz7yl"
      }
    },
    {
      "cell_type": "code",
      "source": [
        "virat_runs = [10,21,5,30,80]\n",
        "print(virat_runs[0]+virat_runs[1]+virat_runs[2]+virat_runs[3]+virat_runs[4])"
      ],
      "metadata": {
        "colab": {
          "base_uri": "https://localhost:8080/"
        },
        "id": "6CYt0_yfzZPf",
        "outputId": "c1949f83-0606-4032-8061-1d9bd6c42fc8"
      },
      "execution_count": 97,
      "outputs": [
        {
          "output_type": "stream",
          "name": "stdout",
          "text": [
            "146\n"
          ]
        }
      ]
    },
    {
      "cell_type": "markdown",
      "source": [
        "### List is an Iterable Data Structure"
      ],
      "metadata": {
        "id": "UkzY0tmB0RWf"
      }
    },
    {
      "cell_type": "code",
      "source": [
        "range(5)"
      ],
      "metadata": {
        "colab": {
          "base_uri": "https://localhost:8080/"
        },
        "id": "rw7bOuHb0rLf",
        "outputId": "0425a38f-40f6-465e-fe74-ac5a1c5a3f26"
      },
      "execution_count": 100,
      "outputs": [
        {
          "output_type": "execute_result",
          "data": {
            "text/plain": [
              "range(0, 5)"
            ]
          },
          "metadata": {},
          "execution_count": 100
        }
      ]
    },
    {
      "cell_type": "markdown",
      "source": [
        "range(5): is also an iterable"
      ],
      "metadata": {
        "id": "NiyHJjh100v6"
      }
    },
    {
      "cell_type": "code",
      "source": [
        "for i in range(5):\n",
        "    print(i)"
      ],
      "metadata": {
        "colab": {
          "base_uri": "https://localhost:8080/"
        },
        "id": "d1_hdDhe0t4f",
        "outputId": "324488bf-6008-4b6c-f1ba-0c5f8f50c408"
      },
      "execution_count": 102,
      "outputs": [
        {
          "output_type": "stream",
          "name": "stdout",
          "text": [
            "0\n",
            "1\n",
            "2\n",
            "3\n",
            "4\n"
          ]
        }
      ]
    },
    {
      "cell_type": "code",
      "source": [
        "virat_runs"
      ],
      "metadata": {
        "colab": {
          "base_uri": "https://localhost:8080/"
        },
        "id": "Ucp5P7Qc0_hv",
        "outputId": "4f1011fb-b6fc-42b9-bb42-31da9d2532f7"
      },
      "execution_count": 103,
      "outputs": [
        {
          "output_type": "execute_result",
          "data": {
            "text/plain": [
              "[10, 21, 5, 30, 80]"
            ]
          },
          "metadata": {},
          "execution_count": 103
        }
      ]
    },
    {
      "cell_type": "code",
      "source": [
        "for i in virat_runs:\n",
        "    print(i, end = \" \")"
      ],
      "metadata": {
        "colab": {
          "base_uri": "https://localhost:8080/"
        },
        "id": "KqQ9C-MS0GQy",
        "outputId": "46ce7f98-17f0-43e8-a970-cc195233c096"
      },
      "execution_count": 105,
      "outputs": [
        {
          "output_type": "stream",
          "name": "stdout",
          "text": [
            "10 21 5 30 80 "
          ]
        }
      ]
    },
    {
      "cell_type": "code",
      "source": [
        "sum1 = 0\n",
        "for i in virat_runs:\n",
        "    sum1= sum1+i\n",
        "print(sum1)"
      ],
      "metadata": {
        "colab": {
          "base_uri": "https://localhost:8080/"
        },
        "id": "69Frt6mg0ZsY",
        "outputId": "f6ad40de-99e7-44c7-c970-c4e2a3acce37"
      },
      "execution_count": 99,
      "outputs": [
        {
          "output_type": "stream",
          "name": "stdout",
          "text": [
            "146\n"
          ]
        }
      ]
    },
    {
      "cell_type": "code",
      "source": [],
      "metadata": {
        "id": "A7uQ08Bn1y6N"
      },
      "execution_count": null,
      "outputs": []
    },
    {
      "cell_type": "code",
      "source": [
        "virat_runs = [10,21,5,16,30,80,16]\n"
      ],
      "metadata": {
        "id": "5AIpkgPc1y9c"
      },
      "execution_count": null,
      "outputs": []
    },
    {
      "cell_type": "markdown",
      "source": [
        "Loop practice questions:\n",
        "- Question1:  sum of runs of all the matches where virat scored even runs\n",
        "\n",
        "- Question2:  Which matches did virat scored 16 runs\n",
        "\n",
        "- Question3:  sum of runs of the matches at even position\n",
        "\n",
        "\n",
        "**Solve these questions with both directly looping over list and using range to loop over list**\n",
        "\n",
        "\n"
      ],
      "metadata": {
        "id": "H8PFgivy1eJU"
      }
    },
    {
      "cell_type": "markdown",
      "source": [
        "#### Instead looping directly over the list, can we create an iterable using range function?"
      ],
      "metadata": {
        "id": "uyDJYFzq2iQ6"
      }
    },
    {
      "cell_type": "code",
      "source": [
        "for i in range(10):\n",
        "    print(i)"
      ],
      "metadata": {
        "colab": {
          "base_uri": "https://localhost:8080/"
        },
        "id": "Jxyfioa80oFI",
        "outputId": "3d177581-7283-4917-b9da-1b51558ec15b"
      },
      "execution_count": 106,
      "outputs": [
        {
          "output_type": "stream",
          "name": "stdout",
          "text": [
            "0\n",
            "1\n",
            "2\n",
            "3\n",
            "4\n",
            "5\n",
            "6\n",
            "7\n",
            "8\n",
            "9\n"
          ]
        }
      ]
    },
    {
      "cell_type": "code",
      "source": [
        "virat_runs[0]"
      ],
      "metadata": {
        "colab": {
          "base_uri": "https://localhost:8080/"
        },
        "id": "esf06Gge2w5R",
        "outputId": "343dd6b6-46b1-41c2-92e0-ac76ab50a79b"
      },
      "execution_count": 107,
      "outputs": [
        {
          "output_type": "execute_result",
          "data": {
            "text/plain": [
              "10"
            ]
          },
          "metadata": {},
          "execution_count": 107
        }
      ]
    },
    {
      "cell_type": "code",
      "source": [
        "for i in range(10):\n",
        "    print(virat_runs[i])"
      ],
      "metadata": {
        "colab": {
          "base_uri": "https://localhost:8080/",
          "height": 246
        },
        "id": "TKtmvhfo21f_",
        "outputId": "e22e8f5f-ab86-4c34-8824-61400737d805"
      },
      "execution_count": 108,
      "outputs": [
        {
          "output_type": "stream",
          "name": "stdout",
          "text": [
            "10\n",
            "21\n",
            "5\n",
            "30\n",
            "80\n"
          ]
        },
        {
          "output_type": "error",
          "ename": "IndexError",
          "evalue": "list index out of range",
          "traceback": [
            "\u001b[0;31m---------------------------------------------------------------------------\u001b[0m",
            "\u001b[0;31mIndexError\u001b[0m                                Traceback (most recent call last)",
            "\u001b[0;32m<ipython-input-108-62c06af848ab>\u001b[0m in \u001b[0;36m<cell line: 1>\u001b[0;34m()\u001b[0m\n\u001b[1;32m      1\u001b[0m \u001b[0;32mfor\u001b[0m \u001b[0mi\u001b[0m \u001b[0;32min\u001b[0m \u001b[0mrange\u001b[0m\u001b[0;34m(\u001b[0m\u001b[0;36m10\u001b[0m\u001b[0;34m)\u001b[0m\u001b[0;34m:\u001b[0m\u001b[0;34m\u001b[0m\u001b[0;34m\u001b[0m\u001b[0m\n\u001b[0;32m----> 2\u001b[0;31m     \u001b[0mprint\u001b[0m\u001b[0;34m(\u001b[0m\u001b[0mvirat_runs\u001b[0m\u001b[0;34m[\u001b[0m\u001b[0mi\u001b[0m\u001b[0;34m]\u001b[0m\u001b[0;34m)\u001b[0m\u001b[0;34m\u001b[0m\u001b[0;34m\u001b[0m\u001b[0m\n\u001b[0m",
            "\u001b[0;31mIndexError\u001b[0m: list index out of range"
          ]
        }
      ]
    },
    {
      "cell_type": "code",
      "source": [
        "for i in range(10):\n",
        "    print(i, virat_runs[i])"
      ],
      "metadata": {
        "colab": {
          "base_uri": "https://localhost:8080/",
          "height": 246
        },
        "id": "zpaXh-qg28ht",
        "outputId": "020d5d2c-b091-4a78-ecd2-afff086640b6"
      },
      "execution_count": 109,
      "outputs": [
        {
          "output_type": "stream",
          "name": "stdout",
          "text": [
            "0 10\n",
            "1 21\n",
            "2 5\n",
            "3 30\n",
            "4 80\n"
          ]
        },
        {
          "output_type": "error",
          "ename": "IndexError",
          "evalue": "list index out of range",
          "traceback": [
            "\u001b[0;31m---------------------------------------------------------------------------\u001b[0m",
            "\u001b[0;31mIndexError\u001b[0m                                Traceback (most recent call last)",
            "\u001b[0;32m<ipython-input-109-cbd078d0370b>\u001b[0m in \u001b[0;36m<cell line: 1>\u001b[0;34m()\u001b[0m\n\u001b[1;32m      1\u001b[0m \u001b[0;32mfor\u001b[0m \u001b[0mi\u001b[0m \u001b[0;32min\u001b[0m \u001b[0mrange\u001b[0m\u001b[0;34m(\u001b[0m\u001b[0;36m10\u001b[0m\u001b[0;34m)\u001b[0m\u001b[0;34m:\u001b[0m\u001b[0;34m\u001b[0m\u001b[0;34m\u001b[0m\u001b[0m\n\u001b[0;32m----> 2\u001b[0;31m     \u001b[0mprint\u001b[0m\u001b[0;34m(\u001b[0m\u001b[0mi\u001b[0m\u001b[0;34m,\u001b[0m \u001b[0mvirat_runs\u001b[0m\u001b[0;34m[\u001b[0m\u001b[0mi\u001b[0m\u001b[0;34m]\u001b[0m\u001b[0;34m)\u001b[0m\u001b[0;34m\u001b[0m\u001b[0;34m\u001b[0m\u001b[0m\n\u001b[0m",
            "\u001b[0;31mIndexError\u001b[0m: list index out of range"
          ]
        }
      ]
    },
    {
      "cell_type": "code",
      "source": [
        "for i in range(len(virat_runs)):\n",
        "    print(i)"
      ],
      "metadata": {
        "colab": {
          "base_uri": "https://localhost:8080/"
        },
        "id": "5hR5veDx3EEq",
        "outputId": "ededfa14-ebf1-4a8e-d363-383017e62675"
      },
      "execution_count": 110,
      "outputs": [
        {
          "output_type": "stream",
          "name": "stdout",
          "text": [
            "0\n",
            "1\n",
            "2\n",
            "3\n",
            "4\n"
          ]
        }
      ]
    },
    {
      "cell_type": "code",
      "source": [
        "for i in range(len(virat_runs)):\n",
        "    print(i,virat_runs[i])"
      ],
      "metadata": {
        "colab": {
          "base_uri": "https://localhost:8080/"
        },
        "id": "LUSWJoEZ3QaJ",
        "outputId": "a82352b8-38f6-4aa9-ab3e-f1d15f28be1b"
      },
      "execution_count": 111,
      "outputs": [
        {
          "output_type": "stream",
          "name": "stdout",
          "text": [
            "0 10\n",
            "1 21\n",
            "2 5\n",
            "3 30\n",
            "4 80\n"
          ]
        }
      ]
    },
    {
      "cell_type": "code",
      "source": [
        "my_list = [1, 2, 3, 4, 5]\n",
        "i = -1\n",
        "while i >= -5:\n",
        "    print(my_list[i],i)\n",
        "    i -= 1"
      ],
      "metadata": {
        "colab": {
          "base_uri": "https://localhost:8080/"
        },
        "id": "1T8fnmgs3V3o",
        "outputId": "9017a642-d837-4990-8e7b-f0f28bd98a21"
      },
      "execution_count": 112,
      "outputs": [
        {
          "output_type": "stream",
          "name": "stdout",
          "text": [
            "5 -1\n",
            "4 -2\n",
            "3 -3\n",
            "2 -4\n",
            "1 -5\n"
          ]
        }
      ]
    },
    {
      "cell_type": "code",
      "source": [
        "my_list = [10, 23, 33, 54, 85]\n",
        "i = 0\n",
        "while i < len(my_list):\n",
        "    print(my_list[i],i)\n",
        "    i += 1"
      ],
      "metadata": {
        "colab": {
          "base_uri": "https://localhost:8080/"
        },
        "id": "0GdzUL-T4hRH",
        "outputId": "d07c2b56-65b3-4bce-a8a0-aa278fb19394"
      },
      "execution_count": 115,
      "outputs": [
        {
          "output_type": "stream",
          "name": "stdout",
          "text": [
            "10 0\n",
            "23 1\n",
            "33 2\n",
            "54 3\n",
            "85 4\n"
          ]
        }
      ]
    },
    {
      "cell_type": "markdown",
      "source": [
        "Question:\n",
        "Easy Question:\n",
        "In runs_virat Calculate the average, min and max\n",
        "\n"
      ],
      "metadata": {
        "id": "98xdv-Wr5JTK"
      }
    },
    {
      "cell_type": "code",
      "source": [
        "my_list = [10, 23, 33, 54, 85]\n",
        "\n",
        "sum(my_list)"
      ],
      "metadata": {
        "colab": {
          "base_uri": "https://localhost:8080/"
        },
        "id": "upJF2KkJ4wtl",
        "outputId": "0b32be35-dfc5-40eb-c325-742e55a78e75"
      },
      "execution_count": 116,
      "outputs": [
        {
          "output_type": "execute_result",
          "data": {
            "text/plain": [
              "205"
            ]
          },
          "metadata": {},
          "execution_count": 116
        }
      ]
    },
    {
      "cell_type": "code",
      "source": [
        "min(my_list)"
      ],
      "metadata": {
        "colab": {
          "base_uri": "https://localhost:8080/"
        },
        "id": "sIMs3yqu5dTM",
        "outputId": "213d176f-2c32-4aad-b309-44ca2dcc2971"
      },
      "execution_count": 117,
      "outputs": [
        {
          "output_type": "execute_result",
          "data": {
            "text/plain": [
              "10"
            ]
          },
          "metadata": {},
          "execution_count": 117
        }
      ]
    },
    {
      "cell_type": "code",
      "source": [
        "max(my_list)"
      ],
      "metadata": {
        "colab": {
          "base_uri": "https://localhost:8080/"
        },
        "id": "dOm3m7HQ5eFp",
        "outputId": "1033a4b5-9679-46d9-d147-d4945d99983f"
      },
      "execution_count": 118,
      "outputs": [
        {
          "output_type": "execute_result",
          "data": {
            "text/plain": [
              "85"
            ]
          },
          "metadata": {},
          "execution_count": 118
        }
      ]
    },
    {
      "cell_type": "code",
      "source": [
        "my_list = [\"apple\", \"banana\", \"orange\"]\n",
        "for i in range(len(my_list)):\n",
        "    print(my_list[i] + \" is a fruit.\", end=\" \")"
      ],
      "metadata": {
        "colab": {
          "base_uri": "https://localhost:8080/"
        },
        "id": "7wWct3Il5i0Q",
        "outputId": "9cb9a616-b548-4c45-93a5-df9225dc1792"
      },
      "execution_count": 119,
      "outputs": [
        {
          "output_type": "stream",
          "name": "stdout",
          "text": [
            "apple is a fruit. banana is a fruit. orange is a fruit. "
          ]
        }
      ]
    },
    {
      "cell_type": "code",
      "source": [
        "my_list = [10, 20, 30, 40, 50]\n",
        "i = 0\n",
        "while i < len(my_list):\n",
        "    my_list[i] *= 2 # updating each element by value with 2\n",
        "    i += 1\n",
        "print(my_list)"
      ],
      "metadata": {
        "colab": {
          "base_uri": "https://localhost:8080/"
        },
        "id": "6X-i2gqf5y38",
        "outputId": "125d08ed-94f2-4f74-d108-e70bb31abe6d"
      },
      "execution_count": 120,
      "outputs": [
        {
          "output_type": "stream",
          "name": "stdout",
          "text": [
            "[20, 40, 60, 80, 100]\n"
          ]
        }
      ]
    },
    {
      "cell_type": "markdown",
      "source": [
        "How do i take input as list"
      ],
      "metadata": {
        "id": "EutNcPCp6dUN"
      }
    },
    {
      "cell_type": "code",
      "source": [
        "# step1 take length of list as a number\n",
        "len_list = int(input())"
      ],
      "metadata": {
        "colab": {
          "base_uri": "https://localhost:8080/"
        },
        "id": "GPL6-MEO6Ve2",
        "outputId": "d98d3e1e-60e7-411f-ec61-fa45b0003c47"
      },
      "execution_count": 121,
      "outputs": [
        {
          "name": "stdout",
          "output_type": "stream",
          "text": [
            "4\n"
          ]
        }
      ]
    },
    {
      "cell_type": "code",
      "source": [
        "# step 2: initialize blank list\n",
        "my_list = []\n",
        "\n",
        "# step 3: loop over length and append\n",
        "for i in range(len_list):\n",
        "    val = int(input())\n",
        "    my_list.append(val)"
      ],
      "metadata": {
        "colab": {
          "base_uri": "https://localhost:8080/"
        },
        "id": "Q1fo0SgJ6rXp",
        "outputId": "31a203f3-0833-4cf4-e6a1-32045d1afaa8"
      },
      "execution_count": 122,
      "outputs": [
        {
          "name": "stdout",
          "output_type": "stream",
          "text": [
            "4\n",
            "23\n",
            "11\n",
            "78\n"
          ]
        }
      ]
    },
    {
      "cell_type": "code",
      "source": [
        "my_list"
      ],
      "metadata": {
        "colab": {
          "base_uri": "https://localhost:8080/"
        },
        "id": "0J1-vl9b7Ba_",
        "outputId": "5436d4e0-5bd3-4084-9857-2eb66614b864"
      },
      "execution_count": 123,
      "outputs": [
        {
          "output_type": "execute_result",
          "data": {
            "text/plain": [
              "[4, 23, 11, 78]"
            ]
          },
          "metadata": {},
          "execution_count": 123
        }
      ]
    },
    {
      "cell_type": "code",
      "source": [
        "my_list"
      ],
      "metadata": {
        "colab": {
          "base_uri": "https://localhost:8080/"
        },
        "id": "07WwcMKx7ES2",
        "outputId": "fb4de898-b5a7-49e3-fa5c-4040b735c810"
      },
      "execution_count": 124,
      "outputs": [
        {
          "output_type": "execute_result",
          "data": {
            "text/plain": [
              "[4, 23, 11, 78]"
            ]
          },
          "metadata": {},
          "execution_count": 124
        }
      ]
    },
    {
      "cell_type": "code",
      "source": [
        "my_list[5]=10"
      ],
      "metadata": {
        "colab": {
          "base_uri": "https://localhost:8080/",
          "height": 142
        },
        "id": "zcjpOzvI7M8b",
        "outputId": "1a525451-2844-4dae-b6f3-57680705f698"
      },
      "execution_count": 125,
      "outputs": [
        {
          "output_type": "error",
          "ename": "IndexError",
          "evalue": "list assignment index out of range",
          "traceback": [
            "\u001b[0;31m---------------------------------------------------------------------------\u001b[0m",
            "\u001b[0;31mIndexError\u001b[0m                                Traceback (most recent call last)",
            "\u001b[0;32m<ipython-input-125-fafaa131773f>\u001b[0m in \u001b[0;36m<cell line: 1>\u001b[0;34m()\u001b[0m\n\u001b[0;32m----> 1\u001b[0;31m \u001b[0mmy_list\u001b[0m\u001b[0;34m[\u001b[0m\u001b[0;36m5\u001b[0m\u001b[0;34m]\u001b[0m\u001b[0;34m=\u001b[0m\u001b[0;36m10\u001b[0m\u001b[0;34m\u001b[0m\u001b[0;34m\u001b[0m\u001b[0m\n\u001b[0m",
            "\u001b[0;31mIndexError\u001b[0m: list assignment index out of range"
          ]
        }
      ]
    },
    {
      "cell_type": "code",
      "source": [
        "my_list = [10, 20, 30, 40, 50]\n",
        "my_list.append(30)"
      ],
      "metadata": {
        "id": "pVdiQEqB7RBp"
      },
      "execution_count": 126,
      "outputs": []
    },
    {
      "cell_type": "code",
      "source": [
        "my_list"
      ],
      "metadata": {
        "colab": {
          "base_uri": "https://localhost:8080/"
        },
        "id": "0sb50-II8F25",
        "outputId": "71f9bedd-728c-4ac1-eddd-df6b3d18ff1c"
      },
      "execution_count": 127,
      "outputs": [
        {
          "output_type": "execute_result",
          "data": {
            "text/plain": [
              "[10, 20, 30, 40, 50, 30]"
            ]
          },
          "metadata": {},
          "execution_count": 127
        }
      ]
    },
    {
      "cell_type": "markdown",
      "source": [
        "difference between array and list\n",
        "- arrays are static, lists are dynamic\n",
        "-  arrays are homogenous while lists are heterogeneous"
      ],
      "metadata": {
        "id": "bGG16F4_8J_f"
      }
    },
    {
      "cell_type": "code",
      "source": [
        "import numpy"
      ],
      "metadata": {
        "id": "IQPCLzEi8HEC"
      },
      "execution_count": 129,
      "outputs": []
    },
    {
      "cell_type": "code",
      "source": [
        "a=10\n",
        "b=20\n",
        "a\n",
        "b"
      ],
      "metadata": {
        "colab": {
          "base_uri": "https://localhost:8080/"
        },
        "id": "gl2FOzVV8dDf",
        "outputId": "cab0a76d-880e-4d26-ffdc-5d69615853d8"
      },
      "execution_count": 131,
      "outputs": [
        {
          "output_type": "execute_result",
          "data": {
            "text/plain": [
              "20"
            ]
          },
          "metadata": {},
          "execution_count": 131
        }
      ]
    },
    {
      "cell_type": "code",
      "source": [
        "a=10\n",
        "b=20\n",
        "print(a)\n",
        "print(b)"
      ],
      "metadata": {
        "colab": {
          "base_uri": "https://localhost:8080/"
        },
        "id": "xiFbhk3q9HnP",
        "outputId": "93d0e22c-84d1-4124-f292-698a5362de3a"
      },
      "execution_count": 132,
      "outputs": [
        {
          "output_type": "stream",
          "name": "stdout",
          "text": [
            "10\n",
            "20\n"
          ]
        }
      ]
    },
    {
      "cell_type": "code",
      "source": [
        "virat_runs"
      ],
      "metadata": {
        "colab": {
          "base_uri": "https://localhost:8080/"
        },
        "id": "QhmWufsO9REm",
        "outputId": "04a96d99-88a7-47e4-a58c-ba80c9dcd581"
      },
      "execution_count": 133,
      "outputs": [
        {
          "output_type": "execute_result",
          "data": {
            "text/plain": [
              "[10, 21, 5, 30, 80]"
            ]
          },
          "metadata": {},
          "execution_count": 133
        }
      ]
    },
    {
      "cell_type": "markdown",
      "source": [
        " \"if name=='main' we will discuss in modules. for now delete everything and write your code"
      ],
      "metadata": {
        "id": "qwZYpl0j9kbY"
      }
    },
    {
      "cell_type": "code",
      "source": [
        "num1 = 123\n",
        "\n"
      ],
      "metadata": {
        "id": "WcKcpgE29TiO"
      },
      "execution_count": 134,
      "outputs": []
    },
    {
      "cell_type": "code",
      "source": [
        "num1%10"
      ],
      "metadata": {
        "colab": {
          "base_uri": "https://localhost:8080/"
        },
        "id": "ahDYmCqi-DAb",
        "outputId": "a237cdef-01a4-4617-9a68-337dd4efa066"
      },
      "execution_count": 135,
      "outputs": [
        {
          "output_type": "execute_result",
          "data": {
            "text/plain": [
              "3"
            ]
          },
          "metadata": {},
          "execution_count": 135
        }
      ]
    },
    {
      "cell_type": "code",
      "source": [
        "3*10+2"
      ],
      "metadata": {
        "colab": {
          "base_uri": "https://localhost:8080/"
        },
        "id": "uyOaOPEq-S2p",
        "outputId": "d9e80fdf-99f8-46bd-b817-2220c9be4be0"
      },
      "execution_count": 137,
      "outputs": [
        {
          "output_type": "execute_result",
          "data": {
            "text/plain": [
              "32"
            ]
          },
          "metadata": {},
          "execution_count": 137
        }
      ]
    },
    {
      "cell_type": "code",
      "source": [
        "num1 = num1//10\n",
        "num1%10"
      ],
      "metadata": {
        "colab": {
          "base_uri": "https://localhost:8080/"
        },
        "id": "f8qv1Av0-Gwl",
        "outputId": "8992062f-43b9-41f9-cd93-d49fe2e8cd2b"
      },
      "execution_count": 136,
      "outputs": [
        {
          "output_type": "execute_result",
          "data": {
            "text/plain": [
              "2"
            ]
          },
          "metadata": {},
          "execution_count": 136
        }
      ]
    },
    {
      "cell_type": "code",
      "source": [
        "32*10+1"
      ],
      "metadata": {
        "colab": {
          "base_uri": "https://localhost:8080/"
        },
        "id": "ZnSTuZId-NiG",
        "outputId": "a5aed1e1-79cf-47e7-cb81-2ad422cc387e"
      },
      "execution_count": 138,
      "outputs": [
        {
          "output_type": "execute_result",
          "data": {
            "text/plain": [
              "321"
            ]
          },
          "metadata": {},
          "execution_count": 138
        }
      ]
    },
    {
      "cell_type": "code",
      "source": [
        "list1 = [1,2,4]\n",
        "len(list1)"
      ],
      "metadata": {
        "colab": {
          "base_uri": "https://localhost:8080/"
        },
        "id": "zbIQUkYD-VcW",
        "outputId": "80734d17-4444-4837-9f90-4663c38176a1"
      },
      "execution_count": 140,
      "outputs": [
        {
          "output_type": "execute_result",
          "data": {
            "text/plain": [
              "3"
            ]
          },
          "metadata": {},
          "execution_count": 140
        }
      ]
    },
    {
      "cell_type": "code",
      "source": [
        "list1 = [1,2,4, [10,20]]\n",
        "len(list1)"
      ],
      "metadata": {
        "colab": {
          "base_uri": "https://localhost:8080/"
        },
        "id": "hy4v9qgu-p8V",
        "outputId": "907f62bf-e606-4891-c3e7-93f91f2c88e0"
      },
      "execution_count": 141,
      "outputs": [
        {
          "output_type": "execute_result",
          "data": {
            "text/plain": [
              "4"
            ]
          },
          "metadata": {},
          "execution_count": 141
        }
      ]
    },
    {
      "cell_type": "code",
      "source": [
        "list1 = [1,2]\n",
        "list2 = [1,2]\n",
        "list1 == list2"
      ],
      "metadata": {
        "colab": {
          "base_uri": "https://localhost:8080/"
        },
        "id": "gMDe-bL3-1NT",
        "outputId": "59ba1c8c-6f2d-4a6c-c948-56ff05368e20"
      },
      "execution_count": 142,
      "outputs": [
        {
          "output_type": "execute_result",
          "data": {
            "text/plain": [
              "True"
            ]
          },
          "metadata": {},
          "execution_count": 142
        }
      ]
    },
    {
      "cell_type": "code",
      "source": [
        "list1 is list2"
      ],
      "metadata": {
        "colab": {
          "base_uri": "https://localhost:8080/"
        },
        "id": "dRZeSnnp_MUM",
        "outputId": "22ed3fe2-3e9a-417a-d93b-0428da5ebe2a"
      },
      "execution_count": 143,
      "outputs": [
        {
          "output_type": "execute_result",
          "data": {
            "text/plain": [
              "False"
            ]
          },
          "metadata": {},
          "execution_count": 143
        }
      ]
    },
    {
      "cell_type": "code",
      "source": [
        "id(list1)"
      ],
      "metadata": {
        "colab": {
          "base_uri": "https://localhost:8080/"
        },
        "id": "rFHFEL6H_PN2",
        "outputId": "53d0daad-2e95-4b89-a0b2-97efaf5d6faf"
      },
      "execution_count": 144,
      "outputs": [
        {
          "output_type": "execute_result",
          "data": {
            "text/plain": [
              "133027720190336"
            ]
          },
          "metadata": {},
          "execution_count": 144
        }
      ]
    },
    {
      "cell_type": "code",
      "source": [
        "id(list2)"
      ],
      "metadata": {
        "colab": {
          "base_uri": "https://localhost:8080/"
        },
        "id": "352T-C8R_SiP",
        "outputId": "ecd842e4-c3f9-4e2d-dad3-846b17df8317"
      },
      "execution_count": 145,
      "outputs": [
        {
          "output_type": "execute_result",
          "data": {
            "text/plain": [
              "133027720198400"
            ]
          },
          "metadata": {},
          "execution_count": 145
        }
      ]
    },
    {
      "cell_type": "code",
      "source": [],
      "metadata": {
        "id": "OSlBHSVd_Uak"
      },
      "execution_count": null,
      "outputs": []
    }
  ]
}