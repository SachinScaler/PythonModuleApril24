{
  "nbformat": 4,
  "nbformat_minor": 0,
  "metadata": {
    "colab": {
      "provenance": [],
      "authorship_tag": "ABX9TyNJTu6gN04BMD4yOky7FFF4",
      "include_colab_link": true
    },
    "kernelspec": {
      "name": "python3",
      "display_name": "Python 3"
    },
    "language_info": {
      "name": "python"
    }
  },
  "cells": [
    {
      "cell_type": "markdown",
      "metadata": {
        "id": "view-in-github",
        "colab_type": "text"
      },
      "source": [
        "<a href=\"https://colab.research.google.com/github/SachinScaler/PythonModuleApril24/blob/main/Control_Statements.ipynb\" target=\"_parent\"><img src=\"https://colab.research.google.com/assets/colab-badge.svg\" alt=\"Open In Colab\"/></a>"
      ]
    },
    {
      "cell_type": "code",
      "execution_count": 1,
      "metadata": {
        "colab": {
          "base_uri": "https://localhost:8080/"
        },
        "id": "eL0F3CDa9Irc",
        "outputId": "747f7638-f70a-4dc4-b0d0-81666c084532"
      },
      "outputs": [
        {
          "output_type": "stream",
          "name": "stdout",
          "text": [
            "Hi\n",
            "a is greater than 5\n"
          ]
        }
      ],
      "source": [
        "###\n",
        "a = 10\n",
        "\n",
        "if a>5:\n",
        "    print(\"Hi\")\n",
        "    print(\"a is greater than 5\")"
      ]
    },
    {
      "cell_type": "code",
      "source": [
        "if a>5:\n",
        "    print(\"Hi\")\n",
        "  print(\"a is greater than 5\")"
      ],
      "metadata": {
        "colab": {
          "base_uri": "https://localhost:8080/",
          "height": 104
        },
        "id": "jfxQf0czLR-K",
        "outputId": "7d2605f4-0f55-4f2f-d4f0-4da2dab17d35"
      },
      "execution_count": 3,
      "outputs": [
        {
          "output_type": "error",
          "ename": "IndentationError",
          "evalue": "unindent does not match any outer indentation level (<tokenize>, line 3)",
          "traceback": [
            "\u001b[0;36m  File \u001b[0;32m\"<tokenize>\"\u001b[0;36m, line \u001b[0;32m3\u001b[0m\n\u001b[0;31m    print(\"a is greater than 5\")\u001b[0m\n\u001b[0m    ^\u001b[0m\n\u001b[0;31mIndentationError\u001b[0m\u001b[0;31m:\u001b[0m unindent does not match any outer indentation level\n"
          ]
        }
      ]
    },
    {
      "cell_type": "code",
      "source": [
        "if a>5:\n",
        "  print(\"Hi\")\n",
        "  print(\"a is greater than 5\")"
      ],
      "metadata": {
        "colab": {
          "base_uri": "https://localhost:8080/"
        },
        "id": "URIaRvmELXIE",
        "outputId": "deab16b1-2226-4970-9ffd-6f562421f0c7"
      },
      "execution_count": 4,
      "outputs": [
        {
          "output_type": "stream",
          "name": "stdout",
          "text": [
            "Hi\n",
            "a is greater than 5\n"
          ]
        }
      ]
    },
    {
      "cell_type": "code",
      "source": [
        "if a>5:\n",
        "print(\"Hi\")\n",
        "print(\"a is greater than 5\")"
      ],
      "metadata": {
        "colab": {
          "base_uri": "https://localhost:8080/",
          "height": 104
        },
        "id": "tn49Jbp3LfRx",
        "outputId": "c6e8c5a2-8191-4365-bc2e-e5fe4199e675"
      },
      "execution_count": 5,
      "outputs": [
        {
          "output_type": "error",
          "ename": "IndentationError",
          "evalue": "expected an indented block after 'if' statement on line 1 (<ipython-input-5-74089e2bde11>, line 2)",
          "traceback": [
            "\u001b[0;36m  File \u001b[0;32m\"<ipython-input-5-74089e2bde11>\"\u001b[0;36m, line \u001b[0;32m2\u001b[0m\n\u001b[0;31m    print(\"Hi\")\u001b[0m\n\u001b[0m    ^\u001b[0m\n\u001b[0;31mIndentationError\u001b[0m\u001b[0;31m:\u001b[0m expected an indented block after 'if' statement on line 1\n"
          ]
        }
      ]
    },
    {
      "cell_type": "code",
      "source": [
        "a = 3\n",
        "if a>5:\n",
        "    print(\"Hi\")\n",
        "\n",
        "# this is another block not part of if block\n",
        "print(\"a is greater than 5\") # independent of condition and hence always executed"
      ],
      "metadata": {
        "colab": {
          "base_uri": "https://localhost:8080/"
        },
        "id": "gTszuxdHLje_",
        "outputId": "32f23a83-0103-4d73-9a6e-9ef2432a1770"
      },
      "execution_count": 8,
      "outputs": [
        {
          "output_type": "stream",
          "name": "stdout",
          "text": [
            "a is greater than 5\n"
          ]
        }
      ]
    },
    {
      "cell_type": "code",
      "source": [
        "a = 3\n",
        "if a>5:\n",
        "    print(\"Hi\")\n",
        "     print(\"whats up\")\n",
        "\n",
        "# this is another block not part of if block\n",
        "print(\"a is greater than 5\") # independent of condition and hence always executed"
      ],
      "metadata": {
        "colab": {
          "base_uri": "https://localhost:8080/",
          "height": 104
        },
        "id": "dFeAY-HvMPc5",
        "outputId": "c4b79850-2e75-4726-a192-37bc596562d6"
      },
      "execution_count": 12,
      "outputs": [
        {
          "output_type": "error",
          "ename": "IndentationError",
          "evalue": "unexpected indent (<ipython-input-12-fcec994903c8>, line 4)",
          "traceback": [
            "\u001b[0;36m  File \u001b[0;32m\"<ipython-input-12-fcec994903c8>\"\u001b[0;36m, line \u001b[0;32m4\u001b[0m\n\u001b[0;31m    print(\"whats up\")\u001b[0m\n\u001b[0m    ^\u001b[0m\n\u001b[0;31mIndentationError\u001b[0m\u001b[0;31m:\u001b[0m unexpected indent\n"
          ]
        }
      ]
    },
    {
      "cell_type": "code",
      "source": [
        "a = 3\n",
        "if a>5:\n",
        "    print(\"Hi\")\n",
        "   print(\"whats up\")\n",
        "\n",
        "# this is another block not part of if block\n",
        "print(\"a is greater than 5\") # independent of condition and hence always executed"
      ],
      "metadata": {
        "colab": {
          "base_uri": "https://localhost:8080/",
          "height": 104
        },
        "id": "rX2uJffdM6ua",
        "outputId": "290a3eba-70e1-4e45-817a-f0a7fa9af7c0"
      },
      "execution_count": 14,
      "outputs": [
        {
          "output_type": "error",
          "ename": "IndentationError",
          "evalue": "unindent does not match any outer indentation level (<tokenize>, line 4)",
          "traceback": [
            "\u001b[0;36m  File \u001b[0;32m\"<tokenize>\"\u001b[0;36m, line \u001b[0;32m4\u001b[0m\n\u001b[0;31m    print(\"whats up\")\u001b[0m\n\u001b[0m    ^\u001b[0m\n\u001b[0;31mIndentationError\u001b[0m\u001b[0;31m:\u001b[0m unindent does not match any outer indentation level\n"
          ]
        }
      ]
    },
    {
      "cell_type": "code",
      "source": [
        "a = 3\n",
        "if a>5:\n",
        "    print(\"Hi\")\n",
        "    print(\"whats up\")\n",
        "\n",
        "# this is another block not part of if block\n",
        "print(\"a is greater than 5\") # independent of condition and hence always executed"
      ],
      "metadata": {
        "colab": {
          "base_uri": "https://localhost:8080/"
        },
        "id": "mrg_YJF2OhJL",
        "outputId": "909e0945-05b0-42e6-f720-1fd2df897934"
      },
      "execution_count": 15,
      "outputs": [
        {
          "output_type": "stream",
          "name": "stdout",
          "text": [
            "a is greater than 5\n"
          ]
        }
      ]
    },
    {
      "cell_type": "code",
      "source": [
        "temp = float(input())\n",
        "if temp<32:\n",
        "    print(\"Shirt\")\n",
        "\n",
        "print(\"T-Shirt\")\n"
      ],
      "metadata": {
        "colab": {
          "base_uri": "https://localhost:8080/"
        },
        "id": "39hOnh__OiiG",
        "outputId": "e861a663-67ad-48ce-8f40-a26cdd560b48"
      },
      "execution_count": 16,
      "outputs": [
        {
          "output_type": "stream",
          "name": "stdout",
          "text": [
            "28\n",
            "Shirt\n",
            "T-Shirt\n"
          ]
        }
      ]
    },
    {
      "cell_type": "code",
      "source": [
        "temp = float(input())\n",
        "if temp<32:\n",
        "    print(\"Shirt\")   # executed when if returns True\n",
        "else:\n",
        "    print(\"T-Shirt\") # executed when if returns false\n",
        "\n",
        "print(\"end\") # this is always executed"
      ],
      "metadata": {
        "colab": {
          "base_uri": "https://localhost:8080/"
        },
        "id": "hre3BO-DQjef",
        "outputId": "4aba7617-7e4f-496a-8788-b7cc6c3d5cce"
      },
      "execution_count": 17,
      "outputs": [
        {
          "output_type": "stream",
          "name": "stdout",
          "text": [
            "40\n",
            "T-Shirt\n"
          ]
        }
      ]
    },
    {
      "cell_type": "code",
      "source": [
        "temp = float(input())\n",
        "if temp<32:     # this cond will be evaluated\n",
        "    print(\"Shirt\")   # executed when if returns True\n",
        "if temp>=32:    # this cond will be evaluated\n",
        "    print(\"T-Shirt\")"
      ],
      "metadata": {
        "id": "K6M-2-l8QmdI"
      },
      "execution_count": null,
      "outputs": []
    },
    {
      "cell_type": "code",
      "source": [],
      "metadata": {
        "id": "2MVDVaNHTuIH"
      },
      "execution_count": null,
      "outputs": []
    },
    {
      "cell_type": "code",
      "source": [],
      "metadata": {
        "id": "q2pjZl8ATuLd"
      },
      "execution_count": null,
      "outputs": []
    },
    {
      "cell_type": "code",
      "source": [
        "x = 0\n",
        "if x: ### when no condiition is given python converts your variable into Boolean and proceed\n",
        "    print(\"True\")\n",
        "else:\n",
        "    print(\"False\")"
      ],
      "metadata": {
        "colab": {
          "base_uri": "https://localhost:8080/"
        },
        "id": "8p5HAUD6TuOl",
        "outputId": "5d8361cf-63bc-42de-a6ce-70a56837549d"
      },
      "execution_count": 18,
      "outputs": [
        {
          "output_type": "stream",
          "name": "stdout",
          "text": [
            "False\n"
          ]
        }
      ]
    },
    {
      "cell_type": "code",
      "source": [
        "x = 0\n",
        "if bool(x): ### when no condiition is given python converts your variable into Boolean and proceed\n",
        "    print(\"True\")\n",
        "else:\n",
        "    print(\"False\")"
      ],
      "metadata": {
        "id": "X5zDTdXoUI-V"
      },
      "execution_count": null,
      "outputs": []
    },
    {
      "cell_type": "code",
      "source": [
        "x = \"sachin\"\n",
        "if x: ### when no condiition is given python converts your variable into Boolean and proceed\n",
        "    print(\"True\")\n",
        "else:\n",
        "    print(\"False\")"
      ],
      "metadata": {
        "colab": {
          "base_uri": "https://localhost:8080/"
        },
        "id": "bxmmYX3tT-me",
        "outputId": "db612c17-d728-4f14-eec0-d4d0123ef8d1"
      },
      "execution_count": 19,
      "outputs": [
        {
          "output_type": "stream",
          "name": "stdout",
          "text": [
            "True\n"
          ]
        }
      ]
    },
    {
      "cell_type": "code",
      "source": [
        "bool(\"sachin\")"
      ],
      "metadata": {
        "colab": {
          "base_uri": "https://localhost:8080/"
        },
        "id": "YqzPGzyVUB9-",
        "outputId": "00321289-05ed-4fc4-a4b0-bad316a81b65"
      },
      "execution_count": 20,
      "outputs": [
        {
          "output_type": "execute_result",
          "data": {
            "text/plain": [
              "True"
            ]
          },
          "metadata": {},
          "execution_count": 20
        }
      ]
    },
    {
      "cell_type": "code",
      "source": [
        "bool(\"\")"
      ],
      "metadata": {
        "colab": {
          "base_uri": "https://localhost:8080/"
        },
        "id": "f9shlM-cUV13",
        "outputId": "e4fde209-0c80-4c5a-f76f-177e6eea7d3c"
      },
      "execution_count": 21,
      "outputs": [
        {
          "output_type": "execute_result",
          "data": {
            "text/plain": [
              "False"
            ]
          },
          "metadata": {},
          "execution_count": 21
        }
      ]
    },
    {
      "cell_type": "code",
      "source": [
        "ct = int(input()) # 0-23\n",
        "\n",
        "if ct>9 and ct<12: # this will evaluated\n",
        "    print(\"Good Morning\")\n",
        "if ct>=12 and ct<17: # this will evaluated\n",
        "    print(\"Good AfterNoon\")\n",
        "if ct>=17 and ct<20: # this will evaluated\n",
        "    print(\"Good Evening\")\n",
        "if ct>=20:   # this will evaluated\n",
        "    print(\"Good Night\")\n"
      ],
      "metadata": {
        "colab": {
          "base_uri": "https://localhost:8080/"
        },
        "id": "Z9qGFMMqUXC7",
        "outputId": "a36fdf8d-f22f-4174-9f36-54171d582bc7"
      },
      "execution_count": 28,
      "outputs": [
        {
          "output_type": "stream",
          "name": "stdout",
          "text": [
            "10\n",
            "Good Morning\n"
          ]
        }
      ]
    },
    {
      "cell_type": "code",
      "source": [
        "1 or 4"
      ],
      "metadata": {
        "id": "46JN7Qg8VJGW"
      },
      "execution_count": null,
      "outputs": []
    },
    {
      "cell_type": "code",
      "source": [
        "a = 10\n",
        "\n",
        "if a>5:\n",
        "    print(\"Hello\")\n",
        "\n",
        "if a>8:\n",
        "    print(\"World\")"
      ],
      "metadata": {
        "colab": {
          "base_uri": "https://localhost:8080/"
        },
        "id": "NYAPDOkuWHsc",
        "outputId": "ef8939f6-5759-4f21-badf-33ab3b008174"
      },
      "execution_count": 30,
      "outputs": [
        {
          "output_type": "stream",
          "name": "stdout",
          "text": [
            "Hello\n",
            "World\n"
          ]
        }
      ]
    },
    {
      "cell_type": "code",
      "source": [
        "ct = int(input()) # 0-23\n",
        "\n",
        "if ct>9 and ct<12:\n",
        "    print(\"Good Morning\")\n",
        "elif ct>=12 and ct<17:\n",
        "    print(\"Good AfterNoon\")\n",
        "elif ct>=17 and ct<20:\n",
        "    print(\"Good Evening\")\n",
        "elif ct>=20:\n",
        "    print(\"Good Night\")\n",
        "else:\n",
        "    print(\"ZZZZZZZ\")"
      ],
      "metadata": {
        "colab": {
          "base_uri": "https://localhost:8080/"
        },
        "id": "NRx42ujQWNBW",
        "outputId": "0a261753-3b4d-47f0-f8ff-346d479c8e11"
      },
      "execution_count": 38,
      "outputs": [
        {
          "output_type": "stream",
          "name": "stdout",
          "text": [
            "8\n",
            "Sleep time\n"
          ]
        }
      ]
    },
    {
      "cell_type": "code",
      "source": [
        "a = 12\n",
        "if a>10:\n",
        "    print(\"gt 10\")\n",
        "\n",
        "else:\n",
        "    print(\"bye\")\n",
        "\n",
        "if a>4:\n",
        "    print(\"gt 4\")"
      ],
      "metadata": {
        "colab": {
          "base_uri": "https://localhost:8080/"
        },
        "id": "aMEbx0aDW_68",
        "outputId": "ed771e6f-1032-49e3-e402-95e69f6d0731"
      },
      "execution_count": 35,
      "outputs": [
        {
          "output_type": "stream",
          "name": "stdout",
          "text": [
            "gt 10\n",
            "gt 4\n"
          ]
        }
      ]
    },
    {
      "cell_type": "code",
      "source": [
        "a = 12\n",
        "if a>10:\n",
        "    print(\"gt 10\")\n",
        "\n",
        "elif a>4:\n",
        "    print(\"gt 4\")\n",
        "\n",
        "else:\n",
        "    print(\"bye\")\n"
      ],
      "metadata": {
        "colab": {
          "base_uri": "https://localhost:8080/"
        },
        "id": "0L9qMd2mXGV4",
        "outputId": "8e98d794-fb53-41c0-e9f5-4705b963bfe9"
      },
      "execution_count": 36,
      "outputs": [
        {
          "output_type": "stream",
          "name": "stdout",
          "text": [
            "gt 10\n"
          ]
        }
      ]
    },
    {
      "cell_type": "code",
      "source": [
        "# nested if else\n",
        "x = 5\n",
        "if x > 2: # Yes\n",
        "    if x < 10: # Yes\n",
        "        print(\"x is between 2 and 10\")\n",
        "    else:\n",
        "        print(\"x is greater than or equal to 10\")\n",
        "else:\n",
        "    print(\"x is less than or equal to 2\")"
      ],
      "metadata": {
        "colab": {
          "base_uri": "https://localhost:8080/"
        },
        "id": "sywIfZaPXrSD",
        "outputId": "43d40403-4142-427d-c626-344b8ddcd612"
      },
      "execution_count": 40,
      "outputs": [
        {
          "output_type": "stream",
          "name": "stdout",
          "text": [
            "x is between 2 and 10\n"
          ]
        }
      ]
    },
    {
      "cell_type": "code",
      "source": [
        "# nested if else\n",
        "x = 1\n",
        "if x > 2: # False\n",
        "    if x < 10:\n",
        "        print(\"x is between 2 and 10\")\n",
        "    else:\n",
        "        print(\"x is greater than or equal to 10\")\n",
        "else:\n",
        "    print(\"x is less than or equal to 2\")"
      ],
      "metadata": {
        "colab": {
          "base_uri": "https://localhost:8080/"
        },
        "id": "Q4OZOcsFZWfg",
        "outputId": "98e3e966-df21-482f-f8b2-4064949d4b99"
      },
      "execution_count": 41,
      "outputs": [
        {
          "output_type": "stream",
          "name": "stdout",
          "text": [
            "x is less than or equal to 2\n"
          ]
        }
      ]
    },
    {
      "cell_type": "code",
      "source": [
        "# nested if else\n",
        "x = 11\n",
        "if x > 2: # True\n",
        "    if x < 10: # NO\n",
        "        print(\"x is between 2 and 10\")\n",
        "    else:\n",
        "        print(\"x is greater than or equal to 10\") # this line\n",
        "else:\n",
        "    print(\"x is less than or equal to 2\")"
      ],
      "metadata": {
        "colab": {
          "base_uri": "https://localhost:8080/"
        },
        "id": "S3FFW8sqZkOe",
        "outputId": "8a48840c-7644-44d6-cbed-854de804991c"
      },
      "execution_count": 42,
      "outputs": [
        {
          "output_type": "stream",
          "name": "stdout",
          "text": [
            "x is greater than or equal to 10\n"
          ]
        }
      ]
    },
    {
      "cell_type": "code",
      "source": [
        "age = 15\n",
        "if age < 18:\n",
        "    print(\"You are not eligible to vote\")\n",
        "elif age >= 18 and age < 21:\n",
        "    print(\"You can vote but can't drink\")\n",
        "else:\n",
        "    print(\"You can vote and drink\")"
      ],
      "metadata": {
        "colab": {
          "base_uri": "https://localhost:8080/"
        },
        "id": "pEWd8AjhZ5Au",
        "outputId": "2cefc9e8-cc65-4fe9-bdc2-478303218986"
      },
      "execution_count": 43,
      "outputs": [
        {
          "output_type": "stream",
          "name": "stdout",
          "text": [
            "You are not eligible to vote\n"
          ]
        }
      ]
    },
    {
      "cell_type": "code",
      "source": [
        "(50 +60 +70 +80 +90)/5"
      ],
      "metadata": {
        "colab": {
          "base_uri": "https://localhost:8080/"
        },
        "id": "cGV08_ygaUI-",
        "outputId": "d630c677-9132-42d1-f685-9c72dd9b2405"
      },
      "execution_count": 47,
      "outputs": [
        {
          "output_type": "execute_result",
          "data": {
            "text/plain": [
              "70.0"
            ]
          },
          "metadata": {},
          "execution_count": 47
        }
      ]
    },
    {
      "cell_type": "code",
      "source": [
        "x=int(input())\n",
        "y=1234880990\n",
        "print(y>x )"
      ],
      "metadata": {
        "colab": {
          "base_uri": "https://localhost:8080/"
        },
        "id": "8r2cPLHAc4kO",
        "outputId": "e4c9fd8e-5ad9-4fc1-fdfd-522923e9dfcf"
      },
      "execution_count": 51,
      "outputs": [
        {
          "output_type": "stream",
          "name": "stdout",
          "text": [
            "5\n",
            "True\n"
          ]
        }
      ]
    },
    {
      "cell_type": "code",
      "source": [
        "a = 10\n",
        "a+=1 # a = a+1\n",
        "print(a)"
      ],
      "metadata": {
        "colab": {
          "base_uri": "https://localhost:8080/"
        },
        "id": "J-BCzDM2en_f",
        "outputId": "c461c87c-75b4-44b5-e46e-411421e152ac"
      },
      "execution_count": 53,
      "outputs": [
        {
          "output_type": "stream",
          "name": "stdout",
          "text": [
            "11\n"
          ]
        }
      ]
    },
    {
      "cell_type": "code",
      "source": [
        "a = 10\n",
        "a=+1 # a = 1 assigning value not increment\n",
        "print(a)"
      ],
      "metadata": {
        "colab": {
          "base_uri": "https://localhost:8080/"
        },
        "id": "PFVaG_07fUES",
        "outputId": "49f14351-7d9a-4284-d54c-0ded78bba7a2"
      },
      "execution_count": 54,
      "outputs": [
        {
          "output_type": "stream",
          "name": "stdout",
          "text": [
            "1\n"
          ]
        }
      ]
    },
    {
      "cell_type": "code",
      "source": [],
      "metadata": {
        "id": "jYSa8vPAfX7x"
      },
      "execution_count": null,
      "outputs": []
    },
    {
      "cell_type": "code",
      "source": [
        "time = input()"
      ],
      "metadata": {
        "colab": {
          "base_uri": "https://localhost:8080/"
        },
        "id": "QlkKJba7ft-5",
        "outputId": "71b11fa3-0c11-40a0-adc2-2874d392f5f9"
      },
      "execution_count": 55,
      "outputs": [
        {
          "name": "stdout",
          "output_type": "stream",
          "text": [
            "10:30\n"
          ]
        }
      ]
    },
    {
      "cell_type": "code",
      "source": [
        "time"
      ],
      "metadata": {
        "colab": {
          "base_uri": "https://localhost:8080/",
          "height": 36
        },
        "id": "XqIx3RJUfwem",
        "outputId": "f699ecbd-1e43-4d6a-a780-f911c39d74f3"
      },
      "execution_count": 56,
      "outputs": [
        {
          "output_type": "execute_result",
          "data": {
            "text/plain": [
              "'10:30'"
            ],
            "application/vnd.google.colaboratory.intrinsic+json": {
              "type": "string"
            }
          },
          "metadata": {},
          "execution_count": 56
        }
      ]
    },
    {
      "cell_type": "code",
      "source": [
        "int(time)"
      ],
      "metadata": {
        "colab": {
          "base_uri": "https://localhost:8080/",
          "height": 137
        },
        "id": "jFTmDBmNfysO",
        "outputId": "edb07480-d6b5-4e85-e16b-b2749ff5409b"
      },
      "execution_count": 58,
      "outputs": [
        {
          "output_type": "error",
          "ename": "ValueError",
          "evalue": "invalid literal for int() with base 10: '10:30'",
          "traceback": [
            "\u001b[0;31m---------------------------------------------------------------------------\u001b[0m",
            "\u001b[0;31mValueError\u001b[0m                                Traceback (most recent call last)",
            "\u001b[0;32m<ipython-input-58-555c1b85c35b>\u001b[0m in \u001b[0;36m<cell line: 1>\u001b[0;34m()\u001b[0m\n\u001b[0;32m----> 1\u001b[0;31m \u001b[0mint\u001b[0m\u001b[0;34m(\u001b[0m\u001b[0mtime\u001b[0m\u001b[0;34m)\u001b[0m\u001b[0;34m\u001b[0m\u001b[0;34m\u001b[0m\u001b[0m\n\u001b[0m",
            "\u001b[0;31mValueError\u001b[0m: invalid literal for int() with base 10: '10:30'"
          ]
        }
      ]
    },
    {
      "cell_type": "code",
      "source": [
        "hr = time[0:2]\n",
        "hr"
      ],
      "metadata": {
        "colab": {
          "base_uri": "https://localhost:8080/",
          "height": 36
        },
        "id": "AXXEHIs0fzgO",
        "outputId": "f656d154-f2b5-4f7f-9243-69b4b48d51f8"
      },
      "execution_count": 59,
      "outputs": [
        {
          "output_type": "execute_result",
          "data": {
            "text/plain": [
              "'10'"
            ],
            "application/vnd.google.colaboratory.intrinsic+json": {
              "type": "string"
            }
          },
          "metadata": {},
          "execution_count": 59
        }
      ]
    },
    {
      "cell_type": "code",
      "source": [
        "min = time[3:5]\n",
        "min"
      ],
      "metadata": {
        "colab": {
          "base_uri": "https://localhost:8080/",
          "height": 36
        },
        "id": "sGq2RekJf9pZ",
        "outputId": "94d39223-b4cd-4e76-a693-55847f342748"
      },
      "execution_count": 61,
      "outputs": [
        {
          "output_type": "execute_result",
          "data": {
            "text/plain": [
              "'30'"
            ],
            "application/vnd.google.colaboratory.intrinsic+json": {
              "type": "string"
            }
          },
          "metadata": {},
          "execution_count": 61
        }
      ]
    },
    {
      "cell_type": "code",
      "source": [
        "print(1 or 2)"
      ],
      "metadata": {
        "colab": {
          "base_uri": "https://localhost:8080/"
        },
        "id": "ZPWNNhmnf_Ho",
        "outputId": "0e8fed1a-a598-4f4e-fdb0-d73ff5468d4c"
      },
      "execution_count": 63,
      "outputs": [
        {
          "output_type": "stream",
          "name": "stdout",
          "text": [
            "1\n"
          ]
        }
      ]
    },
    {
      "cell_type": "code",
      "source": [],
      "metadata": {
        "id": "ovcaT1ophZt-"
      },
      "execution_count": null,
      "outputs": []
    }
  ]
}