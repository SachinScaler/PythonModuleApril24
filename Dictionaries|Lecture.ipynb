{
  "nbformat": 4,
  "nbformat_minor": 0,
  "metadata": {
    "colab": {
      "provenance": [],
      "authorship_tag": "ABX9TyPou5BodBFwM5eNT39GfWKi",
      "include_colab_link": true
    },
    "kernelspec": {
      "name": "python3",
      "display_name": "Python 3"
    },
    "language_info": {
      "name": "python"
    }
  },
  "cells": [
    {
      "cell_type": "markdown",
      "metadata": {
        "id": "view-in-github",
        "colab_type": "text"
      },
      "source": [
        "<a href=\"https://colab.research.google.com/github/SachinScaler/PythonModuleApril24/blob/main/Dictionaries%7CLecture.ipynb\" target=\"_parent\"><img src=\"https://colab.research.google.com/assets/colab-badge.svg\" alt=\"Open In Colab\"/></a>"
      ]
    },
    {
      "cell_type": "code",
      "execution_count": null,
      "metadata": {
        "colab": {
          "base_uri": "https://localhost:8080/"
        },
        "id": "waW_i6GEOZtc",
        "outputId": "6097350c-8a27-4b6a-8b18-7ff62aa729f6"
      },
      "outputs": [
        {
          "output_type": "stream",
          "name": "stdout",
          "text": [
            "<class 'dict'>\n"
          ]
        }
      ],
      "source": [
        "dict1  = {}\n",
        "print(type(dict1))"
      ]
    },
    {
      "cell_type": "code",
      "source": [
        "scaler_learners = {101:\"Rohini\", 102:\"Rewati\"}\n",
        "len(scaler_learners)"
      ],
      "metadata": {
        "colab": {
          "base_uri": "https://localhost:8080/"
        },
        "id": "P5nIW2cdOixz",
        "outputId": "c7496999-ce81-4912-ec5b-14af7533749d"
      },
      "execution_count": null,
      "outputs": [
        {
          "output_type": "execute_result",
          "data": {
            "text/plain": [
              "2"
            ]
          },
          "metadata": {},
          "execution_count": 5
        }
      ]
    },
    {
      "cell_type": "code",
      "source": [
        "scaler_learners = {101:\"Rohini\", 102:\"Rewati\", 101:\"Chanchal\"}\n",
        "len(scaler_learners)"
      ],
      "metadata": {
        "colab": {
          "base_uri": "https://localhost:8080/"
        },
        "id": "tIS6klSGOvh5",
        "outputId": "9b6bce01-91b5-41e0-f627-e2907190ea06"
      },
      "execution_count": null,
      "outputs": [
        {
          "output_type": "execute_result",
          "data": {
            "text/plain": [
              "2"
            ]
          },
          "metadata": {},
          "execution_count": 9
        }
      ]
    },
    {
      "cell_type": "code",
      "source": [
        "scaler_learners"
      ],
      "metadata": {
        "colab": {
          "base_uri": "https://localhost:8080/"
        },
        "id": "ZGvKCmgnPFfw",
        "outputId": "495ef217-b1ec-4f70-ac53-208d2acc498a"
      },
      "execution_count": null,
      "outputs": [
        {
          "output_type": "execute_result",
          "data": {
            "text/plain": [
              "{101: 'Chanchal', 102: 'Rewati'}"
            ]
          },
          "metadata": {},
          "execution_count": 10
        }
      ]
    },
    {
      "cell_type": "code",
      "source": [
        "scaler_learners = {101:\"Rohini\", 102:\"Rewati\", 103:\"Chanchal\", 104:\"Sachine\"}\n",
        "print(scaler_learners)"
      ],
      "metadata": {
        "colab": {
          "base_uri": "https://localhost:8080/"
        },
        "id": "cQ3FGzIhPGtj",
        "outputId": "e8177b96-d26a-4423-d153-ffad33f12252"
      },
      "execution_count": null,
      "outputs": [
        {
          "output_type": "stream",
          "name": "stdout",
          "text": [
            "{101: 'Rohini', 102: 'Rewati', 103: 'Chanchal', 104: 'Sachine'}\n"
          ]
        }
      ]
    },
    {
      "cell_type": "markdown",
      "source": [
        "You can't perform indexing on Dict"
      ],
      "metadata": {
        "id": "sMSbLXmHQRKo"
      }
    },
    {
      "cell_type": "code",
      "source": [
        "scaler_learners[0]"
      ],
      "metadata": {
        "colab": {
          "base_uri": "https://localhost:8080/",
          "height": 142
        },
        "id": "ug3b9XKDQQq_",
        "outputId": "aeb0f57d-b5e6-438d-8253-f672bddf101c"
      },
      "execution_count": null,
      "outputs": [
        {
          "output_type": "error",
          "ename": "KeyError",
          "evalue": "0",
          "traceback": [
            "\u001b[0;31m---------------------------------------------------------------------------\u001b[0m",
            "\u001b[0;31mKeyError\u001b[0m                                  Traceback (most recent call last)",
            "\u001b[0;32m<ipython-input-15-2b8cc600f106>\u001b[0m in \u001b[0;36m<cell line: 1>\u001b[0;34m()\u001b[0m\n\u001b[0;32m----> 1\u001b[0;31m \u001b[0mscaler_learners\u001b[0m\u001b[0;34m[\u001b[0m\u001b[0;36m0\u001b[0m\u001b[0;34m]\u001b[0m\u001b[0;34m\u001b[0m\u001b[0;34m\u001b[0m\u001b[0m\n\u001b[0m",
            "\u001b[0;31mKeyError\u001b[0m: 0"
          ]
        }
      ]
    },
    {
      "cell_type": "code",
      "source": [
        "# to access Values, we need to know the keys\n",
        "print(scaler_learners[104])"
      ],
      "metadata": {
        "colab": {
          "base_uri": "https://localhost:8080/"
        },
        "id": "izUrVS9tPXcT",
        "outputId": "b4f9833f-a33b-4971-b8a5-9c3db869390d"
      },
      "execution_count": null,
      "outputs": [
        {
          "output_type": "stream",
          "name": "stdout",
          "text": [
            "Sachine\n"
          ]
        }
      ]
    },
    {
      "cell_type": "markdown",
      "source": [
        "# update or Insert a Key"
      ],
      "metadata": {
        "id": "xFwlCruHQxSf"
      }
    },
    {
      "cell_type": "code",
      "source": [
        "# update\n",
        "scaler_learners[104]=\"Sachin\"\n",
        "print(scaler_learners)"
      ],
      "metadata": {
        "colab": {
          "base_uri": "https://localhost:8080/"
        },
        "id": "o2l1B_cvQddy",
        "outputId": "bb1ca166-2233-48c6-d877-3b21ec3ce9ad"
      },
      "execution_count": null,
      "outputs": [
        {
          "output_type": "stream",
          "name": "stdout",
          "text": [
            "{101: 'Rohini', 102: 'Rewati', 103: 'Chanchal', 104: 'Sachin'}\n"
          ]
        }
      ]
    },
    {
      "cell_type": "code",
      "source": [
        "# insert\n",
        "scaler_learners[105]=\"Swathy\"\n",
        "print(scaler_learners)"
      ],
      "metadata": {
        "colab": {
          "base_uri": "https://localhost:8080/"
        },
        "id": "t0zM4LmrQ37E",
        "outputId": "ff5dc9a1-b243-4f32-ddaa-ff8442f6acfd"
      },
      "execution_count": null,
      "outputs": [
        {
          "output_type": "stream",
          "name": "stdout",
          "text": [
            "{101: 'Rohini', 102: 'Rewati', 103: 'Chanchal', 104: 'Sachin', 105: 'Swathy'}\n"
          ]
        }
      ]
    },
    {
      "cell_type": "markdown",
      "source": [
        "#### print all keys without values"
      ],
      "metadata": {
        "id": "7UxgvAxERudX"
      }
    },
    {
      "cell_type": "code",
      "source": [
        "scaler_learners.keys()"
      ],
      "metadata": {
        "colab": {
          "base_uri": "https://localhost:8080/"
        },
        "id": "l6xxewM1RQve",
        "outputId": "b5dd1175-6d3c-4130-cf35-fefcd56df9c2"
      },
      "execution_count": null,
      "outputs": [
        {
          "output_type": "execute_result",
          "data": {
            "text/plain": [
              "dict_keys([101, 102, 103, 104, 105])"
            ]
          },
          "metadata": {},
          "execution_count": 21
        }
      ]
    },
    {
      "cell_type": "code",
      "source": [
        "list(scaler_learners.keys())[-1]"
      ],
      "metadata": {
        "colab": {
          "base_uri": "https://localhost:8080/"
        },
        "id": "KWYdrThISQtm",
        "outputId": "d5fabddd-bdce-44d8-c332-59800f3ae369"
      },
      "execution_count": null,
      "outputs": [
        {
          "output_type": "execute_result",
          "data": {
            "text/plain": [
              "105"
            ]
          },
          "metadata": {},
          "execution_count": 25
        }
      ]
    },
    {
      "cell_type": "markdown",
      "source": [
        " #### print all values  without keys"
      ],
      "metadata": {
        "id": "u1L7ug2gRztC"
      }
    },
    {
      "cell_type": "code",
      "source": [
        "scaler_learners.values()"
      ],
      "metadata": {
        "colab": {
          "base_uri": "https://localhost:8080/"
        },
        "id": "0tqceF6aRy1w",
        "outputId": "484201bc-4a65-4346-df67-a57deb3219ee"
      },
      "execution_count": null,
      "outputs": [
        {
          "output_type": "execute_result",
          "data": {
            "text/plain": [
              "dict_values(['Rohini', 'Rewati', 'Chanchal', 'Sachin', 'Swathy'])"
            ]
          },
          "metadata": {},
          "execution_count": 22
        }
      ]
    },
    {
      "cell_type": "markdown",
      "source": [
        "####  Get Key Value Pairs as list of Tuples: Convert Dict"
      ],
      "metadata": {
        "id": "pzdNXbETR889"
      }
    },
    {
      "cell_type": "code",
      "source": [
        "scaler_learners.items()"
      ],
      "metadata": {
        "colab": {
          "base_uri": "https://localhost:8080/"
        },
        "id": "tPnht2bNR01l",
        "outputId": "45955fe5-7ab7-485d-cca9-4921d52081f3"
      },
      "execution_count": null,
      "outputs": [
        {
          "output_type": "execute_result",
          "data": {
            "text/plain": [
              "dict_items([(101, 'Rohini'), (102, 'Rewati'), (103, 'Chanchal'), (104, 'Sachin'), (105, 'Swathy')])"
            ]
          },
          "metadata": {},
          "execution_count": 23
        }
      ]
    },
    {
      "cell_type": "code",
      "source": [
        "list(scaler_learners.items())[0]"
      ],
      "metadata": {
        "colab": {
          "base_uri": "https://localhost:8080/"
        },
        "id": "-d5_WtWrSC78",
        "outputId": "ddd77bc6-6575-4bd7-de99-6189e121425e"
      },
      "execution_count": null,
      "outputs": [
        {
          "output_type": "execute_result",
          "data": {
            "text/plain": [
              "(101, 'Rohini')"
            ]
          },
          "metadata": {},
          "execution_count": 27
        }
      ]
    },
    {
      "cell_type": "markdown",
      "source": [
        "#### add another dictioary to dictionary"
      ],
      "metadata": {
        "id": "p9uXgwqtTGTv"
      }
    },
    {
      "cell_type": "code",
      "source": [
        "scaler_learners_devops = {101:\"Rohini\", 102:\"Rewati\", 103:\"Chanchal\", 104:\"Sachine\"}\n",
        "print(scaler_learners_devops)"
      ],
      "metadata": {
        "colab": {
          "base_uri": "https://localhost:8080/"
        },
        "id": "pqR-M0_qSkuO",
        "outputId": "6e7cc147-1b21-4e8a-f33f-10028cde6e83"
      },
      "execution_count": null,
      "outputs": [
        {
          "output_type": "stream",
          "name": "stdout",
          "text": [
            "{101: 'Rohini', 102: 'Rewati', 103: 'Chanchal', 104: 'Sachine'}\n"
          ]
        }
      ]
    },
    {
      "cell_type": "code",
      "source": [
        "scaler_learners_dsml= {201:\"Nikhil\", 202:\"Pritesh\", 203:\"Udit\"}\n",
        "print(scaler_learners_dsml)"
      ],
      "metadata": {
        "colab": {
          "base_uri": "https://localhost:8080/"
        },
        "id": "W2ISkKPLTQkr",
        "outputId": "fb33bc38-b16a-4f05-b875-336748c28610"
      },
      "execution_count": null,
      "outputs": [
        {
          "output_type": "stream",
          "name": "stdout",
          "text": [
            "{201: 'Nikhil', 202: 'Pritesh', 203: 'Udit'}\n"
          ]
        }
      ]
    },
    {
      "cell_type": "code",
      "source": [
        "scaler_learners_devops | scaler_learners_dsml"
      ],
      "metadata": {
        "colab": {
          "base_uri": "https://localhost:8080/"
        },
        "id": "9lYMIKhFTeB2",
        "outputId": "d115eff0-f2b8-4b78-d9de-bb4a50f149f0"
      },
      "execution_count": null,
      "outputs": [
        {
          "output_type": "execute_result",
          "data": {
            "text/plain": [
              "{101: 'Rohini',\n",
              " 102: 'Rewati',\n",
              " 103: 'Chanchal',\n",
              " 104: 'Sachine',\n",
              " 201: 'Nikhil',\n",
              " 202: 'Pritesh',\n",
              " 203: 'Udit'}"
            ]
          },
          "metadata": {},
          "execution_count": 33
        }
      ]
    },
    {
      "cell_type": "code",
      "source": [
        "scaler_learners_devops.update(scaler_learners_dsml)"
      ],
      "metadata": {
        "id": "YBqi8iqcThUe"
      },
      "execution_count": null,
      "outputs": []
    },
    {
      "cell_type": "code",
      "source": [
        "scaler_learners_devops"
      ],
      "metadata": {
        "colab": {
          "base_uri": "https://localhost:8080/"
        },
        "id": "VGY0VakKTw4U",
        "outputId": "3259af4d-3ceb-4c3c-f2ce-44e663dab94b"
      },
      "execution_count": null,
      "outputs": [
        {
          "output_type": "execute_result",
          "data": {
            "text/plain": [
              "{101: 'Rohini',\n",
              " 102: 'Rewati',\n",
              " 103: 'Chanchal',\n",
              " 104: 'Sachine',\n",
              " 201: 'Nikhil',\n",
              " 202: 'Pritesh',\n",
              " 203: 'Udit'}"
            ]
          },
          "metadata": {},
          "execution_count": 35
        }
      ]
    },
    {
      "cell_type": "code",
      "source": [
        "scaler_learners_devops"
      ],
      "metadata": {
        "colab": {
          "base_uri": "https://localhost:8080/"
        },
        "id": "PTTfynqrT7yq",
        "outputId": "94bc7846-6137-4ff0-a7a4-1728770b0900"
      },
      "execution_count": null,
      "outputs": [
        {
          "output_type": "execute_result",
          "data": {
            "text/plain": [
              "{101: 'Rohini',\n",
              " 102: 'Rewati',\n",
              " 103: 'Chanchal',\n",
              " 104: 'Sachine',\n",
              " 201: 'Nikhil',\n",
              " 202: 'Pritesh',\n",
              " 203: 'Udit'}"
            ]
          },
          "metadata": {},
          "execution_count": 36
        }
      ]
    },
    {
      "cell_type": "code",
      "source": [
        "scaler_learners_devops.pop(203)"
      ],
      "metadata": {
        "colab": {
          "base_uri": "https://localhost:8080/",
          "height": 36
        },
        "id": "sZzg90htTx95",
        "outputId": "fc6273a3-1d92-450a-e151-c59f67ca25ce"
      },
      "execution_count": null,
      "outputs": [
        {
          "output_type": "execute_result",
          "data": {
            "text/plain": [
              "'Udit'"
            ],
            "application/vnd.google.colaboratory.intrinsic+json": {
              "type": "string"
            }
          },
          "metadata": {},
          "execution_count": 38
        }
      ]
    },
    {
      "cell_type": "code",
      "source": [
        "scaler_learners_devops"
      ],
      "metadata": {
        "colab": {
          "base_uri": "https://localhost:8080/"
        },
        "id": "JVAeQO9BUAZZ",
        "outputId": "da3aaa84-b8ca-4691-e5d0-3f26f9aa1bcf"
      },
      "execution_count": null,
      "outputs": [
        {
          "output_type": "execute_result",
          "data": {
            "text/plain": [
              "{101: 'Rohini',\n",
              " 102: 'Rewati',\n",
              " 103: 'Chanchal',\n",
              " 104: 'Sachine',\n",
              " 201: 'Nikhil',\n",
              " 202: 'Pritesh'}"
            ]
          },
          "metadata": {},
          "execution_count": 39
        }
      ]
    },
    {
      "cell_type": "code",
      "source": [
        "scaler_learners_devops.pop()"
      ],
      "metadata": {
        "colab": {
          "base_uri": "https://localhost:8080/",
          "height": 142
        },
        "id": "dMmpcYwCUFBw",
        "outputId": "a2f6c18c-8b45-422d-ee95-358b07ec5583"
      },
      "execution_count": null,
      "outputs": [
        {
          "output_type": "error",
          "ename": "TypeError",
          "evalue": "pop expected at least 1 argument, got 0",
          "traceback": [
            "\u001b[0;31m---------------------------------------------------------------------------\u001b[0m",
            "\u001b[0;31mTypeError\u001b[0m                                 Traceback (most recent call last)",
            "\u001b[0;32m<ipython-input-40-3c0d5424253a>\u001b[0m in \u001b[0;36m<cell line: 1>\u001b[0;34m()\u001b[0m\n\u001b[0;32m----> 1\u001b[0;31m \u001b[0mscaler_learners_devops\u001b[0m\u001b[0;34m.\u001b[0m\u001b[0mpop\u001b[0m\u001b[0;34m(\u001b[0m\u001b[0;34m)\u001b[0m\u001b[0;34m\u001b[0m\u001b[0;34m\u001b[0m\u001b[0m\n\u001b[0m",
            "\u001b[0;31mTypeError\u001b[0m: pop expected at least 1 argument, got 0"
          ]
        }
      ]
    },
    {
      "cell_type": "code",
      "source": [
        "del scaler_learners_devops[101]"
      ],
      "metadata": {
        "id": "aVdouoWSUP1p"
      },
      "execution_count": null,
      "outputs": []
    },
    {
      "cell_type": "code",
      "source": [
        "del scaler_learners_devops"
      ],
      "metadata": {
        "id": "bLknxCkLUWKS"
      },
      "execution_count": null,
      "outputs": []
    },
    {
      "cell_type": "code",
      "source": [
        "scaler_learners_devops"
      ],
      "metadata": {
        "colab": {
          "base_uri": "https://localhost:8080/",
          "height": 142
        },
        "id": "GItYeoNpUYT6",
        "outputId": "c3f61979-4522-4a7b-f15f-4bb39f04ff86"
      },
      "execution_count": null,
      "outputs": [
        {
          "output_type": "error",
          "ename": "NameError",
          "evalue": "name 'scaler_learners_devops' is not defined",
          "traceback": [
            "\u001b[0;31m---------------------------------------------------------------------------\u001b[0m",
            "\u001b[0;31mNameError\u001b[0m                                 Traceback (most recent call last)",
            "\u001b[0;32m<ipython-input-44-e4e3d1c4a8f2>\u001b[0m in \u001b[0;36m<cell line: 1>\u001b[0;34m()\u001b[0m\n\u001b[0;32m----> 1\u001b[0;31m \u001b[0mscaler_learners_devops\u001b[0m\u001b[0;34m\u001b[0m\u001b[0;34m\u001b[0m\u001b[0m\n\u001b[0m",
            "\u001b[0;31mNameError\u001b[0m: name 'scaler_learners_devops' is not defined"
          ]
        }
      ]
    },
    {
      "cell_type": "code",
      "source": [
        "scaler_learners_dsml= {201:\"Nikhil\", 202:\"Pritesh\", 203:\"Udit\"}\n",
        "\n",
        "scaler_learners_dsml.remove"
      ],
      "metadata": {
        "colab": {
          "base_uri": "https://localhost:8080/",
          "height": 176
        },
        "id": "8AH_0l5QUbUN",
        "outputId": "ee12ae1d-b67a-44af-8ebb-3192f9bec34e"
      },
      "execution_count": null,
      "outputs": [
        {
          "output_type": "error",
          "ename": "AttributeError",
          "evalue": "'dict' object has no attribute 'remove'",
          "traceback": [
            "\u001b[0;31m---------------------------------------------------------------------------\u001b[0m",
            "\u001b[0;31mAttributeError\u001b[0m                            Traceback (most recent call last)",
            "\u001b[0;32m<ipython-input-45-e1ad1fd3ac9e>\u001b[0m in \u001b[0;36m<cell line: 3>\u001b[0;34m()\u001b[0m\n\u001b[1;32m      1\u001b[0m \u001b[0mscaler_learners_dsml\u001b[0m\u001b[0;34m=\u001b[0m \u001b[0;34m{\u001b[0m\u001b[0;36m201\u001b[0m\u001b[0;34m:\u001b[0m\u001b[0;34m\"Nikhil\"\u001b[0m\u001b[0;34m,\u001b[0m \u001b[0;36m202\u001b[0m\u001b[0;34m:\u001b[0m\u001b[0;34m\"Pritesh\"\u001b[0m\u001b[0;34m,\u001b[0m \u001b[0;36m203\u001b[0m\u001b[0;34m:\u001b[0m\u001b[0;34m\"Udit\"\u001b[0m\u001b[0;34m}\u001b[0m\u001b[0;34m\u001b[0m\u001b[0;34m\u001b[0m\u001b[0m\n\u001b[1;32m      2\u001b[0m \u001b[0;34m\u001b[0m\u001b[0m\n\u001b[0;32m----> 3\u001b[0;31m \u001b[0mscaler_learners_dsml\u001b[0m\u001b[0;34m.\u001b[0m\u001b[0mremove\u001b[0m\u001b[0;34m\u001b[0m\u001b[0;34m\u001b[0m\u001b[0m\n\u001b[0m",
            "\u001b[0;31mAttributeError\u001b[0m: 'dict' object has no attribute 'remove'"
          ]
        }
      ]
    },
    {
      "cell_type": "code",
      "source": [
        "101 in scaler_learners_dsml"
      ],
      "metadata": {
        "colab": {
          "base_uri": "https://localhost:8080/"
        },
        "id": "WRS0CQJWUk2R",
        "outputId": "7d1dcd75-980a-479a-87ae-bcbe508aa630"
      },
      "execution_count": null,
      "outputs": [
        {
          "output_type": "execute_result",
          "data": {
            "text/plain": [
              "False"
            ]
          },
          "metadata": {},
          "execution_count": 46
        }
      ]
    },
    {
      "cell_type": "code",
      "source": [
        "all_leaners = {201:[\"Nikhil\", \"DSML\"], 202:[\"Pritesh\",\"Devops\"], 203:[\"Udit\",\"DSML\"]}"
      ],
      "metadata": {
        "id": "oIfxAtaIUwg8"
      },
      "execution_count": null,
      "outputs": []
    },
    {
      "cell_type": "code",
      "source": [
        "all_leaners"
      ],
      "metadata": {
        "colab": {
          "base_uri": "https://localhost:8080/"
        },
        "id": "50GNBkwHVPeI",
        "outputId": "6faeeb17-4c54-40bc-a441-2a39aeceaf84"
      },
      "execution_count": null,
      "outputs": [
        {
          "output_type": "execute_result",
          "data": {
            "text/plain": [
              "{201: ['Nikhil', 'DSML'], 202: ['Pritesh', 'Devops'], 203: ['Udit', 'DSML']}"
            ]
          },
          "metadata": {},
          "execution_count": 48
        }
      ]
    },
    {
      "cell_type": "code",
      "source": [
        "all_leaners[203]"
      ],
      "metadata": {
        "colab": {
          "base_uri": "https://localhost:8080/"
        },
        "id": "7hAUfimjVQzl",
        "outputId": "3a50ddb8-8dcc-4466-d058-2bab4814f6c5"
      },
      "execution_count": null,
      "outputs": [
        {
          "output_type": "execute_result",
          "data": {
            "text/plain": [
              "['Udit', 'DSML']"
            ]
          },
          "metadata": {},
          "execution_count": 49
        }
      ]
    },
    {
      "cell_type": "code",
      "source": [
        "# all_leaners[203] = None"
      ],
      "metadata": {
        "id": "zDdlx9DfVTv0"
      },
      "execution_count": null,
      "outputs": []
    },
    {
      "cell_type": "code",
      "source": [
        "all_leaners = {201:\n",
        " {\"Name\": \"Nikhil\", \"Batch\": \"DSML\"}}"
      ],
      "metadata": {
        "id": "MVNYCAxbVcqx"
      },
      "execution_count": null,
      "outputs": []
    },
    {
      "cell_type": "code",
      "source": [
        "all_leaners"
      ],
      "metadata": {
        "colab": {
          "base_uri": "https://localhost:8080/"
        },
        "id": "2-ThVfSCVmMc",
        "outputId": "8696aadc-7621-40c4-b3d4-fd43e456419e"
      },
      "execution_count": null,
      "outputs": [
        {
          "output_type": "execute_result",
          "data": {
            "text/plain": [
              "{201: {'Name': 'Nikhil', 'Batch': 'DSML'}}"
            ]
          },
          "metadata": {},
          "execution_count": 52
        }
      ]
    },
    {
      "cell_type": "code",
      "source": [
        "all_leaners[201]"
      ],
      "metadata": {
        "colab": {
          "base_uri": "https://localhost:8080/"
        },
        "id": "qvWJz_2pVnmK",
        "outputId": "98cb5277-a47f-46c9-d50e-6cc63adc6960"
      },
      "execution_count": null,
      "outputs": [
        {
          "output_type": "execute_result",
          "data": {
            "text/plain": [
              "{'Name': 'Nikhil', 'Batch': 'DSML'}"
            ]
          },
          "metadata": {},
          "execution_count": 53
        }
      ]
    },
    {
      "cell_type": "markdown",
      "source": [
        "**Can you get and Print Batch of id 201**\n",
        "\n",
        "\n",
        "**Convert the dictionary**\n",
        "\n",
        "all_leaners = {201:[\"Nikhil\", \"DSML\"], 202:[\"Pritesh\",\"Devops\"], 203:[\"Udit\",\"DSML\"]}\n",
        "\n",
        "into same format as:\n",
        "all_leaners = {201:{\"Name\": \"Nikhil\", \"Batch\": \"DSML\"}}\n"
      ],
      "metadata": {
        "id": "2ioN6XeAVrto"
      }
    },
    {
      "cell_type": "markdown",
      "source": [
        "### Question"
      ],
      "metadata": {
        "id": "xpM2uFp3WL-3"
      }
    },
    {
      "cell_type": "code",
      "source": [
        "scaler_learners_dsml= {201:\"Nikhil\", 202:\"Pritesh\", 203:\"Udit\"}"
      ],
      "metadata": {
        "id": "KbVpGS1DVqff"
      },
      "execution_count": null,
      "outputs": []
    },
    {
      "cell_type": "code",
      "source": [
        "scaler_learners_dsml[201]"
      ],
      "metadata": {
        "colab": {
          "base_uri": "https://localhost:8080/",
          "height": 36
        },
        "id": "uVtgIPCgWRm1",
        "outputId": "f4d578ac-dfba-4879-dd7c-8712f69f60be"
      },
      "execution_count": null,
      "outputs": [
        {
          "output_type": "execute_result",
          "data": {
            "text/plain": [
              "'Nikhil'"
            ],
            "application/vnd.google.colaboratory.intrinsic+json": {
              "type": "string"
            }
          },
          "metadata": {},
          "execution_count": 55
        }
      ]
    },
    {
      "cell_type": "code",
      "source": [
        "scaler_learners_dsml[101]"
      ],
      "metadata": {
        "colab": {
          "base_uri": "https://localhost:8080/",
          "height": 142
        },
        "id": "JCg_AHBxWVaZ",
        "outputId": "83cd4ad3-65bb-453b-ffb8-371e0461ce48"
      },
      "execution_count": null,
      "outputs": [
        {
          "output_type": "error",
          "ename": "KeyError",
          "evalue": "101",
          "traceback": [
            "\u001b[0;31m---------------------------------------------------------------------------\u001b[0m",
            "\u001b[0;31mKeyError\u001b[0m                                  Traceback (most recent call last)",
            "\u001b[0;32m<ipython-input-58-948d9bdffdad>\u001b[0m in \u001b[0;36m<cell line: 1>\u001b[0;34m()\u001b[0m\n\u001b[0;32m----> 1\u001b[0;31m \u001b[0mscaler_learners_dsml\u001b[0m\u001b[0;34m[\u001b[0m\u001b[0;36m101\u001b[0m\u001b[0;34m]\u001b[0m\u001b[0;34m\u001b[0m\u001b[0;34m\u001b[0m\u001b[0m\n\u001b[0m",
            "\u001b[0;31mKeyError\u001b[0m: 101"
          ]
        }
      ]
    },
    {
      "cell_type": "markdown",
      "source": [
        "### way to avoid this error"
      ],
      "metadata": {
        "id": "fOx3nCD7WdSP"
      }
    },
    {
      "cell_type": "code",
      "source": [
        "scaler_learners_dsml.get(201)"
      ],
      "metadata": {
        "colab": {
          "base_uri": "https://localhost:8080/",
          "height": 36
        },
        "id": "wwOFlxmbWZyo",
        "outputId": "58cd826e-3952-4a4b-f972-e028c3b80209"
      },
      "execution_count": null,
      "outputs": [
        {
          "output_type": "execute_result",
          "data": {
            "text/plain": [
              "'Nikhil'"
            ],
            "application/vnd.google.colaboratory.intrinsic+json": {
              "type": "string"
            }
          },
          "metadata": {},
          "execution_count": 59
        }
      ]
    },
    {
      "cell_type": "code",
      "source": [
        "print(scaler_learners_dsml.get(101))"
      ],
      "metadata": {
        "colab": {
          "base_uri": "https://localhost:8080/"
        },
        "id": "umv94yEsWiRA",
        "outputId": "b1eaeb42-ac8e-482e-a113-dbeb6bcd9350"
      },
      "execution_count": null,
      "outputs": [
        {
          "output_type": "stream",
          "name": "stdout",
          "text": [
            "None\n"
          ]
        }
      ]
    },
    {
      "cell_type": "code",
      "source": [
        "print(scaler_learners_dsml.get(101, \"This Key is Not Present\"))"
      ],
      "metadata": {
        "colab": {
          "base_uri": "https://localhost:8080/"
        },
        "id": "llEDBBDyWmZi",
        "outputId": "879933a9-8fcf-46ca-f8a0-57a0fda2106b"
      },
      "execution_count": null,
      "outputs": [
        {
          "output_type": "stream",
          "name": "stdout",
          "text": [
            "This Key is Not Present\n"
          ]
        }
      ]
    },
    {
      "cell_type": "code",
      "source": [
        "print(scaler_learners_dsml.get(201, \"This Key is Not Present\"))"
      ],
      "metadata": {
        "colab": {
          "base_uri": "https://localhost:8080/"
        },
        "id": "4knvvpNlWwNT",
        "outputId": "db42c339-85f9-42b8-8c39-998e85fadf0b"
      },
      "execution_count": null,
      "outputs": [
        {
          "output_type": "stream",
          "name": "stdout",
          "text": [
            "Nikhil\n"
          ]
        }
      ]
    },
    {
      "cell_type": "markdown",
      "source": [
        "### Iterating"
      ],
      "metadata": {
        "id": "FeqO8_KjZEmx"
      }
    },
    {
      "cell_type": "code",
      "source": [
        "dict1 = {'name': 'Thor Odinson',\n",
        "     'age': 1500,\n",
        "     'weapon': ['mjonir', 'stormbreaker'],\n",
        "     'strongest': True}\n",
        "\n",
        "\n",
        "for key in dict1:\n",
        "    print(key)"
      ],
      "metadata": {
        "colab": {
          "base_uri": "https://localhost:8080/"
        },
        "id": "HDjUzmG2Wygu",
        "outputId": "ca71c5da-f217-49a0-a781-02d17e4c4c4f"
      },
      "execution_count": null,
      "outputs": [
        {
          "output_type": "stream",
          "name": "stdout",
          "text": [
            "name\n",
            "age\n",
            "weapon\n",
            "strongest\n"
          ]
        }
      ]
    },
    {
      "cell_type": "code",
      "source": [
        "for key in dict1:\n",
        "    print(\"Key: \",key)\n",
        "    print(\"Value: \",dict1[key])"
      ],
      "metadata": {
        "colab": {
          "base_uri": "https://localhost:8080/"
        },
        "id": "d_eh_vD_ZVeR",
        "outputId": "86789854-3ae4-43d1-e740-389e5e5e3953"
      },
      "execution_count": null,
      "outputs": [
        {
          "output_type": "stream",
          "name": "stdout",
          "text": [
            "Key:  name\n",
            "Value:  Thor Odinson\n",
            "Key:  age\n",
            "Value:  1500\n",
            "Key:  weapon\n",
            "Value:  ['mjonir', 'stormbreaker']\n",
            "Key:  strongest\n",
            "Value:  True\n"
          ]
        }
      ]
    },
    {
      "cell_type": "code",
      "source": [
        "for key,value in dict1.items():\n",
        "    print(\"Key: \",key)\n",
        "    print(\"Value: \",value)"
      ],
      "metadata": {
        "colab": {
          "base_uri": "https://localhost:8080/"
        },
        "id": "CClSU5IpZjLw",
        "outputId": "c934110e-a6e5-4692-c1c5-ec14e7d997c3"
      },
      "execution_count": null,
      "outputs": [
        {
          "output_type": "stream",
          "name": "stdout",
          "text": [
            "Key:  name\n",
            "Value:  Thor Odinson\n",
            "Key:  age\n",
            "Value:  1500\n",
            "Key:  weapon\n",
            "Value:  ['mjonir', 'stormbreaker']\n",
            "Key:  strongest\n",
            "Value:  True\n"
          ]
        }
      ]
    },
    {
      "cell_type": "code",
      "source": [
        "### in op\n",
        "\n",
        "\"age\" in dict1"
      ],
      "metadata": {
        "colab": {
          "base_uri": "https://localhost:8080/"
        },
        "id": "Y59mYHlsZ8vR",
        "outputId": "49f7918a-a2ca-4458-e6a2-73038a080716"
      },
      "execution_count": null,
      "outputs": [
        {
          "output_type": "execute_result",
          "data": {
            "text/plain": [
              "True"
            ]
          },
          "metadata": {},
          "execution_count": 70
        }
      ]
    },
    {
      "cell_type": "markdown",
      "source": [
        "### Can you check if 1500 is present in values or not"
      ],
      "metadata": {
        "id": "fBUlzyZLajVi"
      }
    },
    {
      "cell_type": "code",
      "source": [
        "1500 in dict1.values()"
      ],
      "metadata": {
        "colab": {
          "base_uri": "https://localhost:8080/"
        },
        "id": "hKZl_gISaivO",
        "outputId": "d6d3dc6a-4f46-49fb-9496-1b878d36ada9"
      },
      "execution_count": null,
      "outputs": [
        {
          "output_type": "execute_result",
          "data": {
            "text/plain": [
              "True"
            ]
          },
          "metadata": {},
          "execution_count": 72
        }
      ]
    },
    {
      "cell_type": "code",
      "source": [],
      "metadata": {
        "id": "1D8kWTTmbSn-"
      },
      "execution_count": null,
      "outputs": []
    },
    {
      "cell_type": "code",
      "source": [
        "\"age\" in dict1"
      ],
      "metadata": {
        "colab": {
          "base_uri": "https://localhost:8080/"
        },
        "id": "q0wiDQQCaoH_",
        "outputId": "0fd237e3-ac33-4258-e142-d08c81605ffa"
      },
      "execution_count": null,
      "outputs": [
        {
          "output_type": "execute_result",
          "data": {
            "text/plain": [
              "True"
            ]
          },
          "metadata": {},
          "execution_count": 75
        }
      ]
    },
    {
      "cell_type": "code",
      "source": [
        "dict1.keys()"
      ],
      "metadata": {
        "colab": {
          "base_uri": "https://localhost:8080/"
        },
        "id": "IOgrkJgTbclI",
        "outputId": "465678ff-584d-458f-bf8c-919b023db5b0"
      },
      "execution_count": null,
      "outputs": [
        {
          "output_type": "execute_result",
          "data": {
            "text/plain": [
              "dict_keys(['name', 'age', 'weapon', 'strongest'])"
            ]
          },
          "metadata": {},
          "execution_count": 76
        }
      ]
    },
    {
      "cell_type": "code",
      "source": [
        "\"age\" in dict1.keys() # same as membership on list"
      ],
      "metadata": {
        "colab": {
          "base_uri": "https://localhost:8080/"
        },
        "id": "rAnifEQ3bXj9",
        "outputId": "d7b01665-af62-4a22-e019-465af93b1af1"
      },
      "execution_count": null,
      "outputs": [
        {
          "output_type": "execute_result",
          "data": {
            "text/plain": [
              "True"
            ]
          },
          "metadata": {},
          "execution_count": 77
        }
      ]
    },
    {
      "cell_type": "markdown",
      "source": [
        "### Let's try key as dict"
      ],
      "metadata": {
        "id": "pqIatf9kcnc5"
      }
    },
    {
      "cell_type": "code",
      "source": [
        "dict1 = {101:{\"Name\":\"Sachin\", \"Age\":20}}"
      ],
      "metadata": {
        "colab": {
          "base_uri": "https://localhost:8080/",
          "height": 142
        },
        "id": "aa3oG_Lnbl_I",
        "outputId": "fb521304-90ad-424d-e017-2e10d1c1561f"
      },
      "execution_count": null,
      "outputs": [
        {
          "output_type": "error",
          "ename": "TypeError",
          "evalue": "unhashable type: 'dict'",
          "traceback": [
            "\u001b[0;31m---------------------------------------------------------------------------\u001b[0m",
            "\u001b[0;31mTypeError\u001b[0m                                 Traceback (most recent call last)",
            "\u001b[0;32m<ipython-input-78-429857f8d1b8>\u001b[0m in \u001b[0;36m<cell line: 1>\u001b[0;34m()\u001b[0m\n\u001b[0;32m----> 1\u001b[0;31m \u001b[0mdict1\u001b[0m \u001b[0;34m=\u001b[0m \u001b[0;34m{\u001b[0m\u001b[0;34m{\u001b[0m\u001b[0;34m\"Name\"\u001b[0m\u001b[0;34m:\u001b[0m\u001b[0;34m\"Sachin\"\u001b[0m\u001b[0;34m,\u001b[0m \u001b[0;34m\"Age\"\u001b[0m\u001b[0;34m:\u001b[0m\u001b[0;36m20\u001b[0m\u001b[0;34m}\u001b[0m\u001b[0;34m:\u001b[0m\u001b[0;36m101\u001b[0m\u001b[0;34m}\u001b[0m\u001b[0;34m\u001b[0m\u001b[0;34m\u001b[0m\u001b[0m\n\u001b[0m",
            "\u001b[0;31mTypeError\u001b[0m: unhashable type: 'dict'"
          ]
        }
      ]
    },
    {
      "cell_type": "code",
      "source": [
        "dict1 = {101:{\"Name\":\"Sachin\", \"Age\":20}}"
      ],
      "metadata": {
        "id": "ukw0pcq9cwdf"
      },
      "execution_count": null,
      "outputs": []
    },
    {
      "cell_type": "code",
      "source": [
        "{\"Name\":\"Sachin\", \"Age\":20}"
      ],
      "metadata": {
        "colab": {
          "base_uri": "https://localhost:8080/"
        },
        "id": "81GZsdWJdlfR",
        "outputId": "375e38ce-6353-4fc8-d714-9fde7a65d206"
      },
      "execution_count": null,
      "outputs": [
        {
          "output_type": "execute_result",
          "data": {
            "text/plain": [
              "{'Name': 'Sachin', 'Age': 20}"
            ]
          },
          "metadata": {},
          "execution_count": 84
        }
      ]
    },
    {
      "cell_type": "markdown",
      "source": [
        "{key:value, }"
      ],
      "metadata": {
        "id": "W7WBMY-pdx9O"
      }
    },
    {
      "cell_type": "code",
      "source": [
        "dict1 = {[\"Sachin\", \"Age\"]:20}"
      ],
      "metadata": {
        "colab": {
          "base_uri": "https://localhost:8080/",
          "height": 142
        },
        "id": "5U_TbMTgc227",
        "outputId": "41387948-efbf-4d8e-978a-44cd75efe255"
      },
      "execution_count": null,
      "outputs": [
        {
          "output_type": "error",
          "ename": "TypeError",
          "evalue": "unhashable type: 'list'",
          "traceback": [
            "\u001b[0;31m---------------------------------------------------------------------------\u001b[0m",
            "\u001b[0;31mTypeError\u001b[0m                                 Traceback (most recent call last)",
            "\u001b[0;32m<ipython-input-80-8f52eba1aac0>\u001b[0m in \u001b[0;36m<cell line: 1>\u001b[0;34m()\u001b[0m\n\u001b[0;32m----> 1\u001b[0;31m \u001b[0mdict1\u001b[0m \u001b[0;34m=\u001b[0m \u001b[0;34m{\u001b[0m\u001b[0;34m[\u001b[0m\u001b[0;34m\"Sachin\"\u001b[0m\u001b[0;34m,\u001b[0m \u001b[0;34m\"Age\"\u001b[0m\u001b[0;34m]\u001b[0m\u001b[0;34m:\u001b[0m\u001b[0;36m20\u001b[0m\u001b[0;34m}\u001b[0m\u001b[0;34m\u001b[0m\u001b[0;34m\u001b[0m\u001b[0m\n\u001b[0m",
            "\u001b[0;31mTypeError\u001b[0m: unhashable type: 'list'"
          ]
        }
      ]
    },
    {
      "cell_type": "code",
      "source": [
        "dict1 = {20:[\"Sachin\", \"Age\"]}"
      ],
      "metadata": {
        "id": "GcXzPcUzc_Yu"
      },
      "execution_count": null,
      "outputs": []
    },
    {
      "cell_type": "code",
      "source": [
        "dict1 = {(\"Sachin\", \"Age\"):20} # no practical use"
      ],
      "metadata": {
        "id": "NZTJXQWddGQE"
      },
      "execution_count": null,
      "outputs": []
    },
    {
      "cell_type": "markdown",
      "source": [
        "### Sorting"
      ],
      "metadata": {
        "id": "-2awGu5od6oJ"
      }
    },
    {
      "cell_type": "code",
      "source": [
        "list1 = [10,2,-3,5]\n",
        "### sorted\n",
        "sorted(list1)"
      ],
      "metadata": {
        "colab": {
          "base_uri": "https://localhost:8080/"
        },
        "id": "7BacTtPxdNTM",
        "outputId": "7768bc25-6403-46ba-dcfd-f4ed730529b2"
      },
      "execution_count": null,
      "outputs": [
        {
          "output_type": "execute_result",
          "data": {
            "text/plain": [
              "[-3, 2, 5, 10]"
            ]
          },
          "metadata": {},
          "execution_count": 85
        }
      ]
    },
    {
      "cell_type": "code",
      "source": [
        "help(sorted)"
      ],
      "metadata": {
        "colab": {
          "base_uri": "https://localhost:8080/"
        },
        "id": "ryOdww55eMJ0",
        "outputId": "e4d69b66-37c9-429f-e90f-c7a67e9ec5c8"
      },
      "execution_count": null,
      "outputs": [
        {
          "output_type": "stream",
          "name": "stdout",
          "text": [
            "Help on built-in function sorted in module builtins:\n",
            "\n",
            "sorted(iterable, /, *, key=None, reverse=False)\n",
            "    Return a new list containing all items from the iterable in ascending order.\n",
            "    \n",
            "    A custom key function can be supplied to customize the sort order, and the\n",
            "    reverse flag can be set to request the result in descending order.\n",
            "\n"
          ]
        }
      ]
    },
    {
      "cell_type": "code",
      "source": [
        "sorted(list1, reverse=True)"
      ],
      "metadata": {
        "colab": {
          "base_uri": "https://localhost:8080/"
        },
        "id": "qPl90UuJeE93",
        "outputId": "74e1f633-3916-456b-aeea-6502b8eafc84"
      },
      "execution_count": null,
      "outputs": [
        {
          "output_type": "execute_result",
          "data": {
            "text/plain": [
              "[10, 5, 2, -3]"
            ]
          },
          "metadata": {},
          "execution_count": 87
        }
      ]
    },
    {
      "cell_type": "code",
      "source": [
        "list1 = ['grape', 'banana', 'apple']\n",
        "sorted(list1)"
      ],
      "metadata": {
        "colab": {
          "base_uri": "https://localhost:8080/"
        },
        "id": "8c_PsL9HeQVa",
        "outputId": "fc3d4bb9-afc5-4ac2-bcd2-d335b940f9b8"
      },
      "execution_count": null,
      "outputs": [
        {
          "output_type": "execute_result",
          "data": {
            "text/plain": [
              "['apple', 'banana', 'grape']"
            ]
          },
          "metadata": {},
          "execution_count": 88
        }
      ]
    },
    {
      "cell_type": "code",
      "source": [
        "list1 = ['grape', 'banana', 'apple' ,1 ]\n",
        "sorted(list1)"
      ],
      "metadata": {
        "colab": {
          "base_uri": "https://localhost:8080/",
          "height": 159
        },
        "id": "fSt8EPuPehFu",
        "outputId": "9589941f-6a6e-48bb-c60d-eca81498ede8"
      },
      "execution_count": null,
      "outputs": [
        {
          "output_type": "error",
          "ename": "TypeError",
          "evalue": "'<' not supported between instances of 'int' and 'str'",
          "traceback": [
            "\u001b[0;31m---------------------------------------------------------------------------\u001b[0m",
            "\u001b[0;31mTypeError\u001b[0m                                 Traceback (most recent call last)",
            "\u001b[0;32m<ipython-input-89-0c5c878d4ece>\u001b[0m in \u001b[0;36m<cell line: 2>\u001b[0;34m()\u001b[0m\n\u001b[1;32m      1\u001b[0m \u001b[0mlist1\u001b[0m \u001b[0;34m=\u001b[0m \u001b[0;34m[\u001b[0m\u001b[0;34m'grape'\u001b[0m\u001b[0;34m,\u001b[0m \u001b[0;34m'banana'\u001b[0m\u001b[0;34m,\u001b[0m \u001b[0;34m'apple'\u001b[0m \u001b[0;34m,\u001b[0m\u001b[0;36m1\u001b[0m \u001b[0;34m]\u001b[0m\u001b[0;34m\u001b[0m\u001b[0;34m\u001b[0m\u001b[0m\n\u001b[0;32m----> 2\u001b[0;31m \u001b[0msorted\u001b[0m\u001b[0;34m(\u001b[0m\u001b[0mlist1\u001b[0m\u001b[0;34m)\u001b[0m\u001b[0;34m\u001b[0m\u001b[0;34m\u001b[0m\u001b[0m\n\u001b[0m",
            "\u001b[0;31mTypeError\u001b[0m: '<' not supported between instances of 'int' and 'str'"
          ]
        }
      ]
    },
    {
      "cell_type": "code",
      "source": [
        "my_dict = {'banana': 3, 'apple': 2, 'orange': 5, 'grape': 1}\n",
        "print(my_dict)"
      ],
      "metadata": {
        "colab": {
          "base_uri": "https://localhost:8080/"
        },
        "id": "N_ikvKulenKX",
        "outputId": "fc9f5ff0-861a-4f17-b69a-b7e453b2929a"
      },
      "execution_count": null,
      "outputs": [
        {
          "output_type": "stream",
          "name": "stdout",
          "text": [
            "{'banana': 3, 'apple': 2, 'orange': 5, 'grape': 1}\n"
          ]
        }
      ]
    },
    {
      "cell_type": "code",
      "source": [
        "sorted(my_dict)"
      ],
      "metadata": {
        "colab": {
          "base_uri": "https://localhost:8080/"
        },
        "id": "J5MDr0ldexhw",
        "outputId": "ad0ff3b9-77c5-4061-9f39-9191e8dad69e"
      },
      "execution_count": null,
      "outputs": [
        {
          "output_type": "execute_result",
          "data": {
            "text/plain": [
              "['apple', 'banana', 'grape', 'orange']"
            ]
          },
          "metadata": {},
          "execution_count": 91
        }
      ]
    },
    {
      "cell_type": "code",
      "source": [
        "dict(sorted(my_dict.items()))"
      ],
      "metadata": {
        "colab": {
          "base_uri": "https://localhost:8080/"
        },
        "id": "ZDyrI7l0e2H3",
        "outputId": "d0767b47-5bdb-4f28-bdea-1d02214507ef"
      },
      "execution_count": null,
      "outputs": [
        {
          "output_type": "execute_result",
          "data": {
            "text/plain": [
              "{'apple': 2, 'banana': 3, 'grape': 1, 'orange': 5}"
            ]
          },
          "metadata": {},
          "execution_count": 93
        }
      ]
    },
    {
      "cell_type": "code",
      "source": [
        "list1 = [[10,-5],[-4,11],[99,0]]\n",
        "sorted(list1)"
      ],
      "metadata": {
        "colab": {
          "base_uri": "https://localhost:8080/"
        },
        "id": "YxvNHV97e9Va",
        "outputId": "46389e62-1a41-4ac5-f509-1ee0bf879297"
      },
      "execution_count": null,
      "outputs": [
        {
          "output_type": "execute_result",
          "data": {
            "text/plain": [
              "[[-4, 11], [10, -5], [99, 0]]"
            ]
          },
          "metadata": {},
          "execution_count": 94
        }
      ]
    },
    {
      "cell_type": "markdown",
      "source": [
        "defaults sorts on 1st value i.e 0 index always for nested ds"
      ],
      "metadata": {
        "id": "tApACGapfoJl"
      }
    },
    {
      "cell_type": "code",
      "source": [
        "help(sorted)"
      ],
      "metadata": {
        "colab": {
          "base_uri": "https://localhost:8080/"
        },
        "id": "K3lexwj2fmbL",
        "outputId": "c384e881-6670-4968-ea52-e4e44d3c5e51"
      },
      "execution_count": null,
      "outputs": [
        {
          "output_type": "stream",
          "name": "stdout",
          "text": [
            "Help on built-in function sorted in module builtins:\n",
            "\n",
            "sorted(iterable, /, *, key=None, reverse=False)\n",
            "    Return a new list containing all items from the iterable in ascending order.\n",
            "    \n",
            "    A custom key function can be supplied to customize the sort order, and the\n",
            "    reverse flag can be set to request the result in descending order.\n",
            "\n"
          ]
        }
      ]
    },
    {
      "cell_type": "code",
      "source": [
        "list1 = [[10,-5],[-4,11],[99,0]]\n",
        "sorted(list1, key = lambda x:x[1])"
      ],
      "metadata": {
        "colab": {
          "base_uri": "https://localhost:8080/"
        },
        "id": "lvcOD2ZdfYmC",
        "outputId": "81c94821-4e10-4ee9-e380-b6573a416932"
      },
      "execution_count": null,
      "outputs": [
        {
          "output_type": "execute_result",
          "data": {
            "text/plain": [
              "[[10, -5], [99, 0], [-4, 11]]"
            ]
          },
          "metadata": {},
          "execution_count": 96
        }
      ]
    },
    {
      "cell_type": "markdown",
      "source": [
        "### Question: Can you change the below code to sort on Values"
      ],
      "metadata": {
        "id": "cJltBYhcgSuL"
      }
    },
    {
      "cell_type": "code",
      "source": [
        "dict(sorted(my_dict.items()))"
      ],
      "metadata": {
        "colab": {
          "base_uri": "https://localhost:8080/"
        },
        "id": "NCQGv6U1f9v3",
        "outputId": "0f2d8d51-805b-457e-c11f-07c128ee70bc"
      },
      "execution_count": null,
      "outputs": [
        {
          "output_type": "execute_result",
          "data": {
            "text/plain": [
              "{'apple': 2, 'banana': 3, 'grape': 1, 'orange': 5}"
            ]
          },
          "metadata": {},
          "execution_count": 97
        }
      ]
    },
    {
      "cell_type": "markdown",
      "source": [
        "**VVI Question:.**\n",
        "Write a function which takes string as input and creates a character frequency Dictionary:\n",
        "\n",
        "There will be one key-value pair for each unique character.\n",
        "Key will be the character name.\n",
        "Value will be the count of the character inside the string.\n",
        "\n",
        "\n",
        "```\n",
        "Sample_input:\n",
        "rrssstttt\n",
        "\n",
        "Sample_Output\n",
        "{\n",
        "    \"r\": 2,\n",
        "    \"s\": 3,\n",
        "    \"t\": 4\n",
        "}\n",
        "\n",
        "```\n"
      ],
      "metadata": {
        "id": "FwDmfgvLgpd-"
      }
    },
    {
      "cell_type": "code",
      "source": [],
      "metadata": {
        "id": "ObcR8r2uglUY"
      },
      "execution_count": null,
      "outputs": []
    }
  ]
}