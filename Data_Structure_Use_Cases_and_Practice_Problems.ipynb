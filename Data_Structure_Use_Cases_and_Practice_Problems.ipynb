{
  "nbformat": 4,
  "nbformat_minor": 0,
  "metadata": {
    "colab": {
      "provenance": [],
      "authorship_tag": "ABX9TyPiwreWdDivICQTlVWqTF3I",
      "include_colab_link": true
    },
    "kernelspec": {
      "name": "python3",
      "display_name": "Python 3"
    },
    "language_info": {
      "name": "python"
    }
  },
  "cells": [
    {
      "cell_type": "markdown",
      "metadata": {
        "id": "view-in-github",
        "colab_type": "text"
      },
      "source": [
        "<a href=\"https://colab.research.google.com/github/SachinScaler/PythonModuleApril24/blob/main/Data_Structure_Use_Cases_and_Practice_Problems.ipynb\" target=\"_parent\"><img src=\"https://colab.research.google.com/assets/colab-badge.svg\" alt=\"Open In Colab\"/></a>"
      ]
    },
    {
      "cell_type": "markdown",
      "source": [
        "## Data Structures in Python: Real-World Examples\n",
        "\n",
        "Data structures are the building blocks of any programming language. They provide efficient ways to store, organize, and manage information. Here's a comprehensive look at standard data structures available in Python with detailed explanations of real-world applications:\n",
        "\n",
        "**1. List: Ordered Collection of Items**\n",
        "\n",
        "* Imagine a grocery list. You write down items in the specific order you'll encounter them at the store (bread, milk, eggs, apples).\n",
        "* A **list** is similar. It stores a collection of items in a **sequence**. You can access items by their **index** (position in the list), starting from 0. Lists are **mutable**, meaning you can add, remove, or change elements after creation.\n",
        "\n",
        "**Example:**\n",
        "\n",
        "```python\n",
        "shopping_list = [\"bread\", \"milk\", \"eggs\", \"apples\"]\n",
        "shopping_list.append(\"cheese\")  # Add cheese to the end of the list\n",
        "shopping_list.insert(1, \"cereal\")  # Insert cereal at index 1\n",
        "shopping_list.remove(\"milk\")  # Remove milk from the list\n",
        "print(shopping_list)  # Output: [\"bread\", \"cereal\", \"eggs\", \"apples\", \"cheese\"]\n",
        "```\n",
        "\n",
        "**Real-World Uses:**\n",
        "\n",
        "* **Online shopping carts:** Maintain a list of items you plan to purchase, allowing you to add, remove, or change quantities.\n",
        "* **Social media timelines:** Each post with its content, comments, and likes can be represented as a list item in chronological order.\n",
        "* **Task management applications:** Create to-do lists with priorities at the beginning and check them off as you complete them.\n",
        "* **Data analysis:**  Lists are used to store and process data sets for statistical analysis or visualization.\n",
        "* **Game development:**  Animation sequences can be stored as lists of frames to be displayed in order.\n",
        "\n",
        "**2. Tuple: Immutable Sequence of Elements**\n",
        "\n",
        "* Imagine a product label showing name, price, and color (e.g., \"T-Shirt\", $15, \"Blue\").\n",
        "* A **tuple** is like a fixed list. It stores an ordered collection of elements that are **immutable**, meaning you cannot change them after creation. Tuples are ideal for data that shouldn't be modified.\n",
        "\n",
        "**Example:**\n",
        "\n",
        "```python\n",
        "product_info = (\"T-Shirt\", 15, \"Blue\")\n",
        "# product_info[0] = \"Hat\"  # This will cause an error as tuples are immutable\n",
        "print(product_info)  # Output: (\"T-Shirt\", 15, \"Blue\")\n",
        "```\n",
        "\n",
        "**Real-World Uses:**\n",
        "\n",
        "* **Scientific data:** Store coordinates (latitude, longitude) or data points in a graph as a tuple for immutability and clarity.\n",
        "* **Game character stats:** Character health, attack power, and defense can be stored in a tuple that remains constant during gameplay.\n",
        "* **System configuration:** Screen resolution or keyboard shortcuts can be represented as a tuple for easy reference and to prevent accidental changes.\n",
        "* **Computer network configuration:**  IP addresses and subnet masks can be stored as tuples to ensure consistency.\n",
        "\n",
        "**3. Set: Unique Elements**\n",
        "\n",
        "* Think about assigning unique roles (designer, programmer, writer) to a group project.\n",
        "* A **set** stores only **unique** items and automatically removes duplicates. This ensures no two members have the same role. Sets are **unordered**, meaning the order elements are added is not preserved.\n",
        "\n",
        "**Example:**\n",
        "\n",
        "```python\n",
        "class_roles = {\"designer\", \"programmer\", \"writer\"}\n",
        "class_roles.add(\"writer\")  # Adding a duplicate won't change the set\n",
        "print(class_roles)  # Output: {\"designer\", \"programmer\", \"writer\"}  (Order may vary)\n",
        "```\n",
        "\n",
        "**Real-World Uses:**\n",
        "\n",
        "* **Available ingredients:** Use a set to store the ingredients you have on hand to quickly check if a recipe requires something you don't have.\n",
        "* **Unique usernames:** Websites use sets to check and ensure usernames/EmailID are unique while signup and prevent duplicate accounts.\n",
        "* **Tag system:** Photo sharing apps can utilize sets to store unique tags associated with each photo, allowing for efficient searching based on tags.\n",
        "* **Finding common elements:**  Sets can be used to identify elements that are common between two different datasets.\n",
        "\n",
        "**4. Dictionary: Key-Value Pairs**\n",
        "\n",
        "* Imagine a phonebook with names and phone numbers.\n",
        "* A **dictionary** stores data in key-value pairs. You can use a name (key) to find a phone number (value).\n",
        "\n",
        "**Example:**\n",
        "```python\n",
        "phonebook = {\"Alice\": \"123-456-7890\", \"Bob\": \"987-654-3210\"}\n",
        "print(phonebook[\"Alice\"])  # Output: 123-456-7890\n",
        "```\n",
        "\n",
        "**Real-World Uses:**\n",
        "\n",
        "* **Phone contacts:** Your smartphone's contact list is essentially a dictionary with names as keys and phone numbers as values.\n",
        "* **Inventory management:** Stores use dictionaries to track inventory. The item name/Id can be the key, and the value can be a dictionary containing details like quantity, price, and supplier information etc.\n",
        "* **Weather data:** Weather apps store daily weather information using dictionaries. The date can be the key, and the value can be another dictionary containing details like temperature, humidity, and chance of rain."
      ],
      "metadata": {
        "id": "VDWX7ZC2Ez0a"
      }
    },
    {
      "cell_type": "markdown",
      "source": [
        "**Question: List Sorting**\n",
        "Write a function sort_names(names_list) that takes a list of names names_list and returns a new list with the names sorted in alphabetical order.\n",
        "Test Case:\n",
        "```\n",
        "names_list = ['Alice', 'Bob', 'Charlie', 'David']\n",
        "\n",
        "output = ['Alice', 'Bob', 'Charlie', 'David']\n",
        "```\n",
        "\n",
        "**Question: List Concat** Given two sorted lists list1 and list2, write a function that merges them into a single sorted list without creating a new list.\n",
        "\n",
        "Extra Challange: The function should modify list1 in-place and return the modified list."
      ],
      "metadata": {
        "id": "sgUIhsWeGym1"
      }
    },
    {
      "cell_type": "code",
      "execution_count": null,
      "metadata": {
        "id": "5G8QrRivEcDH"
      },
      "outputs": [],
      "source": []
    }
  ]
}