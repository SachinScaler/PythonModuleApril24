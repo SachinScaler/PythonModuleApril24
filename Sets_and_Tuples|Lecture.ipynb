{
  "nbformat": 4,
  "nbformat_minor": 0,
  "metadata": {
    "colab": {
      "provenance": [],
      "authorship_tag": "ABX9TyNL04DQ3tY0PgS4xGNhh7TA",
      "include_colab_link": true
    },
    "kernelspec": {
      "name": "python3",
      "display_name": "Python 3"
    },
    "language_info": {
      "name": "python"
    }
  },
  "cells": [
    {
      "cell_type": "markdown",
      "metadata": {
        "id": "view-in-github",
        "colab_type": "text"
      },
      "source": [
        "<a href=\"https://colab.research.google.com/github/SachinScaler/PythonModuleApril24/blob/main/Sets_and_Tuples%7CLecture.ipynb\" target=\"_parent\"><img src=\"https://colab.research.google.com/assets/colab-badge.svg\" alt=\"Open In Colab\"/></a>"
      ]
    },
    {
      "cell_type": "code",
      "execution_count": 120,
      "metadata": {
        "colab": {
          "base_uri": "https://localhost:8080/"
        },
        "id": "DpNoOTsh1png",
        "outputId": "25993807-7c8f-413f-db36-8b209aea1362"
      },
      "outputs": [
        {
          "output_type": "stream",
          "name": "stdout",
          "text": [
            "Hello\n"
          ]
        }
      ],
      "source": [
        "a = \"Hello\"\n",
        "print(a)"
      ]
    },
    {
      "cell_type": "code",
      "source": [
        "print(id(a))"
      ],
      "metadata": {
        "colab": {
          "base_uri": "https://localhost:8080/"
        },
        "id": "byF40_164E3S",
        "outputId": "6f7ec130-726e-4661-ceec-1cbbc4b09d5a"
      },
      "execution_count": 121,
      "outputs": [
        {
          "output_type": "stream",
          "name": "stdout",
          "text": [
            "132079303379632\n"
          ]
        }
      ]
    },
    {
      "cell_type": "markdown",
      "source": [
        "id: gives the id of memory location"
      ],
      "metadata": {
        "id": "Kv8Zci6X4A2g"
      }
    },
    {
      "cell_type": "code",
      "source": [
        "a = \"World\" # overwriting\n",
        "print(a)"
      ],
      "metadata": {
        "colab": {
          "base_uri": "https://localhost:8080/"
        },
        "id": "QGgsV7yv3Pcg",
        "outputId": "e77fcf3b-5baa-44b3-ef48-782ce7170efc"
      },
      "execution_count": 122,
      "outputs": [
        {
          "output_type": "stream",
          "name": "stdout",
          "text": [
            "World\n"
          ]
        }
      ]
    },
    {
      "cell_type": "code",
      "source": [
        "print(id(a))"
      ],
      "metadata": {
        "colab": {
          "base_uri": "https://localhost:8080/"
        },
        "id": "QTSmqpoZ40aR",
        "outputId": "6b60e499-2fbf-40d4-d0c9-90aa2e906c00"
      },
      "execution_count": 123,
      "outputs": [
        {
          "output_type": "stream",
          "name": "stdout",
          "text": [
            "132079923980464\n"
          ]
        }
      ]
    },
    {
      "cell_type": "code",
      "source": [
        "a = \"Hello\"\n",
        "b = a\n",
        "print(id(a)==id(b))"
      ],
      "metadata": {
        "colab": {
          "base_uri": "https://localhost:8080/"
        },
        "id": "5ZkTxa0H7uXL",
        "outputId": "f678a55b-949e-4bea-cd71-c0b4024b01d9"
      },
      "execution_count": 124,
      "outputs": [
        {
          "output_type": "stream",
          "name": "stdout",
          "text": [
            "True\n"
          ]
        }
      ]
    },
    {
      "cell_type": "code",
      "source": [
        "a = \"World\"\n",
        "print(id(a))"
      ],
      "metadata": {
        "colab": {
          "base_uri": "https://localhost:8080/"
        },
        "id": "Q_JloMTH79k_",
        "outputId": "0408ad42-8244-48d7-d050-786185645b00"
      },
      "execution_count": 125,
      "outputs": [
        {
          "output_type": "stream",
          "name": "stdout",
          "text": [
            "132079923980464\n"
          ]
        }
      ]
    },
    {
      "cell_type": "code",
      "source": [
        "print(a)"
      ],
      "metadata": {
        "colab": {
          "base_uri": "https://localhost:8080/"
        },
        "id": "fZ-VbI5786tf",
        "outputId": "8f7759dd-b7f4-48d0-c41a-d8a41de6ba89"
      },
      "execution_count": 126,
      "outputs": [
        {
          "output_type": "stream",
          "name": "stdout",
          "text": [
            "World\n"
          ]
        }
      ]
    },
    {
      "cell_type": "code",
      "source": [
        "print(b)"
      ],
      "metadata": {
        "colab": {
          "base_uri": "https://localhost:8080/"
        },
        "id": "IF1s-vay871C",
        "outputId": "7a7a60b7-92e2-4329-c2c4-e4bda870e91b"
      },
      "execution_count": 127,
      "outputs": [
        {
          "output_type": "stream",
          "name": "stdout",
          "text": [
            "Hello\n"
          ]
        }
      ]
    },
    {
      "cell_type": "markdown",
      "source": [],
      "metadata": {
        "id": "E2PxdCix7t_R"
      }
    },
    {
      "cell_type": "markdown",
      "source": [],
      "metadata": {
        "id": "_4458GCH7t8v"
      }
    },
    {
      "cell_type": "markdown",
      "source": [],
      "metadata": {
        "id": "TmY2Yy1y7t6k"
      }
    },
    {
      "cell_type": "code",
      "source": [],
      "metadata": {
        "id": "NEuDDW5M7tdT"
      },
      "execution_count": 127,
      "outputs": []
    },
    {
      "cell_type": "code",
      "source": [
        "# updating\n",
        "list1 = [\"Hello\"]\n",
        "print(list1)\n",
        "print(id(list1))"
      ],
      "metadata": {
        "colab": {
          "base_uri": "https://localhost:8080/"
        },
        "id": "UltnSMCF3R4D",
        "outputId": "d7a7d3b4-cee6-416f-eaa8-cdb13b36c700"
      },
      "execution_count": 128,
      "outputs": [
        {
          "output_type": "stream",
          "name": "stdout",
          "text": [
            "['Hello']\n",
            "132079070540032\n"
          ]
        }
      ]
    },
    {
      "cell_type": "code",
      "source": [
        "list1.append(\"World\")\n",
        "print(list1)\n",
        "print(id(list1))"
      ],
      "metadata": {
        "colab": {
          "base_uri": "https://localhost:8080/"
        },
        "id": "Wtr2CTvi9EjO",
        "outputId": "d9d40162-8797-4244-e53c-aa2fef95904c"
      },
      "execution_count": 129,
      "outputs": [
        {
          "output_type": "stream",
          "name": "stdout",
          "text": [
            "['Hello', 'World']\n",
            "132079070540032\n"
          ]
        }
      ]
    },
    {
      "cell_type": "code",
      "source": [
        "# changed\n",
        "list1 = [\"Hello\"]\n",
        "print(list1)\n",
        "print(id(list1))"
      ],
      "metadata": {
        "colab": {
          "base_uri": "https://localhost:8080/"
        },
        "id": "D4Dm0e6G3fc9",
        "outputId": "27e534f5-7b96-4892-96ed-12c6c1ea2e95"
      },
      "execution_count": 130,
      "outputs": [
        {
          "output_type": "stream",
          "name": "stdout",
          "text": [
            "['Hello']\n",
            "132079071011264\n"
          ]
        }
      ]
    },
    {
      "cell_type": "code",
      "source": [
        "print(id(list1[0]))"
      ],
      "metadata": {
        "colab": {
          "base_uri": "https://localhost:8080/"
        },
        "id": "e0Q5krOE-Hqb",
        "outputId": "0c32520f-0d65-47e0-ee12-8f99856f5943"
      },
      "execution_count": 131,
      "outputs": [
        {
          "output_type": "stream",
          "name": "stdout",
          "text": [
            "132079303379632\n"
          ]
        }
      ]
    },
    {
      "cell_type": "code",
      "source": [
        "# at index 0 change value from \"Hello\" to \"world\"\n",
        "list1[0] = \"World\"\n",
        "print(list1)\n",
        "print(id(list1))"
      ],
      "metadata": {
        "colab": {
          "base_uri": "https://localhost:8080/"
        },
        "id": "iaiEMEdT9PUt",
        "outputId": "ff5582fe-9bce-43db-dcd0-b16e678f6df8"
      },
      "execution_count": 132,
      "outputs": [
        {
          "output_type": "stream",
          "name": "stdout",
          "text": [
            "['World']\n",
            "132079071011264\n"
          ]
        }
      ]
    },
    {
      "cell_type": "code",
      "source": [
        "print(id(list1[0]))"
      ],
      "metadata": {
        "colab": {
          "base_uri": "https://localhost:8080/"
        },
        "id": "6_sKIRag-GRo",
        "outputId": "e2bb4fb9-d4c0-431b-faa8-1d05833845f5"
      },
      "execution_count": 133,
      "outputs": [
        {
          "output_type": "stream",
          "name": "stdout",
          "text": [
            "132079923980464\n"
          ]
        }
      ]
    },
    {
      "cell_type": "code",
      "source": [
        "a = \"Hello\"\n",
        "b = \"World\"\n",
        "print(id(a))"
      ],
      "metadata": {
        "colab": {
          "base_uri": "https://localhost:8080/"
        },
        "id": "1Q4xakME_2YI",
        "outputId": "d17ee4b9-32bd-4947-abfd-f7551a268c55"
      },
      "execution_count": 134,
      "outputs": [
        {
          "output_type": "stream",
          "name": "stdout",
          "text": [
            "132079303379632\n"
          ]
        }
      ]
    },
    {
      "cell_type": "code",
      "source": [
        "a = a+b\n",
        "print(id(a))"
      ],
      "metadata": {
        "colab": {
          "base_uri": "https://localhost:8080/"
        },
        "id": "AS-5_cO1ACAd",
        "outputId": "e650a472-5ebb-406a-a1db-dfa66c70f34f"
      },
      "execution_count": 135,
      "outputs": [
        {
          "output_type": "stream",
          "name": "stdout",
          "text": [
            "132079071768176\n"
          ]
        }
      ]
    },
    {
      "cell_type": "markdown",
      "source": [
        "### insert function"
      ],
      "metadata": {
        "id": "ln_uSSES4gSa"
      }
    },
    {
      "cell_type": "code",
      "source": [
        "a = tuple()\n",
        "print(type(a))"
      ],
      "metadata": {
        "colab": {
          "base_uri": "https://localhost:8080/"
        },
        "id": "z_NJqkUq3wZ1",
        "outputId": "23effded-292a-4dc9-986d-2cd0fd9e85b4"
      },
      "execution_count": 136,
      "outputs": [
        {
          "output_type": "stream",
          "name": "stdout",
          "text": [
            "<class 'tuple'>\n"
          ]
        }
      ]
    },
    {
      "cell_type": "code",
      "source": [
        "a = (1,2,3,4)\n",
        "print(type(a))"
      ],
      "metadata": {
        "colab": {
          "base_uri": "https://localhost:8080/"
        },
        "id": "WAHzx4SmBNAi",
        "outputId": "9bbe0d8f-b54d-40ef-cb92-e484fac371a3"
      },
      "execution_count": 137,
      "outputs": [
        {
          "output_type": "stream",
          "name": "stdout",
          "text": [
            "<class 'tuple'>\n"
          ]
        }
      ]
    },
    {
      "cell_type": "code",
      "source": [
        "a = ()\n",
        "print(type(a))"
      ],
      "metadata": {
        "colab": {
          "base_uri": "https://localhost:8080/"
        },
        "id": "oC-Oflo4BRTf",
        "outputId": "191c9209-4469-4bee-b06a-958d62f4ea35"
      },
      "execution_count": 138,
      "outputs": [
        {
          "output_type": "stream",
          "name": "stdout",
          "text": [
            "<class 'tuple'>\n"
          ]
        }
      ]
    },
    {
      "cell_type": "code",
      "source": [
        "a = (1)\n",
        "print(type(a))"
      ],
      "metadata": {
        "colab": {
          "base_uri": "https://localhost:8080/"
        },
        "id": "7PeHFOEQBTQQ",
        "outputId": "75264cfb-7481-4b7c-cf42-fe63a84e9a77"
      },
      "execution_count": 139,
      "outputs": [
        {
          "output_type": "stream",
          "name": "stdout",
          "text": [
            "<class 'int'>\n"
          ]
        }
      ]
    },
    {
      "cell_type": "code",
      "source": [
        "a = (1,)\n",
        "print(type(a))"
      ],
      "metadata": {
        "colab": {
          "base_uri": "https://localhost:8080/"
        },
        "id": "-r0npDNwBWPi",
        "outputId": "bf1506cd-47a0-4de0-84b8-f197c91f400a"
      },
      "execution_count": 140,
      "outputs": [
        {
          "output_type": "stream",
          "name": "stdout",
          "text": [
            "<class 'tuple'>\n"
          ]
        }
      ]
    },
    {
      "cell_type": "code",
      "source": [
        "a = (1,2,3,4,5)# immutable\n",
        "a[0]= 100"
      ],
      "metadata": {
        "colab": {
          "base_uri": "https://localhost:8080/",
          "height": 159
        },
        "id": "eG_GFghyBZcd",
        "outputId": "c4a7d9c5-c5fd-4739-eae8-46c15cb9b4f3"
      },
      "execution_count": 141,
      "outputs": [
        {
          "output_type": "error",
          "ename": "TypeError",
          "evalue": "'tuple' object does not support item assignment",
          "traceback": [
            "\u001b[0;31m---------------------------------------------------------------------------\u001b[0m",
            "\u001b[0;31mTypeError\u001b[0m                                 Traceback (most recent call last)",
            "\u001b[0;32m<ipython-input-141-cbec8e4b15da>\u001b[0m in \u001b[0;36m<cell line: 2>\u001b[0;34m()\u001b[0m\n\u001b[1;32m      1\u001b[0m \u001b[0ma\u001b[0m \u001b[0;34m=\u001b[0m \u001b[0;34m(\u001b[0m\u001b[0;36m1\u001b[0m\u001b[0;34m,\u001b[0m\u001b[0;36m2\u001b[0m\u001b[0;34m,\u001b[0m\u001b[0;36m3\u001b[0m\u001b[0;34m,\u001b[0m\u001b[0;36m4\u001b[0m\u001b[0;34m,\u001b[0m\u001b[0;36m5\u001b[0m\u001b[0;34m)\u001b[0m\u001b[0;31m# immutable\u001b[0m\u001b[0;34m\u001b[0m\u001b[0;34m\u001b[0m\u001b[0m\n\u001b[0;32m----> 2\u001b[0;31m \u001b[0ma\u001b[0m\u001b[0;34m[\u001b[0m\u001b[0;36m0\u001b[0m\u001b[0;34m]\u001b[0m\u001b[0;34m=\u001b[0m \u001b[0;36m100\u001b[0m\u001b[0;34m\u001b[0m\u001b[0;34m\u001b[0m\u001b[0m\n\u001b[0m",
            "\u001b[0;31mTypeError\u001b[0m: 'tuple' object does not support item assignment"
          ]
        }
      ]
    },
    {
      "cell_type": "code",
      "source": [
        "a.append(100)"
      ],
      "metadata": {
        "id": "oSL-Gf8jBixy"
      },
      "execution_count": null,
      "outputs": []
    },
    {
      "cell_type": "code",
      "source": [
        "a = (1,2,3,4,5)# immutable\n",
        "\n",
        "a[2:4]"
      ],
      "metadata": {
        "id": "afau3L40Bqn2"
      },
      "execution_count": null,
      "outputs": []
    },
    {
      "cell_type": "code",
      "source": [
        "a.count(2)"
      ],
      "metadata": {
        "id": "CNgUyLqHCcMA"
      },
      "execution_count": null,
      "outputs": []
    },
    {
      "cell_type": "code",
      "source": [
        "a = (\"Mon\", \"Tue\", \"Wed\", \"Thur\", \"Fri\", \"Sat\")"
      ],
      "metadata": {
        "id": "nfwcATlMCdVo"
      },
      "execution_count": null,
      "outputs": []
    },
    {
      "cell_type": "code",
      "source": [
        "a = (\"Mon\", \"Tue\", \"Wed\", \"Thur\", \"Fri\", \"Sat\", \"Sun\")  # creating new"
      ],
      "metadata": {
        "id": "Crp-ZHkoCwvH"
      },
      "execution_count": null,
      "outputs": []
    },
    {
      "cell_type": "code",
      "source": [
        "a = a +(\"Sun\",)\n",
        "print(a)"
      ],
      "metadata": {
        "id": "ZjH2KknFC5_B"
      },
      "execution_count": null,
      "outputs": []
    },
    {
      "cell_type": "markdown",
      "source": [
        "### creating tuple: Packing Concept"
      ],
      "metadata": {
        "id": "2NhdfvxeDPLo"
      }
    },
    {
      "cell_type": "code",
      "source": [
        "a = 1,2,3\n",
        "print(a)"
      ],
      "metadata": {
        "id": "0qOn8dB6C_nA"
      },
      "execution_count": null,
      "outputs": []
    },
    {
      "cell_type": "code",
      "source": [
        "print(tuple(a))"
      ],
      "metadata": {
        "id": "Tnzkb_zdDU0c"
      },
      "execution_count": null,
      "outputs": []
    },
    {
      "cell_type": "markdown",
      "source": [
        "- unpacking"
      ],
      "metadata": {
        "id": "c8VGjXKIDfW4"
      }
    },
    {
      "cell_type": "code",
      "source": [
        "a"
      ],
      "metadata": {
        "id": "Y8ni72e7DXBH"
      },
      "execution_count": null,
      "outputs": []
    },
    {
      "cell_type": "code",
      "source": [
        "b,c,d = a"
      ],
      "metadata": {
        "id": "2gk5GCEzDjIs"
      },
      "execution_count": null,
      "outputs": []
    },
    {
      "cell_type": "code",
      "source": [
        "print(b)"
      ],
      "metadata": {
        "id": "XGcvCKsbDlco"
      },
      "execution_count": null,
      "outputs": []
    },
    {
      "cell_type": "code",
      "source": [
        "print(c)"
      ],
      "metadata": {
        "id": "4bjjIwDiDmrA"
      },
      "execution_count": null,
      "outputs": []
    },
    {
      "cell_type": "code",
      "source": [
        "print(d)"
      ],
      "metadata": {
        "id": "zniJMCndDn1O"
      },
      "execution_count": null,
      "outputs": []
    },
    {
      "cell_type": "code",
      "source": [
        "b,c,d,e = a"
      ],
      "metadata": {
        "id": "-wW-rbhrDo3U"
      },
      "execution_count": null,
      "outputs": []
    },
    {
      "cell_type": "code",
      "source": [
        "b,c = a"
      ],
      "metadata": {
        "id": "GDRyw0bjD4ME"
      },
      "execution_count": null,
      "outputs": []
    },
    {
      "cell_type": "code",
      "source": [
        "b = a[0]\n",
        "c = a[1]\n",
        "d = a[2]\n",
        "# b,c,d = a"
      ],
      "metadata": {
        "id": "9xn9in1oD_N_"
      },
      "execution_count": null,
      "outputs": []
    },
    {
      "cell_type": "code",
      "source": [
        "def func():\n",
        "    return \"Hello\", \"World\"\n",
        "\n",
        "type(func())"
      ],
      "metadata": {
        "id": "W1XZ8zGIEN7N"
      },
      "execution_count": null,
      "outputs": []
    },
    {
      "cell_type": "code",
      "source": [
        "a,b = func()\n",
        "print(a)"
      ],
      "metadata": {
        "id": "Cdx-KiZLEVin"
      },
      "execution_count": null,
      "outputs": []
    },
    {
      "cell_type": "code",
      "source": [
        "print(b)"
      ],
      "metadata": {
        "id": "zrVGEiPREdhC"
      },
      "execution_count": null,
      "outputs": []
    },
    {
      "cell_type": "markdown",
      "source": [
        "List of tuples:"
      ],
      "metadata": {
        "id": "n0OFgyVVFtl3"
      }
    },
    {
      "cell_type": "code",
      "source": [
        "a = [(1, \"Bipin\", 1000), (2, \"Ranjan\", 2000) ]\n"
      ],
      "metadata": {
        "id": "HOcwLsOCWtsQ"
      },
      "execution_count": null,
      "outputs": []
    },
    {
      "cell_type": "code",
      "source": [
        "a = [(1, \"Bipin\"), (2, \"Ranjan\"), (3, \"Shanoor\"), (4, \"Shital\"), (5, \"Tharoor\"), ]\n",
        "\n",
        "for i in a:\n",
        "    print(i) # indexing\n",
        "    roll_no = i[0]\n",
        "    name = i[1]\n",
        "    print(f\"Roll Number -{roll_no} and Name : {name}\")\n"
      ],
      "metadata": {
        "id": "5_FGpYQdEelA"
      },
      "execution_count": null,
      "outputs": []
    },
    {
      "cell_type": "code",
      "source": [
        "a[2][0]"
      ],
      "metadata": {
        "id": "hKtb0UxyG-lg"
      },
      "execution_count": null,
      "outputs": []
    },
    {
      "cell_type": "code",
      "source": [
        "for i in a:\n",
        "    print(i)"
      ],
      "metadata": {
        "colab": {
          "base_uri": "https://localhost:8080/"
        },
        "id": "1fMzsH0kWJk1",
        "outputId": "53332393-fd1b-4311-f2bb-564d6f35d12e"
      },
      "execution_count": 164,
      "outputs": [
        {
          "output_type": "stream",
          "name": "stdout",
          "text": [
            "(1, 'Bipin')\n",
            "(2, 'Ranjan')\n",
            "(3, 'Shanoor')\n",
            "(4, 'Shital')\n",
            "(5, 'Tharoor')\n"
          ]
        }
      ]
    },
    {
      "cell_type": "code",
      "source": [
        "for i,j in a:\n",
        "    print(i,j)"
      ],
      "metadata": {
        "colab": {
          "base_uri": "https://localhost:8080/"
        },
        "id": "Q6pcNPa-WSEp",
        "outputId": "56f39172-aa95-43d2-a500-cc7060721858"
      },
      "execution_count": 165,
      "outputs": [
        {
          "output_type": "stream",
          "name": "stdout",
          "text": [
            "1 Bipin\n",
            "2 Ranjan\n",
            "3 Shanoor\n",
            "4 Shital\n",
            "5 Tharoor\n"
          ]
        }
      ]
    },
    {
      "cell_type": "code",
      "source": [
        "# string formatting\n",
        "print(f\"Roll Number -{roll_no} and Name : {name}\")"
      ],
      "metadata": {
        "id": "cckWQI2GXDP2"
      },
      "execution_count": null,
      "outputs": []
    },
    {
      "cell_type": "code",
      "source": [
        "for i in a:\n",
        "    print(i)\n",
        "    roll_no,name = i  ## manual unpack\n",
        "    print(f\"Roll Number -{roll_no} and Name : {name}\")"
      ],
      "metadata": {
        "id": "1hC8l5UmGLYA"
      },
      "execution_count": null,
      "outputs": []
    },
    {
      "cell_type": "code",
      "source": [
        "for roll_no, name in a: # auto unpack\n",
        "    print(f\"Roll Number -{roll_no} and Name : {name}\")"
      ],
      "metadata": {
        "id": "xAxzp5UXGj9F"
      },
      "execution_count": null,
      "outputs": []
    },
    {
      "cell_type": "code",
      "source": [
        "a = a +(\"Sun\",)\n",
        "print(a)"
      ],
      "metadata": {
        "id": "z0T1Ktc-HeqX"
      },
      "execution_count": null,
      "outputs": []
    },
    {
      "cell_type": "code",
      "source": [
        "x = (1, 2, 3)\n",
        "y = (4, 5, 6)\n",
        "z = x + y\n",
        "print(z)"
      ],
      "metadata": {
        "id": "5hiJNlJYGtF3"
      },
      "execution_count": null,
      "outputs": []
    },
    {
      "cell_type": "code",
      "source": [
        "print(len(z))"
      ],
      "metadata": {
        "id": "xOpsenaDHpXk"
      },
      "execution_count": null,
      "outputs": []
    },
    {
      "cell_type": "code",
      "source": [
        "a = 10\n",
        "b = 20"
      ],
      "metadata": {
        "id": "ACJ6Nw4OHrUq"
      },
      "execution_count": null,
      "outputs": []
    },
    {
      "cell_type": "code",
      "source": [
        "b,a = a,b # swap with unpacking"
      ],
      "metadata": {
        "id": "VUog0tGcH27P"
      },
      "execution_count": null,
      "outputs": []
    },
    {
      "cell_type": "code",
      "source": [
        "print(b)"
      ],
      "metadata": {
        "id": "3fzpeM4cH5V3"
      },
      "execution_count": null,
      "outputs": []
    },
    {
      "cell_type": "code",
      "source": [
        "print(a)"
      ],
      "metadata": {
        "id": "2nVSkhhXH6Nd"
      },
      "execution_count": null,
      "outputs": []
    },
    {
      "cell_type": "markdown",
      "source": [
        "### Set"
      ],
      "metadata": {
        "id": "dWcxIzysJQpC"
      }
    },
    {
      "cell_type": "code",
      "source": [
        "set1 = {1,2,3,3,2,3,1}\n",
        "print(set1)"
      ],
      "metadata": {
        "id": "mXebVy_KH9n-"
      },
      "execution_count": null,
      "outputs": []
    },
    {
      "cell_type": "code",
      "source": [
        "set1 = set() # empty set\n",
        "print(set1)"
      ],
      "metadata": {
        "id": "dmSiM-WQJWFT"
      },
      "execution_count": null,
      "outputs": []
    },
    {
      "cell_type": "code",
      "source": [
        "set1 = {} # empty dict\n",
        "print(set1)"
      ],
      "metadata": {
        "id": "Hkfwz8AVJbJv"
      },
      "execution_count": null,
      "outputs": []
    },
    {
      "cell_type": "code",
      "source": [
        "print(type(set1))"
      ],
      "metadata": {
        "id": "I7AuTiOPJeKU"
      },
      "execution_count": null,
      "outputs": []
    },
    {
      "cell_type": "code",
      "source": [
        "set1 = {1,2,3,3,2,3,1}\n",
        "print(set1)\n",
        "set1[1]"
      ],
      "metadata": {
        "id": "eyYEQAhqJgq8"
      },
      "execution_count": null,
      "outputs": []
    },
    {
      "cell_type": "code",
      "source": [
        "for i in set1:\n",
        "    print(i)"
      ],
      "metadata": {
        "id": "qIAslJpFJ4bK"
      },
      "execution_count": null,
      "outputs": []
    },
    {
      "cell_type": "code",
      "source": [
        "for i in set1:\n",
        "    print(i)"
      ],
      "metadata": {
        "id": "VLeoJJmHKQ7g"
      },
      "execution_count": null,
      "outputs": []
    },
    {
      "cell_type": "code",
      "source": [
        "for i in set1:\n",
        "    print(i)"
      ],
      "metadata": {
        "id": "PU9Hehl-KSwP"
      },
      "execution_count": null,
      "outputs": []
    },
    {
      "cell_type": "code",
      "source": [
        "set1 = {\"i\",\"j\", \"k\", \"l\"}\n",
        "for i in set1:\n",
        "    print(i)"
      ],
      "metadata": {
        "id": "kMeXTrJVKT3L"
      },
      "execution_count": null,
      "outputs": []
    },
    {
      "cell_type": "code",
      "source": [
        "for i in set1:\n",
        "    print(i)"
      ],
      "metadata": {
        "id": "oMwyd3DzKior"
      },
      "execution_count": null,
      "outputs": []
    },
    {
      "cell_type": "code",
      "source": [
        "for i in set1:\n",
        "    print(i)"
      ],
      "metadata": {
        "id": "M_uQSotHKjgy"
      },
      "execution_count": null,
      "outputs": []
    },
    {
      "cell_type": "code",
      "source": [
        "for i in set1:\n",
        "    print(i)"
      ],
      "metadata": {
        "id": "xLUDbNKgKk3c"
      },
      "execution_count": null,
      "outputs": []
    },
    {
      "cell_type": "code",
      "source": [
        "set1 = {1,2,{5,8}}"
      ],
      "metadata": {
        "id": "SioCSMwvLGcB"
      },
      "execution_count": null,
      "outputs": []
    },
    {
      "cell_type": "code",
      "source": [
        "set1 = {1,2, [5,8]}"
      ],
      "metadata": {
        "id": "ocaLdh12Lvpu"
      },
      "execution_count": null,
      "outputs": []
    },
    {
      "cell_type": "code",
      "source": [
        "set1 = {1,2,(5,8)}"
      ],
      "metadata": {
        "id": "R3OaNbUqL2Hx"
      },
      "execution_count": null,
      "outputs": []
    },
    {
      "cell_type": "markdown",
      "source": [
        "## Set Methods\n",
        "\n",
        "- pop()\n",
        "- add()\n",
        "- update()\n",
        "- remove()"
      ],
      "metadata": {
        "id": "q_pFw1hkNEEW"
      }
    },
    {
      "cell_type": "code",
      "source": [
        "help(set)"
      ],
      "metadata": {
        "id": "NmSbcOjzL9B-"
      },
      "execution_count": null,
      "outputs": []
    },
    {
      "cell_type": "code",
      "source": [
        "set1 = {1,2,5,8}\n",
        "print(id(set1))\n",
        "set1.add(4)"
      ],
      "metadata": {
        "id": "XrdlKgjwNOeR"
      },
      "execution_count": null,
      "outputs": []
    },
    {
      "cell_type": "code",
      "source": [
        "set1"
      ],
      "metadata": {
        "id": "rQkDr6YJNd85"
      },
      "execution_count": null,
      "outputs": []
    },
    {
      "cell_type": "code",
      "source": [
        "print(id(set1))"
      ],
      "metadata": {
        "id": "34jNeQ7xNYsY"
      },
      "execution_count": null,
      "outputs": []
    },
    {
      "cell_type": "code",
      "source": [
        "4 in set1 # fastest"
      ],
      "metadata": {
        "id": "dmdT9ZAuNZ1N"
      },
      "execution_count": null,
      "outputs": []
    },
    {
      "cell_type": "code",
      "source": [
        "set1.pop()"
      ],
      "metadata": {
        "id": "X-dwZJ3LNrb5"
      },
      "execution_count": null,
      "outputs": []
    },
    {
      "cell_type": "code",
      "source": [
        "set1.pop()"
      ],
      "metadata": {
        "id": "TAT1Dn2CNwND"
      },
      "execution_count": null,
      "outputs": []
    },
    {
      "cell_type": "code",
      "source": [
        "set1.remove(5)"
      ],
      "metadata": {
        "id": "kYtX11kyNyyO"
      },
      "execution_count": null,
      "outputs": []
    },
    {
      "cell_type": "code",
      "source": [
        "set1.remove(10)"
      ],
      "metadata": {
        "id": "sEJTpoPVN9GU"
      },
      "execution_count": null,
      "outputs": []
    },
    {
      "cell_type": "code",
      "source": [
        "set1"
      ],
      "metadata": {
        "id": "zu93M5eKN-gI"
      },
      "execution_count": null,
      "outputs": []
    },
    {
      "cell_type": "code",
      "source": [
        "# update; add another\n",
        "set1.update({1,6,7,8})\n",
        "print(set1)"
      ],
      "metadata": {
        "id": "OnDoOBNDOAIm"
      },
      "execution_count": null,
      "outputs": []
    },
    {
      "cell_type": "code",
      "source": [
        "set1.add({1,6,7,8})\n"
      ],
      "metadata": {
        "id": "E6wgZ3P9OKoI"
      },
      "execution_count": null,
      "outputs": []
    },
    {
      "cell_type": "code",
      "source": [
        "set1.add(1)\n"
      ],
      "metadata": {
        "id": "YgjEu-qpOfRk"
      },
      "execution_count": null,
      "outputs": []
    },
    {
      "cell_type": "markdown",
      "source": [
        "###\n",
        "```\n",
        "Question-1:\n",
        "Take a string as input.\n",
        "Print the number of unique characters in that string.\n",
        "\n",
        "Question-2:\n",
        "Take a string as input.\n",
        "and check if it's binary string(Contains only 0 and 1)\n",
        "\n",
        "Sample input 1\n",
        "\"0011010101ab\"\n",
        "Sample output 1\n",
        "\"Not Binary!\"\n",
        "\n",
        "Sample input 2\n",
        "\"010010101010\"\n",
        "Sample output 2\n",
        "\"Binary!\"\n",
        "```"
      ],
      "metadata": {
        "id": "_wNONfOWOn8-"
      }
    },
    {
      "cell_type": "markdown",
      "source": [
        "## Set Ops"
      ],
      "metadata": {
        "id": "of7i5mcWOjhV"
      }
    },
    {
      "cell_type": "code",
      "source": [
        "fruits = {\"apple\", \"banana\", \"cherry\"}\n",
        "fruits.add(\"orange\") # 4\n",
        "fruits.update([\"mango\", \"grape\"]) # 6\n",
        "fruits"
      ],
      "metadata": {
        "id": "h3-M4kNJOgza"
      },
      "execution_count": null,
      "outputs": []
    },
    {
      "cell_type": "code",
      "source": [
        "print(len(fruits))\n"
      ],
      "metadata": {
        "id": "YfazQNOBPOtT"
      },
      "execution_count": null,
      "outputs": []
    },
    {
      "cell_type": "code",
      "source": [
        "fruits = {\"apple\", \"banana\", \"cherry\"}\n",
        "fruits.add(\"orange\") # 4\n",
        "fruits.update([\"mango\", \"grape\", \"cherry\"]) # 6\n",
        "fruits"
      ],
      "metadata": {
        "id": "mTU7poPePhz4"
      },
      "execution_count": null,
      "outputs": []
    },
    {
      "cell_type": "code",
      "source": [
        "set1= {1,2,7}\n",
        "set2 = {7,3,5,6}\n",
        "print(set1|set2)"
      ],
      "metadata": {
        "colab": {
          "base_uri": "https://localhost:8080/"
        },
        "id": "6qjbdQAAPohL",
        "outputId": "e2db54e4-8821-4ac1-fa6d-1399f656b79f"
      },
      "execution_count": 142,
      "outputs": [
        {
          "output_type": "stream",
          "name": "stdout",
          "text": [
            "{1, 2, 3, 5, 6, 7}\n"
          ]
        }
      ]
    },
    {
      "cell_type": "code",
      "source": [
        "set1.union(set2)"
      ],
      "metadata": {
        "colab": {
          "base_uri": "https://localhost:8080/"
        },
        "id": "erQc1vaMQWz7",
        "outputId": "2ee1c99b-1a53-432d-8965-a21b67dc1d62"
      },
      "execution_count": 143,
      "outputs": [
        {
          "output_type": "execute_result",
          "data": {
            "text/plain": [
              "{1, 2, 3, 5, 6, 7}"
            ]
          },
          "metadata": {},
          "execution_count": 143
        }
      ]
    },
    {
      "cell_type": "code",
      "source": [
        "print(set1&set2)"
      ],
      "metadata": {
        "colab": {
          "base_uri": "https://localhost:8080/"
        },
        "id": "GLB5qnHMQgEJ",
        "outputId": "1e2ce5c6-6f03-4352-b2df-9d2624ee6473"
      },
      "execution_count": 144,
      "outputs": [
        {
          "output_type": "stream",
          "name": "stdout",
          "text": [
            "{7}\n"
          ]
        }
      ]
    },
    {
      "cell_type": "code",
      "source": [
        "set1.intersection(set2)"
      ],
      "metadata": {
        "colab": {
          "base_uri": "https://localhost:8080/"
        },
        "id": "pNxktzcrQqsp",
        "outputId": "83d5ff8b-bbc3-45c5-dc5f-c8ea00134271"
      },
      "execution_count": 145,
      "outputs": [
        {
          "output_type": "execute_result",
          "data": {
            "text/plain": [
              "{7}"
            ]
          },
          "metadata": {},
          "execution_count": 145
        }
      ]
    },
    {
      "cell_type": "code",
      "source": [
        "set1-set2 #s1.difference(s2)\n",
        ""
      ],
      "metadata": {
        "colab": {
          "base_uri": "https://localhost:8080/"
        },
        "id": "jGHz04WnQ8G1",
        "outputId": "9aa96d9b-d684-4acc-ee39-2e294e466c71"
      },
      "execution_count": 146,
      "outputs": [
        {
          "output_type": "execute_result",
          "data": {
            "text/plain": [
              "{1, 2}"
            ]
          },
          "metadata": {},
          "execution_count": 146
        }
      ]
    },
    {
      "cell_type": "code",
      "source": [
        "set2-set1"
      ],
      "metadata": {
        "colab": {
          "base_uri": "https://localhost:8080/"
        },
        "id": "XdWyTPoxQ-AO",
        "outputId": "d1f1ce03-1cd3-4e60-fc39-ea5ae308ec2f"
      },
      "execution_count": 147,
      "outputs": [
        {
          "output_type": "execute_result",
          "data": {
            "text/plain": [
              "{3, 5, 6}"
            ]
          },
          "metadata": {},
          "execution_count": 147
        }
      ]
    },
    {
      "cell_type": "code",
      "source": [
        "set2-set1"
      ],
      "metadata": {
        "colab": {
          "base_uri": "https://localhost:8080/"
        },
        "id": "eFA3OkJqRMfD",
        "outputId": "7648dcd2-5ff8-4c07-e7fa-379e02f74c4e"
      },
      "execution_count": 148,
      "outputs": [
        {
          "output_type": "execute_result",
          "data": {
            "text/plain": [
              "{3, 5, 6}"
            ]
          },
          "metadata": {},
          "execution_count": 148
        }
      ]
    },
    {
      "cell_type": "code",
      "source": [
        "set2^set1 # s1.symmetric_difference(s2)"
      ],
      "metadata": {
        "colab": {
          "base_uri": "https://localhost:8080/"
        },
        "id": "nCQg0blsRmKw",
        "outputId": "815d2eb1-23ff-4cbb-e72e-dfb53e87a78f"
      },
      "execution_count": 149,
      "outputs": [
        {
          "output_type": "execute_result",
          "data": {
            "text/plain": [
              "{1, 2, 3, 5, 6}"
            ]
          },
          "metadata": {},
          "execution_count": 149
        }
      ]
    },
    {
      "cell_type": "code",
      "source": [
        "set1 = {1, 2, 3, 4, 5}\n",
        "set2 = {4, 5, 6, 7, 8}\n",
        "set3 = set1.symmetric_difference(set2)\n",
        "print(set3)"
      ],
      "metadata": {
        "id": "ksHAZnlbRoMU"
      },
      "execution_count": null,
      "outputs": []
    },
    {
      "cell_type": "code",
      "source": [
        "fruits = {\"apple\", \"banana\", \"cherry\"}\n",
        "fruits"
      ],
      "metadata": {
        "colab": {
          "base_uri": "https://localhost:8080/"
        },
        "id": "NUaLV7VtUYV8",
        "outputId": "6863d174-0d52-4879-9851-430a1024e4b0"
      },
      "execution_count": 150,
      "outputs": [
        {
          "output_type": "execute_result",
          "data": {
            "text/plain": [
              "{'apple', 'banana', 'cherry'}"
            ]
          },
          "metadata": {},
          "execution_count": 150
        }
      ]
    },
    {
      "cell_type": "code",
      "source": [
        "a = [(1, \"Bipin\"), (2, \"Ranjan\"), (3, \"Shanoor\"), (4, \"Shital\"), (5, \"Tharoor\"), ]\n",
        "\n",
        "for i in a:\n",
        "    print(i[0])\n",
        "    print(i[1])"
      ],
      "metadata": {
        "colab": {
          "base_uri": "https://localhost:8080/"
        },
        "id": "8Gq9-ymuUY_z",
        "outputId": "fbf29c81-cc9d-4ac3-9cb5-cc0afc8e9bc0"
      },
      "execution_count": 155,
      "outputs": [
        {
          "output_type": "stream",
          "name": "stdout",
          "text": [
            "1\n",
            "Bipin\n",
            "2\n",
            "Ranjan\n",
            "3\n",
            "Shanoor\n",
            "4\n",
            "Shital\n",
            "5\n",
            "Tharoor\n"
          ]
        }
      ]
    },
    {
      "cell_type": "code",
      "source": [
        "for roll,name in a:\n",
        "    print(roll)\n",
        "    print(name)"
      ],
      "metadata": {
        "colab": {
          "base_uri": "https://localhost:8080/"
        },
        "id": "Cz2x3EiEVQgS",
        "outputId": "837336dd-ab15-4ee9-dbe9-df972bcbe860"
      },
      "execution_count": 156,
      "outputs": [
        {
          "output_type": "stream",
          "name": "stdout",
          "text": [
            "1\n",
            "Bipin\n",
            "2\n",
            "Ranjan\n",
            "3\n",
            "Shanoor\n",
            "4\n",
            "Shital\n",
            "5\n",
            "Tharoor\n"
          ]
        }
      ]
    },
    {
      "cell_type": "code",
      "source": [
        "i,j = a[0] # (1, bipin)\n",
        "print(i)"
      ],
      "metadata": {
        "colab": {
          "base_uri": "https://localhost:8080/"
        },
        "id": "AbGeS7GrVlOH",
        "outputId": "709501f9-ce69-4e3c-e1f0-dfb1cb5b9c92"
      },
      "execution_count": 160,
      "outputs": [
        {
          "output_type": "stream",
          "name": "stdout",
          "text": [
            "1\n"
          ]
        }
      ]
    },
    {
      "cell_type": "code",
      "source": [
        "for i,j in a:\n",
        "    print(i)\n",
        "    print(j)"
      ],
      "metadata": {
        "colab": {
          "base_uri": "https://localhost:8080/"
        },
        "id": "jRFN1HoOVeTQ",
        "outputId": "26f8b302-3f2c-4e56-df74-e1d58e30a68e"
      },
      "execution_count": 161,
      "outputs": [
        {
          "output_type": "stream",
          "name": "stdout",
          "text": [
            "1\n",
            "Bipin\n",
            "2\n",
            "Ranjan\n",
            "3\n",
            "Shanoor\n",
            "4\n",
            "Shital\n",
            "5\n",
            "Tharoor\n"
          ]
        }
      ]
    },
    {
      "cell_type": "code",
      "source": [
        "a = [(1, \"Bipin\"), (2, \"Ranjan\"), (3, \"Shanoor\"), (4, \"Shital\"), (5, \"Tharoor\"), ]\n",
        "\n",
        "a[0][0]"
      ],
      "metadata": {
        "colab": {
          "base_uri": "https://localhost:8080/"
        },
        "id": "qL5xxC9MUyHh",
        "outputId": "7ea20b81-1f4e-4d15-df0a-4e6e5b1533c9"
      },
      "execution_count": 153,
      "outputs": [
        {
          "output_type": "execute_result",
          "data": {
            "text/plain": [
              "1"
            ]
          },
          "metadata": {},
          "execution_count": 153
        }
      ]
    },
    {
      "cell_type": "markdown",
      "source": [
        "## split: convert strings to list"
      ],
      "metadata": {
        "id": "FKFiDUNSXRTk"
      }
    },
    {
      "cell_type": "code",
      "source": [
        "str1 = \"1 2 3 4\"\n",
        "str1.split(\" \")"
      ],
      "metadata": {
        "colab": {
          "base_uri": "https://localhost:8080/"
        },
        "id": "WEJPs-8wVCRc",
        "outputId": "033c31d3-e678-4ed2-de69-fde2641f5929"
      },
      "execution_count": 166,
      "outputs": [
        {
          "output_type": "execute_result",
          "data": {
            "text/plain": [
              "['1', '2', '3', '4']"
            ]
          },
          "metadata": {},
          "execution_count": 166
        }
      ]
    },
    {
      "cell_type": "code",
      "source": [
        "str1 = \"1,2,3,4\"\n",
        "str1.split(\",\")"
      ],
      "metadata": {
        "colab": {
          "base_uri": "https://localhost:8080/"
        },
        "id": "QV1WmXS7XYr2",
        "outputId": "d6b789b7-4b38-4ac7-ad27-91f7671847b3"
      },
      "execution_count": 167,
      "outputs": [
        {
          "output_type": "execute_result",
          "data": {
            "text/plain": [
              "['1', '2', '3', '4']"
            ]
          },
          "metadata": {},
          "execution_count": 167
        }
      ]
    },
    {
      "cell_type": "code",
      "source": [
        "fruits = {\"apple\", \"banana\", \"cherry\"}\n",
        "fruits"
      ],
      "metadata": {
        "colab": {
          "base_uri": "https://localhost:8080/"
        },
        "id": "3g5EaIZqXhY0",
        "outputId": "045510d7-6cb5-4f79-979c-7b8b78aaa24a"
      },
      "execution_count": 170,
      "outputs": [
        {
          "output_type": "execute_result",
          "data": {
            "text/plain": [
              "{'apple', 'banana', 'cherry'}"
            ]
          },
          "metadata": {},
          "execution_count": 170
        }
      ]
    },
    {
      "cell_type": "code",
      "source": [
        "for i in fruits:\n",
        "    print(i)"
      ],
      "metadata": {
        "colab": {
          "base_uri": "https://localhost:8080/"
        },
        "id": "Xnp3fPHSXzrv",
        "outputId": "e8fbcc90-b6de-43c4-d12c-2a50c97aa9c5"
      },
      "execution_count": 173,
      "outputs": [
        {
          "output_type": "stream",
          "name": "stdout",
          "text": [
            "cherry\n",
            "banana\n",
            "apple\n"
          ]
        }
      ]
    },
    {
      "cell_type": "code",
      "source": [
        "for i in fruits:\n",
        "    print(i)"
      ],
      "metadata": {
        "colab": {
          "base_uri": "https://localhost:8080/"
        },
        "id": "Yqn3hxP_YBjE",
        "outputId": "a07d22f9-1e69-4beb-82bb-64b920a80c97"
      },
      "execution_count": 174,
      "outputs": [
        {
          "output_type": "stream",
          "name": "stdout",
          "text": [
            "cherry\n",
            "banana\n",
            "apple\n"
          ]
        }
      ]
    },
    {
      "cell_type": "code",
      "source": [
        "for i in fruits:\n",
        "    print(i)"
      ],
      "metadata": {
        "colab": {
          "base_uri": "https://localhost:8080/"
        },
        "id": "WuPRP2BJYIYC",
        "outputId": "148376e5-270a-4962-8f60-2730e4876c2e"
      },
      "execution_count": 175,
      "outputs": [
        {
          "output_type": "stream",
          "name": "stdout",
          "text": [
            "cherry\n",
            "banana\n",
            "apple\n"
          ]
        }
      ]
    },
    {
      "cell_type": "code",
      "source": [
        "tuple1 = (12,1,2)\n",
        "tuple1"
      ],
      "metadata": {
        "colab": {
          "base_uri": "https://localhost:8080/"
        },
        "id": "LjLkYCHGYJGB",
        "outputId": "bea17988-ee6d-4ba6-f461-aedc07101aca"
      },
      "execution_count": 176,
      "outputs": [
        {
          "output_type": "execute_result",
          "data": {
            "text/plain": [
              "(12, 1, 2)"
            ]
          },
          "metadata": {},
          "execution_count": 176
        }
      ]
    },
    {
      "cell_type": "code",
      "source": [],
      "metadata": {
        "id": "FtpIdKLLYeRi"
      },
      "execution_count": null,
      "outputs": []
    }
  ]
}